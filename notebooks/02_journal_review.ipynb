{
 "cells": [
  {
   "cell_type": "code",
   "execution_count": 3,
   "id": "a27bbfa2",
   "metadata": {},
   "outputs": [
    {
     "name": "stdout",
     "output_type": "stream",
     "text": [
      "✅ Loaded 11 reflections and 14 explanations.\n",
      "📊 Analyzing reflections...\n",
      "\n",
      "📈 Analyzing trade explanations...\n",
      "\n",
      "🧠 GPT Reflection Summary:\n",
      "\n",
      "Common Patterns:\n",
      "Looking at the reflection, it seems there is a consistent pattern of \"learning\" mindset followed throughout the trading process, with the exception of the first reflection indicating a \"fearful\" mindset. Furthermore, there's a recurring theme of improvising instead of strictly adhering to established trading rules. They've also continuously been focusing on the lesson, \"how to begin\".\n",
      "\n",
      "Mindset Strengths:\n",
      "The primary strength is the trader's inclination towards a \"learning\" mindset. This mindset is essential as it promotes continuous growth and improvement, necessary for successful trading. It indicates the trader's openness to acquire new knowledge, indicative of flexibility and adaptability.\n",
      "\n",
      "Mindset Weaknesses:\n",
      "The key weakness identified here is the onset of the \"fearful\" mindset. Fear, while sometimes useful to prevent rash decisions, can often negatively affect trading by causing traders to be overly cautious or inducing them to make irrational decisions. It's crucial to manage fear efficiently to ensure it doesn't hinder trading performance.\n",
      "\n",
      "Areas for Improvement:\n",
      "1. Rules Followed: From these reflections, it appears the trader often relies on improvisation. While this can sometimes result in unexpected positive outcomes, it would be more beneficial in the long run to develop and stick to a concrete trading strategy. Relying heavily on improvising may lead to inconsistency in results and may make it more difficult to track performance over time.\n",
      "\n",
      "2. Lesson Focus: While \"how to begin\" is an integral part of trading, focusing heavily on this aspect may limit the scope of learning to broader or more advanced topics. Assuming the trader has already started trading, they may find it more beneficial to focus on lessons involving maintaining composure during market fluctuations, diversifying their portfolio, and developing precise entry and exit strategies.\n",
      "\n",
      "3. Emotional Control: As their mindset shifted from \"fearful\" to \"learning\", it indicates that they could be letting their emotions rule their trading decisions. It might be beneficial for them to work on controlling their fear and focusing on flexible learning.\n",
      "\n",
      "📘 GPT Explanation Summary:\n",
      "\n",
      "Themes: All explanations provided detail a Calendar Call Spread strategy. This strategy involved buying and selling call options of the same strike price but with different expiry dates. \n",
      "\n",
      "Strengths: \n",
      "- A detailed explanation of the strategy, presenting the notion that investors can profit from the difference in time decay between the short and long options.\n",
      "- Emphasis on the role of the underlying stock's price movement in affecting the profitability of the strategy, highlighting the potential risks and rewards involved.\n",
      "- The risks associated with the calendar call spread strategy are outlined, specifically, the impact of significant price movements in either direction and increases in volatility. \n",
      "- Attention drawn to the importance of monitoring changes in market conditions and adjusting the strategy as needed.\n",
      "- The impact of implied volatility is commonly mentioned, providing investors with a deeper understanding of when this strategy could be beneficial.\n",
      "\n",
      "Weaknesses:\n",
      "- The explanations tend to be quite repetitive, going over the same information about calendar call spreads.\n",
      "- There's a lack of variety in the examples provided, with the same SPY ETF being used and similar strike prices and expiry dates being chosen.\n",
      "\n",
      "Improvement Opportunities:\n",
      "- Provide a wider range of examples, showcasing how this strategy can be applied in various different scenarios.\n",
      "- Include a more diverse set of underlying assets (stocks, ETFs, indices).\n",
      "- Demonstrate how the calendar call spread strategy can be adjusted in response to changes in market conditions. For example, what to do if the underlying stock's price moves significantly in one direction or the other.\n",
      "- Discuss how investors can manage the risks associated with this strategy, beyond just monitoring the market and adjusting the strategy. Including ways to mitigate potential losses and enhance potential gains could be useful.\n"
     ]
    }
   ],
   "source": [
    "# 02_journal_review.ipynb\n",
    "import sys\n",
    "sys.path.append(\"../\") \n",
    "import json\n",
    "from src.llm.review_journal import review_reflections, review_explanations\n",
    "\n",
    "# STEP 1: Load journal data\n",
    "with open(\"data/journal.json\", \"r\") as f:\n",
    "    journal = json.load(f)\n",
    "\n",
    "# STEP 2: Extract reflections & explanations\n",
    "reflections = [entry[\"reflections\"] for entry in journal if \"reflections\" in entry]\n",
    "explanations = [entry[\"explanation\"] for entry in journal if \"explanation\" in entry]\n",
    "\n",
    "print(f\"✅ Loaded {len(reflections)} reflections and {len(explanations)} explanations.\")\n",
    "\n",
    "# STEP 3: Call Journal Review Agent (LLM)\n",
    "print(\"📊 Analyzing reflections...\")\n",
    "reflection_summary = review_reflections(reflections)\n",
    "\n",
    "print(\"\\n📈 Analyzing trade explanations...\")\n",
    "explanation_summary = review_explanations(explanations)\n",
    "\n",
    "# STEP 4: Display summary insights\n",
    "print(\"\\n🧠 GPT Reflection Summary:\\n\")\n",
    "print(reflection_summary)\n",
    "\n",
    "print(\"\\n📘 GPT Explanation Summary:\\n\")\n",
    "print(explanation_summary)\n"
   ]
  }
 ],
 "metadata": {
  "kernelspec": {
   "display_name": "Python 3",
   "language": "python",
   "name": "python3"
  },
  "language_info": {
   "codemirror_mode": {
    "name": "ipython",
    "version": 3
   },
   "file_extension": ".py",
   "mimetype": "text/x-python",
   "name": "python",
   "nbconvert_exporter": "python",
   "pygments_lexer": "ipython3",
   "version": "3.10.12"
  }
 },
 "nbformat": 4,
 "nbformat_minor": 5
}
