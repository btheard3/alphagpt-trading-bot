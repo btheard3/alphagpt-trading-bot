{
 "cells": [
  {
   "cell_type": "code",
   "execution_count": 1,
   "metadata": {},
   "outputs": [],
   "source": [
    "import sys\n",
    "sys.path.append(\"../\")  # Enables import from src/ # Adds your project root to the path"
   ]
  },
  {
   "cell_type": "code",
   "execution_count": 2,
   "metadata": {},
   "outputs": [
    {
     "name": "stdout",
     "output_type": "stream",
     "text": [
      "Defaulting to user installation because normal site-packages is not writeable\n",
      "Requirement already satisfied: yfinance in /home/btheard/.local/lib/python3.10/site-packages (0.2.55)\n",
      "Requirement already satisfied: multitasking>=0.0.7 in /home/btheard/.local/lib/python3.10/site-packages (from yfinance) (0.0.11)\n",
      "Requirement already satisfied: numpy>=1.16.5 in /home/btheard/.local/lib/python3.10/site-packages (from yfinance) (2.2.4)\n",
      "Requirement already satisfied: platformdirs>=2.0.0 in /home/btheard/.local/lib/python3.10/site-packages (from yfinance) (4.3.7)\n",
      "Requirement already satisfied: pytz>=2022.5 in /home/btheard/.local/lib/python3.10/site-packages (from yfinance) (2025.2)\n",
      "Requirement already satisfied: requests>=2.31 in /home/btheard/.local/lib/python3.10/site-packages (from yfinance) (2.32.3)\n",
      "Requirement already satisfied: peewee>=3.16.2 in /home/btheard/.local/lib/python3.10/site-packages (from yfinance) (3.17.9)\n",
      "Requirement already satisfied: frozendict>=2.3.4 in /home/btheard/.local/lib/python3.10/site-packages (from yfinance) (2.4.6)\n",
      "Requirement already satisfied: beautifulsoup4>=4.11.1 in /home/btheard/.local/lib/python3.10/site-packages (from yfinance) (4.13.3)\n",
      "Requirement already satisfied: pandas>=1.3.0 in /home/btheard/.local/lib/python3.10/site-packages (from yfinance) (2.2.3)\n",
      "Requirement already satisfied: typing-extensions>=4.0.0 in /home/btheard/.local/lib/python3.10/site-packages (from beautifulsoup4>=4.11.1->yfinance) (4.13.0)\n",
      "Requirement already satisfied: soupsieve>1.2 in /home/btheard/.local/lib/python3.10/site-packages (from beautifulsoup4>=4.11.1->yfinance) (2.6)\n",
      "Requirement already satisfied: python-dateutil>=2.8.2 in /home/btheard/.local/lib/python3.10/site-packages (from pandas>=1.3.0->yfinance) (2.9.0.post0)\n",
      "Requirement already satisfied: tzdata>=2022.7 in /home/btheard/.local/lib/python3.10/site-packages (from pandas>=1.3.0->yfinance) (2025.2)\n",
      "Requirement already satisfied: urllib3<3,>=1.21.1 in /usr/lib/python3/dist-packages (from requests>=2.31->yfinance) (1.26.5)\n",
      "Requirement already satisfied: idna<4,>=2.5 in /usr/lib/python3/dist-packages (from requests>=2.31->yfinance) (3.3)\n",
      "Requirement already satisfied: certifi>=2017.4.17 in /usr/lib/python3/dist-packages (from requests>=2.31->yfinance) (2020.6.20)\n",
      "Requirement already satisfied: charset-normalizer<4,>=2 in /home/btheard/.local/lib/python3.10/site-packages (from requests>=2.31->yfinance) (3.4.1)\n",
      "Requirement already satisfied: six>=1.5 in /usr/lib/python3/dist-packages (from python-dateutil>=2.8.2->pandas>=1.3.0->yfinance) (1.16.0)\n",
      "Note: you may need to restart the kernel to use updated packages.\n"
     ]
    }
   ],
   "source": [
    "# If using pip inside Jupyter:\n",
    "%pip install yfinance"
   ]
  },
  {
   "cell_type": "code",
   "execution_count": 3,
   "metadata": {},
   "outputs": [
    {
     "name": "stdout",
     "output_type": "stream",
     "text": [
      "{'ticker': 'SPY', 'strategy': 'calendar_call', 'strike': 430.0, 'short_exp': '2025-04-10', 'short_price': np.float64(75.2), 'long_exp': '2025-04-11', 'long_price': np.float64(94.13), 'net_debit': np.float64(18.93)}\n",
      "{'ticker': 'SPY', 'strategy': 'calendar_call', 'strike': 480.0, 'short_exp': '2025-04-10', 'short_price': np.float64(23.81), 'long_exp': '2025-04-11', 'long_price': np.float64(25.84), 'net_debit': np.float64(2.03)}\n",
      "{'ticker': 'SPY', 'strategy': 'calendar_call', 'strike': 485.0, 'short_exp': '2025-04-10', 'short_price': np.float64(16.9), 'long_exp': '2025-04-11', 'long_price': np.float64(21.02), 'net_debit': np.float64(4.12)}\n"
     ]
    }
   ],
   "source": [
    "from src.strategies.trade_scanner import scan_calendar_spreads\n",
    "\n",
    "trades = scan_calendar_spreads(\"SPY\")\n",
    "for trade in trades[:3]:\n",
    "    print(trade)\n"
   ]
  },
  {
   "cell_type": "code",
   "execution_count": 4,
   "metadata": {},
   "outputs": [
    {
     "name": "stdout",
     "output_type": "stream",
     "text": [
      "Defaulting to user installation because normal site-packages is not writeable\n",
      "Requirement already satisfied: openai in /home/btheard/.local/lib/python3.10/site-packages (1.69.0)\n",
      "Requirement already satisfied: tqdm>4 in /home/btheard/.local/lib/python3.10/site-packages (from openai) (4.67.1)\n",
      "Requirement already satisfied: anyio<5,>=3.5.0 in /home/btheard/.local/lib/python3.10/site-packages (from openai) (4.9.0)\n",
      "Requirement already satisfied: pydantic<3,>=1.9.0 in /home/btheard/.local/lib/python3.10/site-packages (from openai) (2.11.0)\n",
      "Requirement already satisfied: httpx<1,>=0.23.0 in /home/btheard/.local/lib/python3.10/site-packages (from openai) (0.28.1)\n",
      "Requirement already satisfied: distro<2,>=1.7.0 in /usr/lib/python3/dist-packages (from openai) (1.7.0)\n",
      "Requirement already satisfied: sniffio in /home/btheard/.local/lib/python3.10/site-packages (from openai) (1.3.1)\n",
      "Requirement already satisfied: jiter<1,>=0.4.0 in /home/btheard/.local/lib/python3.10/site-packages (from openai) (0.9.0)\n",
      "Requirement already satisfied: typing-extensions<5,>=4.11 in /home/btheard/.local/lib/python3.10/site-packages (from openai) (4.13.0)\n",
      "Requirement already satisfied: idna>=2.8 in /usr/lib/python3/dist-packages (from anyio<5,>=3.5.0->openai) (3.3)\n",
      "Requirement already satisfied: exceptiongroup>=1.0.2 in /home/btheard/.local/lib/python3.10/site-packages (from anyio<5,>=3.5.0->openai) (1.2.2)\n",
      "Requirement already satisfied: httpcore==1.* in /home/btheard/.local/lib/python3.10/site-packages (from httpx<1,>=0.23.0->openai) (1.0.7)\n",
      "Requirement already satisfied: certifi in /usr/lib/python3/dist-packages (from httpx<1,>=0.23.0->openai) (2020.6.20)\n",
      "Requirement already satisfied: h11<0.15,>=0.13 in /home/btheard/.local/lib/python3.10/site-packages (from httpcore==1.*->httpx<1,>=0.23.0->openai) (0.14.0)\n",
      "Requirement already satisfied: typing-inspection>=0.4.0 in /home/btheard/.local/lib/python3.10/site-packages (from pydantic<3,>=1.9.0->openai) (0.4.0)\n",
      "Requirement already satisfied: pydantic-core==2.33.0 in /home/btheard/.local/lib/python3.10/site-packages (from pydantic<3,>=1.9.0->openai) (2.33.0)\n",
      "Requirement already satisfied: annotated-types>=0.6.0 in /home/btheard/.local/lib/python3.10/site-packages (from pydantic<3,>=1.9.0->openai) (0.7.0)\n",
      "Note: you may need to restart the kernel to use updated packages.\n",
      "Defaulting to user installation because normal site-packages is not writeable\n",
      "Requirement already satisfied: python-dotenv in /home/btheard/.local/lib/python3.10/site-packages (1.1.0)\n",
      "Note: you may need to restart the kernel to use updated packages.\n"
     ]
    }
   ],
   "source": [
    "%pip install openai\n",
    "%pip install python-dotenv\n",
    "\n"
   ]
  },
  {
   "cell_type": "code",
   "execution_count": 5,
   "metadata": {},
   "outputs": [],
   "source": [
    "from openai import OpenAI\n",
    "import os\n",
    "from dotenv import load_dotenv\n",
    "\n",
    "load_dotenv()\n",
    "client = OpenAI(api_key=os.getenv(\"OPENAI_API_KEY\"))\n",
    "\n",
    "def explain_calendar_trade(trade: dict):\n",
    "    prompt = f\"\"\"\n",
    "You are an expert options strategist. Please explain the following calendar spread trade idea to a beginner:\n",
    "\n",
    "Ticker: {trade['ticker']}\n",
    "Strategy: {trade['strategy']}\n",
    "Strike Price: {trade['strike']}\n",
    "Short Expiration: {trade['short_exp']} @ {trade['short_price']}\n",
    "Long Expiration: {trade['long_exp']} @ {trade['long_price']}\n",
    "Net Debit: {trade['net_debit']}\n",
    "\n",
    "Explain the profit potential, risks, and market conditions this trade works best in.\n",
    "    \"\"\"\n",
    "\n",
    "    response = client.chat.completions.create(\n",
    "        model=\"gpt-3.5-turbo\",\n",
    "        messages=[\n",
    "            {\"role\": \"system\", \"content\": \"You are a trading mentor who explains complex ideas in simple terms.\"},\n",
    "            {\"role\": \"user\", \"content\": prompt}\n",
    "        ]\n",
    "    )\n",
    "\n",
    "    return response.choices[0].message.content.strip()\n",
    "\n",
    "\n"
   ]
  },
  {
   "cell_type": "code",
   "execution_count": 6,
   "metadata": {},
   "outputs": [
    {
     "name": "stdout",
     "output_type": "stream",
     "text": [
      "Alright, here's a simple explanation of a calendar call spread trading idea using SPY options:\n",
      "\n",
      "1. **Trade Idea**: You're creating a calendar spread by simultaneously buying and selling call options on the SPDR S&P 500 ETF (SPY) with different expiration dates but the same strike price of $430.\n",
      "\n",
      "2. **Profit Potential**: With this strategy, you aim to profit from the difference in time decay between the two options. If the price of SPY stays relatively stable or makes a small move towards the $430 strike price, the value of the longer-dated call option you bought will increase more than the value of the shorter-dated call option you sold. This difference in price change could lead to a profit.\n",
      "\n",
      "3. **Risks**: The main risk with this strategy is if SPY makes a significant and sudden move in either direction. If the stock price moves far away from the $430 strike price, both options could lose value, resulting in a potential loss for the trade.\n",
      "\n",
      "4. **Market Conditions**: This trade works best in a stable or slightly trending market environment where you expect SPY to remain around the $430 level leading up to the shorter expiration date. It's also beneficial when there's low volatility because time decay is more predictable in such conditions.\n",
      "\n",
      "Remember, options trading involves risks, and it's essential to understand the strategy, market conditions, and potential outcomes before executing any trade. If you're new to options trading, consider practicing with virtual trades or seeking advice from a professional before diving into complex strategies like calendar spreads.\n"
     ]
    }
   ],
   "source": [
    "explanation = explain_calendar_trade(trades[0])\n",
    "print(explanation)\n",
    "\n"
   ]
  },
  {
   "cell_type": "code",
   "execution_count": 7,
   "metadata": {},
   "outputs": [
    {
     "name": "stdout",
     "output_type": "stream",
     "text": [
      "✅ Trade logged at 2025-04-09T08:57:25.017269\n"
     ]
    }
   ],
   "source": [
    "from src.logging.journal_logger import log_trade\n",
    "\n",
    "log_trade(trades[0], explanation)\n"
   ]
  },
  {
   "cell_type": "code",
   "execution_count": 8,
   "metadata": {},
   "outputs": [
    {
     "name": "stdout",
     "output_type": "stream",
     "text": [
      "✅ Trade logged at 2025-04-09T08:57:42.713784\n",
      "Reflections saved: {'mindset': 'learning', 'rules_followed': 'improvise', 'lesson': 'how to begin'}\n"
     ]
    }
   ],
   "source": [
    "from src.logging.journal_logger import log_trade\n",
    "\n",
    "# Ask Mark Douglas-style prompts\n",
    "mindset = input(\"🧠 What was your mindset entering this trade? \")\n",
    "rules_followed = input(\"📘 Did you follow your system or improvise? \")\n",
    "lesson = input(\"🔁 What will you learn from this trade? \")\n",
    "\n",
    "reflections = {\n",
    "    \"mindset\": mindset,\n",
    "    \"rules_followed\": rules_followed,\n",
    "    \"lesson\": lesson\n",
    "}\n",
    "\n",
    "# Log trade + reflection together\n",
    "log_trade(trades[0], explanation, reflections=reflections)\n",
    "\n",
    "\n",
    "print(\"Reflections saved:\", reflections)\n"
   ]
  },
  {
   "cell_type": "code",
   "execution_count": 9,
   "metadata": {},
   "outputs": [
    {
     "name": "stdout",
     "output_type": "stream",
     "text": [
      "✅ AAPL: 50 ideas found\n",
      "✅ TSLA: 134 ideas found\n",
      "✅ SPY: 124 ideas found\n",
      "✅ QQQ: 108 ideas found\n",
      "✅ MSFT: 65 ideas found\n",
      "\n",
      "📈 Total trade ideas: 481\n",
      "{'ticker': 'AAPL', 'strategy': 'calendar_call', 'strike': 110.0, 'short_exp': '2025-04-11', 'short_price': np.float64(65.75), 'long_exp': '2025-04-17', 'long_price': np.float64(61.34), 'net_debit': np.float64(-4.41)}\n",
      "{'ticker': 'AAPL', 'strategy': 'calendar_call', 'strike': 120.0, 'short_exp': '2025-04-11', 'short_price': np.float64(56.9), 'long_exp': '2025-04-17', 'long_price': np.float64(64.6), 'net_debit': np.float64(7.7)}\n",
      "{'ticker': 'AAPL', 'strategy': 'calendar_call', 'strike': 130.0, 'short_exp': '2025-04-11', 'short_price': np.float64(41.9), 'long_exp': '2025-04-17', 'long_price': np.float64(46.9), 'net_debit': np.float64(5.0)}\n",
      "{'ticker': 'AAPL', 'strategy': 'calendar_call', 'strike': 140.0, 'short_exp': '2025-04-11', 'short_price': np.float64(32.9), 'long_exp': '2025-04-17', 'long_price': np.float64(34.5), 'net_debit': np.float64(1.6)}\n",
      "{'ticker': 'AAPL', 'strategy': 'calendar_call', 'strike': 145.0, 'short_exp': '2025-04-11', 'short_price': np.float64(28.4), 'long_exp': '2025-04-17', 'long_price': np.float64(33.6), 'net_debit': np.float64(5.2)}\n"
     ]
    }
   ],
   "source": [
    "# Get trade ideas from the scanner controller\n",
    "from src.strategies.scanner_controller import get_trade_ideas\n",
    "\n",
    "tickers = [\"AAPL\", \"TSLA\", \"SPY\", \"QQQ\", \"MSFT\"]\n",
    "ideas = get_trade_ideas(tickers)\n",
    "\n",
    "for idea in ideas[:5]:\n",
    "    print(idea)\n",
    "\n"
   ]
  },
  {
   "cell_type": "code",
   "execution_count": 10,
   "metadata": {},
   "outputs": [
    {
     "name": "stdout",
     "output_type": "stream",
     "text": [
      "✅ SPY: 124 ideas found\n",
      "✅ QQQ: 108 ideas found\n",
      "✅ AAPL: 50 ideas found\n",
      "✅ TSLA: 134 ideas found\n",
      "✅ MSFT: 65 ideas found\n",
      "✅ NVDA: 56 ideas found\n",
      "✅ AMZN: 51 ideas found\n",
      "✅ GOOGL: 39 ideas found\n",
      "✅ META: 120 ideas found\n",
      "✅ AMD: 51 ideas found\n",
      "✅ NFLX: 107 ideas found\n",
      "✅ INTC: 34 ideas found\n",
      "✅ BA: 41 ideas found\n",
      "✅ BABA: 64 ideas found\n",
      "✅ SHOP: 39 ideas found\n",
      "✅ MU: 42 ideas found\n",
      "✅ TSM: 37 ideas found\n",
      "✅ UBER: 32 ideas found\n",
      "✅ SOFI: 31 ideas found\n",
      "✅ PYPL: 28 ideas found\n",
      "✅ COIN: 64 ideas found\n",
      "✅ JPM: 40 ideas found\n",
      "✅ XLF: 28 ideas found\n",
      "✅ XLE: 38 ideas found\n",
      "✅ XLY: 23 ideas found\n",
      "✅ XLP: 23 ideas found\n",
      "✅ XLI: 28 ideas found\n",
      "✅ XLV: 30 ideas found\n",
      "✅ XLC: 22 ideas found\n",
      "✅ XLU: 27 ideas found\n",
      "✅ ARKK: 40 ideas found\n",
      "✅ TLT: 30 ideas found\n",
      "✅ IWM: 51 ideas found\n",
      "✅ DIA: 72 ideas found\n",
      "✅ GLD: 43 ideas found\n",
      "✅ SLV: 19 ideas found\n",
      "✅ TQQQ: 73 ideas found\n",
      "✅ SQQQ: 53 ideas found\n",
      "✅ RIVN: 26 ideas found\n",
      "✅ DKNG: 37 ideas found\n",
      "✅ PLTR: 50 ideas found\n",
      "✅ PFE: 28 ideas found\n",
      "✅ DIS: 34 ideas found\n",
      "✅ CSCO: 19 ideas found\n",
      "✅ CRM: 40 ideas found\n",
      "✅ ABNB: 37 ideas found\n",
      "✅ BIDU: 48 ideas found\n",
      "✅ MRNA: 40 ideas found\n",
      "✅ WMT: 33 ideas found\n",
      "✅ NIO: 19 ideas found\n",
      "\n",
      "📈 Total trade ideas: 2368\n",
      "{'ticker': 'SPY', 'strategy': 'calendar_call', 'strike': 430.0, 'short_exp': '2025-04-10', 'short_price': np.float64(75.2), 'long_exp': '2025-04-11', 'long_price': np.float64(94.13), 'net_debit': np.float64(18.93)}\n",
      "{'ticker': 'SPY', 'strategy': 'calendar_call', 'strike': 480.0, 'short_exp': '2025-04-10', 'short_price': np.float64(23.81), 'long_exp': '2025-04-11', 'long_price': np.float64(25.84), 'net_debit': np.float64(2.03)}\n",
      "{'ticker': 'SPY', 'strategy': 'calendar_call', 'strike': 485.0, 'short_exp': '2025-04-10', 'short_price': np.float64(16.9), 'long_exp': '2025-04-11', 'long_price': np.float64(21.02), 'net_debit': np.float64(4.12)}\n",
      "{'ticker': 'SPY', 'strategy': 'calendar_call', 'strike': 487.0, 'short_exp': '2025-04-10', 'short_price': np.float64(18.0), 'long_exp': '2025-04-11', 'long_price': np.float64(18.69), 'net_debit': np.float64(0.69)}\n",
      "{'ticker': 'SPY', 'strategy': 'calendar_call', 'strike': 488.0, 'short_exp': '2025-04-10', 'short_price': np.float64(15.02), 'long_exp': '2025-04-11', 'long_price': np.float64(19.59), 'net_debit': np.float64(4.57)}\n"
     ]
    }
   ],
   "source": [
    "from src.strategies.scanner_controller import get_trade_ideas\n",
    "\n",
    "ideas = get_trade_ideas(\"auto\")\n",
    "\n",
    "# Preview top ideas\n",
    "for idea in ideas[:5]:\n",
    "    print(idea)\n"
   ]
  },
  {
   "cell_type": "code",
   "execution_count": 11,
   "metadata": {},
   "outputs": [
    {
     "name": "stdout",
     "output_type": "stream",
     "text": [
      "\n",
      "📊 Trade Explanation:\n",
      " Sure, let's break this down.\n",
      "\n",
      "First, let me explain what a calendar spread is. It's an options strategy that involves buying and selling two options with the same strike price but different expiration dates. In this case, we are using calls, hence the name \"calendar call spread.\"\n",
      "\n",
      "The ticker \"SPY\" means that this trade is being made with SPY, which is an ETF that tracks the S&P 500 index. \n",
      "\n",
      "The strike price is the price at which the owner of the option can buy or sell the underlying asset. In this case, the strike price is $430. \n",
      "\n",
      "Here's what's happening in this trade: \n",
      "You are selling (or \"writing\") a call option that expires on April 10, 2025, and buying a call option that expires the next day, April 11, 2025. The option you're selling is priced at $75.2, and the one you're buying costs $94.13. The difference between these two prices is called the \"net debit,\" which is $18.93 in this case. \n",
      "\n",
      "Now, let's talk about profit potential, risks, and ideal market conditions:\n",
      "\n",
      "Profit Potential: \n",
      "Your maximum profit occurs if SPY is at the strike price of $430 on the short call's expiration date. This is because the short call you sold would expire worthless (allowing you to keep the premium you received when you sold it), and the long call you bought would still have one day of remaining time value.\n",
      "\n",
      "Risks: \n",
      "Your maximum risk is the initial net debit of $18.93 you paid to enter the trade. This would happen if SPY is significantly above or below the strike price at the expiration of the short call. In either case, both the short call and the long call would be worthless.\n",
      "\n",
      "Market Conditions: \n",
      "This strategy works best in a market that is expected to be relatively flat or slightly bullish. You want the price to stay near the strike price until the short call expires. After that, you would like it to increase to benefit from the remaining long call.\n",
      "\n",
      "Remember, while options can offer interesting strategies, they also come with significant risks. Always understand what you're investing in and how it fits into your overall strategy.\n",
      "✅ Trade logged at 2025-04-09T08:58:42.416409\n",
      "✅ Trade and reflections saved.\n",
      "\n",
      "📊 Trade Explanation:\n",
      " Sure, I'd be happy to explain this to you. \n",
      "\n",
      "First, let's break down what a calendar spread is. A calendar spread involves buying and selling two options of the same type (in this case, calls), same strike price (in this case, 480), but with different expiration dates. \n",
      "\n",
      "In this specific trade, you are selling (or \"writing\") a call option on the SPY (which is an ETF that tracks the S&P 500 index) that expires on April 10, 2025, and buying a call option that expires a day later, on April 11, 2025. \n",
      "\n",
      "The price of the option you are selling is 23.81, and the price of the option you are buying is 25.84. The difference between these two prices is the \"net debit\" of 2.03. This means you are paying $2.03 for this spread.\n",
      "\n",
      "Now, let's discuss the profit potential, risks, and optimal market conditions:\n",
      "\n",
      "1. Profit Potential: The maximum profit is achieved if the SPY is at the strike price of 480.0 at the expiration of the short call option (April 10, 2025). The profit will be the premium received from the sold call minus the cost of the long call plus the difference in the strike price and the stock price, if any.\n",
      "\n",
      "2. Risks: The maximum risk is the initial debit spread you paid (2.03). You'd lose this amount if the SPY price is significantly above or below the strike price at the expiration of the short call. \n",
      "\n",
      "3. Optimal Market Conditions: This strategy works best in a market where the price of the underlying asset (in this case, SPY) is expected to stay relatively stable and near the strike price of the options. It also benefits from an increase in implied volatility because the longer-dated option you own will increase in price more than the short-dated option you sold.\n",
      "\n",
      "Keep in mind that options trading involves significant risk and isn't appropriate for every investor. Be sure to fully understand the trade and your risk tolerance before getting involved.\n",
      "✅ Trade logged at 2025-04-09T08:59:14.737120\n",
      "✅ Trade and reflections saved.\n",
      "\n",
      "📊 Trade Explanation:\n",
      " Sure, I'd be happy to break this down into simpler terms.\n",
      "\n",
      "First, let's understand what a calendar spread is. It's an options strategy involving buying and selling of two options of the same type (calls in this case), the same strike price (485.0 in this case), but different expiration dates.\n",
      "\n",
      "Here, you are selling a call option on SPY (the ticker, or stock, in question) that expires on April 10, 2025, and buying another call option on the same stock that expires a day later, on April 11, 2025. The prices (or premiums) for these options are $16.9 and $21.02 respectively. The difference in these prices, $4.12, is called the net debit, which is the initial cost of the trade.\n",
      "\n",
      "Profit potential: The maximum profit potential is achieved if SPY is exactly at the strike price of $485.0 at the short call's expiration. Any increase in implied volatility would also increase the price of the options, thus increasing the spread's value.\n",
      "\n",
      "Risks: The maximum risk is the initial cost of the trade, the net debit of $4.12. This would occur if SPY is significantly above or below the strike price at the short call's expiration because both options would be either deep in-the-money or out-of-the-money and the spread between them would be minimal.\n",
      "\n",
      "Market conditions: This strategy works best in a market where the price of the underlying asset (SPY) is expected to remain relatively stable, and when there are expectations of an increase in implied volatility. This could be around earnings announcements or economic events, which might cause a spike in volatility, but not necessarily a large move in the stock price.\n",
      "✅ Trade logged at 2025-04-09T08:59:57.024460\n",
      "✅ Trade and reflections saved.\n",
      "\n",
      "📊 Trade Explanation:\n",
      " Sure, I'd be happy to explain this trade idea. \n",
      "\n",
      "This is a Calendar Call Spread, which is an options strategy that involves buying and selling two call options of the same strike price but with different expiration dates. \n",
      "\n",
      "Here's how it works:\n",
      "\n",
      "1. You're selling (or \"writing\") a call option on the SPY ticker with a strike price of 487.0 that expires on April 10, 2025. You receive a premium of $18.00 for this. \n",
      "\n",
      "2. At the same time, you're buying a call option with the same strike price of 487.0 that expires a day later on April 11, 2025. This costs you a premium of $18.69.\n",
      "\n",
      "The net cost (or \"net debit\") for entering this trade is the difference between these two premiums, which is $0.69.\n",
      "\n",
      "Now, let's talk about profit potential, risks, and market conditions.\n",
      "\n",
      "**Profit Potential:** Your maximum potential profit is generally the premium received from the short call option minus the premium paid for the long call option. However, because this spread involves options with different expiration dates, the profit can potentially be higher if the underlying security (SPY in this case) is near the strike price at the expiration of the short-term option.\n",
      "\n",
      "**Risks:** The risk in a Calendar Call Spread is limited to the net debit you paid to enter the trade, which is $0.69 in this case. This would happen if the underlying security (SPY) is below the strike price at the expiration of the long-term option.\n",
      "\n",
      "**Market Conditions:** This strategy works best in a market where the underlying security is expected to be somewhat volatile, but ultimately end up near the strike price around the expiration of the short-term option. Since you're selling an option and buying another with a later expiration, you would benefit from an increase in implied volatility. \n",
      "\n",
      "I hope this explanation helps! Let me know if you have any other questions.\n",
      "✅ Trade logged at 2025-04-09T09:00:28.000701\n",
      "✅ Trade and reflections saved.\n",
      "\n",
      "📊 Trade Explanation:\n",
      " Sure, let's break down this trade idea:\n",
      "\n",
      "First, let's understand what a calendar spread is. It's an options strategy that involves buying and selling two options of the same type (calls in this case), same strike price (488.0 in this case), but with different expiration dates. The \"Short Expiration\" is the option you're selling and the \"Long Expiration\" is the option you're buying. \n",
      "\n",
      "In this particular trade, you're selling a call option on the SPY (which is an ETF that tracks the S&P 500) with a strike price of 488.0 that expires on April 10, 2025, and at the same time, you're buying a call option with the same strike price that expires a day later, on April 11, 2025. The difference in their prices is what you pay to enter the trade, which is called the \"net debit\" and is 4.57 in this scenario.\n",
      "\n",
      "Now, let's talk about profit potential. The maximum profit for this trade is achieved if SPY is exactly at the strike price of 488.0 at the short call's expiration. At that point, the short call you sold would be worthless (since it's right at the money and has no time left), but the long call you bought would still have value because it has one more day until it expires. The profit would be the value of the long call minus the net debit you paid to enter the trade.\n",
      "\n",
      "As for the risks, the maximum loss would occur if SPY is significantly above or below the strike price at the short call's expiration. If SPY is significantly below 488.0, both options would be worthless and you'd lose the net debit you paid. If SPY is significantly above 488.0, both options would be in the money, but the short call you sold would be more expensive to buy back than what you'd gain from the long call, resulting in a loss equal to the net debit.\n",
      "\n",
      "This trade works best in markets where you expect the underlying asset (SPY in this case) to stay near a certain price (the strike price) over a certain period of time. It also benefits from an increase in implied volatility, because that increases the value of the long call relative to the short call.\n",
      "\n",
      "Remember, options trading involves significant risk and isn't suitable for every investor. It's important to understand these concepts thoroughly and consider your own risk tolerance before getting into such trades.\n",
      "✅ Trade logged at 2025-04-09T09:01:05.196304\n",
      "✅ Trade and reflections saved.\n"
     ]
    }
   ],
   "source": [
    "## Step 3: Explain Top Trades & Journal\n",
    "from src.llm.explain_trade import explain_calendar_trade\n",
    "from src.logging.journal_logger import log_trade\n",
    "\n",
    "# Optional: limit how many trades to auto-explain + journal\n",
    "top_trades = ideas[:5]  # or whatever number you prefer\n",
    "\n",
    "for trade in top_trades:\n",
    "    # STEP 1: Generate explanation using GPT\n",
    "    explanation = explain_calendar_trade(trade)\n",
    "    print(\"\\n📊 Trade Explanation:\\n\", explanation)\n",
    "\n",
    "    # STEP 2: Prompt user for reflections\n",
    "    mindset = input(\"🧠 What was your mindset entering this trade? \")\n",
    "    rules_followed = input(\"🔷 Did you follow your system or improvise? \")\n",
    "    lesson = input(\"📘 What will you learn from this trade? \")\n",
    "\n",
    "    reflections = {\n",
    "        \"mindset\": mindset,\n",
    "        \"rules_followed\": rules_followed,\n",
    "        \"lesson\": lesson\n",
    "    }\n",
    "\n",
    "    # STEP 3: Log it all into the journal\n",
    "    log_trade(trade, explanation, reflections)\n",
    "\n",
    "    print(\"✅ Trade and reflections saved.\")\n"
   ]
  }
 ],
 "metadata": {
  "kernelspec": {
   "display_name": "Python 3",
   "language": "python",
   "name": "python3"
  },
  "language_info": {
   "codemirror_mode": {
    "name": "ipython",
    "version": 3
   },
   "file_extension": ".py",
   "mimetype": "text/x-python",
   "name": "python",
   "nbconvert_exporter": "python",
   "pygments_lexer": "ipython3",
   "version": "3.10.12"
  }
 },
 "nbformat": 4,
 "nbformat_minor": 2
}
