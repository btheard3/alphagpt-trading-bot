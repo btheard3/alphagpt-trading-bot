{
 "cells": [
  {
   "cell_type": "code",
   "execution_count": 1,
   "metadata": {},
   "outputs": [],
   "source": [
    "import sys\n",
    "sys.path.append(\"../\")  # Enables import from src/ # Adds your project root to the path"
   ]
  },
  {
   "cell_type": "code",
   "execution_count": 2,
   "metadata": {},
   "outputs": [
    {
     "name": "stdout",
     "output_type": "stream",
     "text": [
      "Defaulting to user installation because normal site-packages is not writeable\n",
      "Requirement already satisfied: yfinance in /home/btheard/.local/lib/python3.10/site-packages (0.2.55)\n",
      "Requirement already satisfied: beautifulsoup4>=4.11.1 in /home/btheard/.local/lib/python3.10/site-packages (from yfinance) (4.13.3)\n",
      "Requirement already satisfied: multitasking>=0.0.7 in /home/btheard/.local/lib/python3.10/site-packages (from yfinance) (0.0.11)\n",
      "Requirement already satisfied: numpy>=1.16.5 in /home/btheard/.local/lib/python3.10/site-packages (from yfinance) (2.2.4)\n",
      "Requirement already satisfied: pandas>=1.3.0 in /home/btheard/.local/lib/python3.10/site-packages (from yfinance) (2.2.3)\n",
      "Requirement already satisfied: platformdirs>=2.0.0 in /home/btheard/.local/lib/python3.10/site-packages (from yfinance) (4.3.7)\n",
      "Requirement already satisfied: frozendict>=2.3.4 in /home/btheard/.local/lib/python3.10/site-packages (from yfinance) (2.4.6)\n",
      "Requirement already satisfied: peewee>=3.16.2 in /home/btheard/.local/lib/python3.10/site-packages (from yfinance) (3.17.9)\n",
      "Requirement already satisfied: requests>=2.31 in /home/btheard/.local/lib/python3.10/site-packages (from yfinance) (2.32.3)\n",
      "Requirement already satisfied: pytz>=2022.5 in /home/btheard/.local/lib/python3.10/site-packages (from yfinance) (2025.2)\n",
      "Requirement already satisfied: soupsieve>1.2 in /home/btheard/.local/lib/python3.10/site-packages (from beautifulsoup4>=4.11.1->yfinance) (2.6)\n",
      "Requirement already satisfied: typing-extensions>=4.0.0 in /home/btheard/.local/lib/python3.10/site-packages (from beautifulsoup4>=4.11.1->yfinance) (4.13.0)\n",
      "Requirement already satisfied: tzdata>=2022.7 in /home/btheard/.local/lib/python3.10/site-packages (from pandas>=1.3.0->yfinance) (2025.2)\n",
      "Requirement already satisfied: python-dateutil>=2.8.2 in /home/btheard/.local/lib/python3.10/site-packages (from pandas>=1.3.0->yfinance) (2.9.0.post0)\n",
      "Requirement already satisfied: urllib3<3,>=1.21.1 in /usr/lib/python3/dist-packages (from requests>=2.31->yfinance) (1.26.5)\n",
      "Requirement already satisfied: idna<4,>=2.5 in /usr/lib/python3/dist-packages (from requests>=2.31->yfinance) (3.3)\n",
      "Requirement already satisfied: certifi>=2017.4.17 in /usr/lib/python3/dist-packages (from requests>=2.31->yfinance) (2020.6.20)\n",
      "Requirement already satisfied: charset-normalizer<4,>=2 in /home/btheard/.local/lib/python3.10/site-packages (from requests>=2.31->yfinance) (3.4.1)\n",
      "Requirement already satisfied: six>=1.5 in /usr/lib/python3/dist-packages (from python-dateutil>=2.8.2->pandas>=1.3.0->yfinance) (1.16.0)\n",
      "Note: you may need to restart the kernel to use updated packages.\n"
     ]
    }
   ],
   "source": [
    "# If using pip inside Jupyter:\n",
    "%pip install yfinance"
   ]
  },
  {
   "cell_type": "code",
   "execution_count": 3,
   "metadata": {},
   "outputs": [
    {
     "name": "stdout",
     "output_type": "stream",
     "text": [
      "{'ticker': 'SPY', 'strategy': 'calendar_call', 'strike': 420.0, 'short_exp': '2025-04-24', 'short_price': np.float64(119.05), 'long_exp': '2025-04-25', 'long_price': np.float64(119.25), 'net_debit': np.float64(0.2)}\n",
      "{'ticker': 'SPY', 'strategy': 'calendar_call', 'strike': 465.0, 'short_exp': '2025-04-24', 'short_price': np.float64(60.3), 'long_exp': '2025-04-25', 'long_price': np.float64(75.92), 'net_debit': np.float64(15.62)}\n",
      "{'ticker': 'SPY', 'strategy': 'calendar_call', 'strike': 470.0, 'short_exp': '2025-04-24', 'short_price': np.float64(56.42), 'long_exp': '2025-04-25', 'long_price': np.float64(72.0), 'net_debit': np.float64(15.58)}\n"
     ]
    }
   ],
   "source": [
    "from src.strategies.trade_scanner import scan_calendar_spreads\n",
    "\n",
    "trades = scan_calendar_spreads(\"SPY\")\n",
    "for trade in trades[:3]:\n",
    "    print(trade)\n"
   ]
  },
  {
   "cell_type": "code",
   "execution_count": 4,
   "metadata": {},
   "outputs": [
    {
     "name": "stdout",
     "output_type": "stream",
     "text": [
      "Defaulting to user installation because normal site-packages is not writeable\n",
      "Requirement already satisfied: openai in /home/btheard/.local/lib/python3.10/site-packages (1.69.0)\n",
      "Requirement already satisfied: typing-extensions<5,>=4.11 in /home/btheard/.local/lib/python3.10/site-packages (from openai) (4.13.0)\n",
      "Requirement already satisfied: jiter<1,>=0.4.0 in /home/btheard/.local/lib/python3.10/site-packages (from openai) (0.9.0)\n",
      "Requirement already satisfied: httpx<1,>=0.23.0 in /home/btheard/.local/lib/python3.10/site-packages (from openai) (0.28.1)\n",
      "Requirement already satisfied: pydantic<3,>=1.9.0 in /home/btheard/.local/lib/python3.10/site-packages (from openai) (2.11.0)\n",
      "Requirement already satisfied: tqdm>4 in /home/btheard/.local/lib/python3.10/site-packages (from openai) (4.67.1)\n",
      "Requirement already satisfied: distro<2,>=1.7.0 in /usr/lib/python3/dist-packages (from openai) (1.7.0)\n",
      "Requirement already satisfied: sniffio in /home/btheard/.local/lib/python3.10/site-packages (from openai) (1.3.1)\n",
      "Requirement already satisfied: anyio<5,>=3.5.0 in /home/btheard/.local/lib/python3.10/site-packages (from openai) (4.9.0)\n",
      "Requirement already satisfied: idna>=2.8 in /usr/lib/python3/dist-packages (from anyio<5,>=3.5.0->openai) (3.3)\n",
      "Requirement already satisfied: exceptiongroup>=1.0.2 in /home/btheard/.local/lib/python3.10/site-packages (from anyio<5,>=3.5.0->openai) (1.2.2)\n",
      "Requirement already satisfied: certifi in /usr/lib/python3/dist-packages (from httpx<1,>=0.23.0->openai) (2020.6.20)\n",
      "Requirement already satisfied: httpcore==1.* in /home/btheard/.local/lib/python3.10/site-packages (from httpx<1,>=0.23.0->openai) (1.0.7)\n",
      "Requirement already satisfied: h11<0.15,>=0.13 in /home/btheard/.local/lib/python3.10/site-packages (from httpcore==1.*->httpx<1,>=0.23.0->openai) (0.14.0)\n",
      "Requirement already satisfied: pydantic-core==2.33.0 in /home/btheard/.local/lib/python3.10/site-packages (from pydantic<3,>=1.9.0->openai) (2.33.0)\n",
      "Requirement already satisfied: annotated-types>=0.6.0 in /home/btheard/.local/lib/python3.10/site-packages (from pydantic<3,>=1.9.0->openai) (0.7.0)\n",
      "Requirement already satisfied: typing-inspection>=0.4.0 in /home/btheard/.local/lib/python3.10/site-packages (from pydantic<3,>=1.9.0->openai) (0.4.0)\n",
      "Note: you may need to restart the kernel to use updated packages.\n",
      "Defaulting to user installation because normal site-packages is not writeable\n",
      "Requirement already satisfied: python-dotenv in /home/btheard/.local/lib/python3.10/site-packages (1.1.0)\n",
      "Note: you may need to restart the kernel to use updated packages.\n"
     ]
    }
   ],
   "source": [
    "%pip install openai\n",
    "%pip install python-dotenv\n",
    "\n"
   ]
  },
  {
   "cell_type": "code",
   "execution_count": 5,
   "metadata": {},
   "outputs": [],
   "source": [
    "from openai import OpenAI\n",
    "import os\n",
    "from dotenv import load_dotenv\n",
    "\n",
    "load_dotenv()\n",
    "client = OpenAI(api_key=os.getenv(\"OPENAI_API_KEY\"))\n",
    "\n",
    "def explain_calendar_trade(trade: dict):\n",
    "    prompt = f\"\"\"\n",
    "You are an expert options strategist. Please explain the following calendar spread trade idea to a beginner:\n",
    "\n",
    "Ticker: {trade['ticker']}\n",
    "Strategy: {trade['strategy']}\n",
    "Strike Price: {trade['strike']}\n",
    "Short Expiration: {trade['short_exp']} @ {trade['short_price']}\n",
    "Long Expiration: {trade['long_exp']} @ {trade['long_price']}\n",
    "Net Debit: {trade['net_debit']}\n",
    "\n",
    "Explain the profit potential, risks, and market conditions this trade works best in.\n",
    "    \"\"\"\n",
    "\n",
    "    response = client.chat.completions.create(\n",
    "        model=\"gpt-3.5-turbo\",\n",
    "        messages=[\n",
    "            {\"role\": \"system\", \"content\": \"You are a trading mentor who explains complex ideas in simple terms.\"},\n",
    "            {\"role\": \"user\", \"content\": prompt}\n",
    "        ]\n",
    "    )\n",
    "\n",
    "    return response.choices[0].message.content.strip()\n",
    "\n",
    "\n"
   ]
  },
  {
   "cell_type": "code",
   "execution_count": 6,
   "metadata": {},
   "outputs": [
    {
     "name": "stdout",
     "output_type": "stream",
     "text": [
      "Alright, let's break it down in simple terms for you:\n",
      "\n",
      "1. **Calendar Spread Trade Idea**: It's like buying and selling two call options on the same stock (SPY) but with different expiration dates.\n",
      "\n",
      "2. **Strike Price**: This is the price at which you can buy the stock if you decide to exercise your right to do so.\n",
      "\n",
      "3. **Short Expiration**: You're selling a call option that expires on April 24, 2025, at a price of $119.05.\n",
      "\n",
      "4. **Long Expiration**: You're buying a call option that expires on April 25, 2025, at a price of $119.25.\n",
      "\n",
      "5. **Net Debit**: You paid a net cost of $0.20 for this trade.\n",
      "\n",
      "6. **Profit Potential**: If SPY stays relatively stable until April 24, you can profit from the difference in decay rates between the two options, with the option you sold losing value faster than the one you bought.\n",
      "\n",
      "7. **Risks**: If SPY moves significantly in either direction, you could incur losses. Also, if volatility increases sharply, it could negatively impact this trade.\n",
      "\n",
      "8. **Market Conditions**: This trade works best in a low to moderate volatility environment where you expect the stock price to remain relatively stable in the short term.\n",
      "\n",
      "In essence, with this calendar call spread, you are betting on minimal movement in the stock price over a short period while taking advantage of the difference in time decay rates between the two options you hold. Just keep an eye on changing market conditions and how they may affect the trade.\n"
     ]
    }
   ],
   "source": [
    "explanation = explain_calendar_trade(trades[0])\n",
    "print(explanation)\n",
    "\n"
   ]
  },
  {
   "cell_type": "code",
   "execution_count": 7,
   "metadata": {},
   "outputs": [
    {
     "name": "stdout",
     "output_type": "stream",
     "text": [
      "✅ Trade logged at 2025-04-23T21:30:59.253469\n"
     ]
    }
   ],
   "source": [
    "from src.logging.journal_logger import log_trade\n",
    "\n",
    "log_trade(trades[0], explanation)\n"
   ]
  },
  {
   "cell_type": "code",
   "execution_count": 8,
   "metadata": {},
   "outputs": [
    {
     "name": "stdout",
     "output_type": "stream",
     "text": [
      "✅ Trade logged at 2025-04-23T21:31:24.595034\n",
      "Reflections saved: {'mindset': 'learning', 'rules_followed': 'improvise', 'lesson': 'how to trade'}\n"
     ]
    }
   ],
   "source": [
    "from src.logging.journal_logger import log_trade\n",
    "\n",
    "# Ask Mark Douglas-style prompts\n",
    "mindset = input(\"🧠 What was your mindset entering this trade? \")\n",
    "rules_followed = input(\"📘 Did you follow your system or improvise? \")\n",
    "lesson = input(\"🔁 What will you learn from this trade? \")\n",
    "\n",
    "reflections = {\n",
    "    \"mindset\": mindset,\n",
    "    \"rules_followed\": rules_followed,\n",
    "    \"lesson\": lesson\n",
    "}\n",
    "\n",
    "# Log trade + reflection together\n",
    "log_trade(trades[0], explanation, reflections=reflections)\n",
    "\n",
    "\n",
    "print(\"Reflections saved:\", reflections)\n"
   ]
  },
  {
   "cell_type": "code",
   "execution_count": 9,
   "metadata": {},
   "outputs": [
    {
     "name": "stdout",
     "output_type": "stream",
     "text": [
      "✅ AAPL: 50 ideas found\n",
      "✅ TSLA: 78 ideas found\n",
      "✅ SPY: 116 ideas found\n",
      "✅ QQQ: 97 ideas found\n",
      "✅ MSFT: 55 ideas found\n",
      "\n",
      "📈 Total trade ideas: 396\n",
      "{'ticker': 'AAPL', 'strategy': 'calendar_call', 'strike': 110.0, 'short_exp': '2025-04-25', 'short_price': np.float64(81.42), 'long_exp': '2025-05-02', 'long_price': np.float64(93.93), 'net_debit': np.float64(12.51)}\n",
      "{'ticker': 'AAPL', 'strategy': 'calendar_call', 'strike': 120.0, 'short_exp': '2025-04-25', 'short_price': np.float64(84.4), 'long_exp': '2025-05-02', 'long_price': np.float64(83.97), 'net_debit': np.float64(-0.43)}\n",
      "{'ticker': 'AAPL', 'strategy': 'calendar_call', 'strike': 125.0, 'short_exp': '2025-04-25', 'short_price': np.float64(80.05), 'long_exp': '2025-05-02', 'long_price': np.float64(75.17), 'net_debit': np.float64(-4.88)}\n",
      "{'ticker': 'AAPL', 'strategy': 'calendar_call', 'strike': 130.0, 'short_exp': '2025-04-25', 'short_price': np.float64(76.78), 'long_exp': '2025-05-02', 'long_price': np.float64(69.35), 'net_debit': np.float64(-7.43)}\n",
      "{'ticker': 'AAPL', 'strategy': 'calendar_call', 'strike': 135.0, 'short_exp': '2025-04-25', 'short_price': np.float64(72.72), 'long_exp': '2025-05-02', 'long_price': np.float64(56.83), 'net_debit': np.float64(-15.89)}\n"
     ]
    }
   ],
   "source": [
    "# Get trade ideas from the scanner controller\n",
    "from src.strategies.scanner_controller import get_trade_ideas\n",
    "\n",
    "tickers = [\"AAPL\", \"TSLA\", \"SPY\", \"QQQ\", \"MSFT\"]\n",
    "ideas = get_trade_ideas(tickers)\n",
    "\n",
    "for idea in ideas[:5]:\n",
    "    print(idea)\n",
    "\n"
   ]
  },
  {
   "cell_type": "code",
   "execution_count": 10,
   "metadata": {},
   "outputs": [
    {
     "name": "stdout",
     "output_type": "stream",
     "text": [
      "✅ SPY: 116 ideas found\n",
      "✅ QQQ: 97 ideas found\n",
      "✅ AAPL: 50 ideas found\n",
      "✅ TSLA: 78 ideas found\n",
      "✅ MSFT: 55 ideas found\n",
      "✅ NVDA: 83 ideas found\n",
      "✅ AMZN: 47 ideas found\n",
      "✅ GOOGL: 47 ideas found\n",
      "✅ META: 103 ideas found\n",
      "✅ AMD: 63 ideas found\n",
      "✅ NFLX: 108 ideas found\n",
      "✅ INTC: 39 ideas found\n",
      "✅ BA: 39 ideas found\n",
      "✅ BABA: 80 ideas found\n",
      "✅ SHOP: 54 ideas found\n",
      "✅ MU: 72 ideas found\n",
      "✅ TSM: 46 ideas found\n",
      "✅ UBER: 36 ideas found\n",
      "✅ SOFI: 29 ideas found\n",
      "✅ PYPL: 36 ideas found\n",
      "✅ COIN: 46 ideas found\n",
      "✅ JPM: 37 ideas found\n",
      "✅ XLF: 29 ideas found\n",
      "✅ XLE: 41 ideas found\n",
      "✅ XLY: 24 ideas found\n",
      "✅ XLP: 21 ideas found\n",
      "✅ XLI: 30 ideas found\n",
      "✅ XLV: 30 ideas found\n",
      "✅ XLC: 20 ideas found\n",
      "✅ XLU: 24 ideas found\n",
      "✅ ARKK: 40 ideas found\n",
      "✅ TLT: 29 ideas found\n",
      "✅ IWM: 48 ideas found\n",
      "✅ DIA: 86 ideas found\n",
      "✅ GLD: 46 ideas found\n",
      "✅ SLV: 18 ideas found\n",
      "✅ TQQQ: 72 ideas found\n",
      "✅ SQQQ: 55 ideas found\n",
      "✅ RIVN: 23 ideas found\n",
      "✅ DKNG: 27 ideas found\n",
      "✅ PLTR: 67 ideas found\n",
      "✅ PFE: 28 ideas found\n",
      "✅ DIS: 44 ideas found\n",
      "✅ CSCO: 19 ideas found\n",
      "✅ CRM: 33 ideas found\n",
      "✅ ABNB: 43 ideas found\n",
      "✅ BIDU: 53 ideas found\n",
      "✅ MRNA: 35 ideas found\n",
      "✅ WMT: 35 ideas found\n",
      "✅ NIO: 19 ideas found\n",
      "\n",
      "📈 Total trade ideas: 2400\n",
      "{'ticker': 'SPY', 'strategy': 'calendar_call', 'strike': 420.0, 'short_exp': '2025-04-24', 'short_price': np.float64(119.05), 'long_exp': '2025-04-25', 'long_price': np.float64(119.25), 'net_debit': np.float64(0.2)}\n",
      "{'ticker': 'SPY', 'strategy': 'calendar_call', 'strike': 465.0, 'short_exp': '2025-04-24', 'short_price': np.float64(60.3), 'long_exp': '2025-04-25', 'long_price': np.float64(75.92), 'net_debit': np.float64(15.62)}\n",
      "{'ticker': 'SPY', 'strategy': 'calendar_call', 'strike': 470.0, 'short_exp': '2025-04-24', 'short_price': np.float64(56.42), 'long_exp': '2025-04-25', 'long_price': np.float64(72.0), 'net_debit': np.float64(15.58)}\n",
      "{'ticker': 'SPY', 'strategy': 'calendar_call', 'strike': 479.0, 'short_exp': '2025-04-24', 'short_price': np.float64(45.84), 'long_exp': '2025-04-25', 'long_price': np.float64(43.81), 'net_debit': np.float64(-2.03)}\n",
      "{'ticker': 'SPY', 'strategy': 'calendar_call', 'strike': 480.0, 'short_exp': '2025-04-24', 'short_price': np.float64(58.42), 'long_exp': '2025-04-25', 'long_price': np.float64(56.72), 'net_debit': np.float64(-1.7)}\n"
     ]
    }
   ],
   "source": [
    "from src.strategies.scanner_controller import get_trade_ideas\n",
    "\n",
    "ideas = get_trade_ideas(\"auto\")\n",
    "\n",
    "# Preview top ideas\n",
    "for idea in ideas[:5]:\n",
    "    print(idea)\n"
   ]
  },
  {
   "cell_type": "code",
   "execution_count": 11,
   "metadata": {},
   "outputs": [
    {
     "name": "stdout",
     "output_type": "stream",
     "text": [
      "\n",
      "📊 Trade Explanation:\n",
      " Okay, let me simplify this for you.\n",
      "\n",
      "First, let's understand what a Calendar Call Spread is. It's a strategy where you sell and buy the same number of call options but the ones you sell have an earlier expiration date than the ones you buy. In this trade idea, we are looking at the SPY ticker, which is an ETF that tracks the S&P 500 index, a benchmark for U.S. stocks.\n",
      "\n",
      "Let's talk about the specifics of this trade:\n",
      "\n",
      "- You're selling a call option with a strike price of $420, expiring on April 24, 2025. This is the 'Short Call'.\n",
      "- You're buying a call option also with a strike price of $420, but expiring a day later on April 25, 2025. This is the 'Long Call'.\n",
      "- The prices of these options are $119.05 and $119.25 respectively. Therefore, you're paying a 'net debit' of $0.20 (because you pay more for the option you buy than what you receive for the option you sell).\n",
      "\n",
      "Now, let's discuss the profit potential, risks, and best market conditions for this trade.\n",
      "\n",
      "Profit Potential: Your maximum profit is achieved if the SPY price is at the strike price ($420) at the expiration of the short call (April 24, 2025). Any increase in the price of the SPY after this date benefits the long call, which still has time before it expires.\n",
      "\n",
      "Risks: The maximum risk is the net debit you paid to enter the trade ($0.20). This happens if the price of SPY is significantly above or below the strike price at the expiration of the long call.\n",
      "\n",
      "Best Market Conditions: This strategy works best in a market with low volatility (i.e., the price isn't making large, rapid swings). That's because high volatility can increase the price of the option you bought, making it more expensive and cutting into your potential profits.\n",
      "\n",
      "In a nutshell: You're betting that the price of SPY will stay relatively steady around $420 until April 24, 2025, but that you'll be able to make a profit if the price increases after that date. Your risk is limited to the $0.20 you paid to enter the trade.\n",
      "✅ Trade logged at 2025-04-23T21:32:40.936099\n",
      "✅ Trade and reflections saved.\n"
     ]
    }
   ],
   "source": [
    "## Step 3: Explain Top Trades & Journal\n",
    "from src.llm.explain_trade import explain_calendar_trade\n",
    "from src.logging.journal_logger import log_trade\n",
    "\n",
    "# Optional: limit how many trades to auto-explain + journal\n",
    "top_trades = ideas[:1]  # or whatever number you prefer\n",
    "\n",
    "for trade in top_trades:\n",
    "    # STEP 1: Generate explanation using GPT\n",
    "    explanation = explain_calendar_trade(trade)\n",
    "    print(\"\\n📊 Trade Explanation:\\n\", explanation)\n",
    "\n",
    "    # STEP 2: Prompt user for reflections\n",
    "    mindset = input(\"🧠 What was your mindset entering this trade? \")\n",
    "    rules_followed = input(\"🔷 Did you follow your system or improvise? \")\n",
    "    lesson = input(\"📘 What will you learn from this trade? \")\n",
    "\n",
    "    reflections = {\n",
    "        \"mindset\": mindset,\n",
    "        \"rules_followed\": rules_followed,\n",
    "        \"lesson\": lesson\n",
    "    }\n",
    "\n",
    "    # STEP 3: Log it all into the journal\n",
    "    log_trade(trade, explanation, reflections)\n",
    "\n",
    "    print(\"✅ Trade and reflections saved.\")\n"
   ]
  }
 ],
 "metadata": {
  "kernelspec": {
   "display_name": "Python 3",
   "language": "python",
   "name": "python3"
  },
  "language_info": {
   "codemirror_mode": {
    "name": "ipython",
    "version": 3
   },
   "file_extension": ".py",
   "mimetype": "text/x-python",
   "name": "python",
   "nbconvert_exporter": "python",
   "pygments_lexer": "ipython3",
   "version": "3.10.12"
  }
 },
 "nbformat": 4,
 "nbformat_minor": 2
}
