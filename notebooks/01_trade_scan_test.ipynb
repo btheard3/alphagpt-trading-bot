{
 "cells": [
  {
   "cell_type": "code",
   "execution_count": 1,
   "metadata": {},
   "outputs": [],
   "source": [
    "import sys\n",
    "sys.path.append(\"../\")  # Enables import from src/ # Adds your project root to the path"
   ]
  },
  {
   "cell_type": "code",
   "execution_count": 2,
   "metadata": {},
   "outputs": [
    {
     "name": "stdout",
     "output_type": "stream",
     "text": [
      "Defaulting to user installation because normal site-packages is not writeable\n",
      "Requirement already satisfied: yfinance in /home/btheard/.local/lib/python3.10/site-packages (0.2.55)\n",
      "Requirement already satisfied: beautifulsoup4>=4.11.1 in /home/btheard/.local/lib/python3.10/site-packages (from yfinance) (4.13.3)\n",
      "Requirement already satisfied: platformdirs>=2.0.0 in /home/btheard/.local/lib/python3.10/site-packages (from yfinance) (4.3.7)\n",
      "Requirement already satisfied: multitasking>=0.0.7 in /home/btheard/.local/lib/python3.10/site-packages (from yfinance) (0.0.11)\n",
      "Requirement already satisfied: frozendict>=2.3.4 in /home/btheard/.local/lib/python3.10/site-packages (from yfinance) (2.4.6)\n",
      "Requirement already satisfied: numpy>=1.16.5 in /home/btheard/.local/lib/python3.10/site-packages (from yfinance) (2.2.4)\n",
      "Requirement already satisfied: pytz>=2022.5 in /home/btheard/.local/lib/python3.10/site-packages (from yfinance) (2025.2)\n",
      "Requirement already satisfied: pandas>=1.3.0 in /home/btheard/.local/lib/python3.10/site-packages (from yfinance) (2.2.3)\n",
      "Requirement already satisfied: peewee>=3.16.2 in /home/btheard/.local/lib/python3.10/site-packages (from yfinance) (3.17.9)\n",
      "Requirement already satisfied: requests>=2.31 in /home/btheard/.local/lib/python3.10/site-packages (from yfinance) (2.32.3)\n",
      "Requirement already satisfied: typing-extensions>=4.0.0 in /home/btheard/.local/lib/python3.10/site-packages (from beautifulsoup4>=4.11.1->yfinance) (4.13.0)\n",
      "Requirement already satisfied: soupsieve>1.2 in /home/btheard/.local/lib/python3.10/site-packages (from beautifulsoup4>=4.11.1->yfinance) (2.6)\n",
      "Requirement already satisfied: python-dateutil>=2.8.2 in /home/btheard/.local/lib/python3.10/site-packages (from pandas>=1.3.0->yfinance) (2.9.0.post0)\n",
      "Requirement already satisfied: tzdata>=2022.7 in /home/btheard/.local/lib/python3.10/site-packages (from pandas>=1.3.0->yfinance) (2025.2)\n",
      "Requirement already satisfied: idna<4,>=2.5 in /usr/lib/python3/dist-packages (from requests>=2.31->yfinance) (3.3)\n",
      "Requirement already satisfied: charset-normalizer<4,>=2 in /home/btheard/.local/lib/python3.10/site-packages (from requests>=2.31->yfinance) (3.4.1)\n",
      "Requirement already satisfied: urllib3<3,>=1.21.1 in /usr/lib/python3/dist-packages (from requests>=2.31->yfinance) (1.26.5)\n",
      "Requirement already satisfied: certifi>=2017.4.17 in /usr/lib/python3/dist-packages (from requests>=2.31->yfinance) (2020.6.20)\n",
      "Requirement already satisfied: six>=1.5 in /usr/lib/python3/dist-packages (from python-dateutil>=2.8.2->pandas>=1.3.0->yfinance) (1.16.0)\n",
      "Note: you may need to restart the kernel to use updated packages.\n"
     ]
    }
   ],
   "source": [
    "# If using pip inside Jupyter:\n",
    "%pip install yfinance"
   ]
  },
  {
   "cell_type": "code",
   "execution_count": 3,
   "metadata": {},
   "outputs": [
    {
     "name": "stdout",
     "output_type": "stream",
     "text": [
      "{'ticker': 'SPY', 'strategy': 'calendar_call', 'strike': 260.0, 'short_exp': '2025-04-17', 'short_price': np.float64(271.15), 'long_exp': '2025-04-21', 'long_price': np.float64(272.22), 'net_debit': np.float64(1.07)}\n",
      "{'ticker': 'SPY', 'strategy': 'calendar_call', 'strike': 341.0, 'short_exp': '2025-04-17', 'short_price': np.float64(191.5), 'long_exp': '2025-04-21', 'long_price': np.float64(193.15), 'net_debit': np.float64(1.65)}\n",
      "{'ticker': 'SPY', 'strategy': 'calendar_call', 'strike': 375.0, 'short_exp': '2025-04-17', 'short_price': np.float64(155.63), 'long_exp': '2025-04-21', 'long_price': np.float64(151.02), 'net_debit': np.float64(-4.61)}\n"
     ]
    }
   ],
   "source": [
    "from src.strategies.trade_scanner import scan_calendar_spreads\n",
    "\n",
    "trades = scan_calendar_spreads(\"SPY\")\n",
    "for trade in trades[:3]:\n",
    "    print(trade)\n"
   ]
  },
  {
   "cell_type": "code",
   "execution_count": 4,
   "metadata": {},
   "outputs": [
    {
     "name": "stdout",
     "output_type": "stream",
     "text": [
      "Defaulting to user installation because normal site-packages is not writeable\n",
      "Requirement already satisfied: openai in /home/btheard/.local/lib/python3.10/site-packages (1.69.0)\n",
      "Requirement already satisfied: tqdm>4 in /home/btheard/.local/lib/python3.10/site-packages (from openai) (4.67.1)\n",
      "Requirement already satisfied: sniffio in /home/btheard/.local/lib/python3.10/site-packages (from openai) (1.3.1)\n",
      "Requirement already satisfied: anyio<5,>=3.5.0 in /home/btheard/.local/lib/python3.10/site-packages (from openai) (4.9.0)\n",
      "Requirement already satisfied: distro<2,>=1.7.0 in /usr/lib/python3/dist-packages (from openai) (1.7.0)\n",
      "Requirement already satisfied: jiter<1,>=0.4.0 in /home/btheard/.local/lib/python3.10/site-packages (from openai) (0.9.0)\n",
      "Requirement already satisfied: httpx<1,>=0.23.0 in /home/btheard/.local/lib/python3.10/site-packages (from openai) (0.28.1)\n",
      "Requirement already satisfied: typing-extensions<5,>=4.11 in /home/btheard/.local/lib/python3.10/site-packages (from openai) (4.13.0)\n",
      "Requirement already satisfied: pydantic<3,>=1.9.0 in /home/btheard/.local/lib/python3.10/site-packages (from openai) (2.11.0)\n",
      "Requirement already satisfied: exceptiongroup>=1.0.2 in /home/btheard/.local/lib/python3.10/site-packages (from anyio<5,>=3.5.0->openai) (1.2.2)\n",
      "Requirement already satisfied: idna>=2.8 in /usr/lib/python3/dist-packages (from anyio<5,>=3.5.0->openai) (3.3)\n",
      "Requirement already satisfied: certifi in /usr/lib/python3/dist-packages (from httpx<1,>=0.23.0->openai) (2020.6.20)\n",
      "Requirement already satisfied: httpcore==1.* in /home/btheard/.local/lib/python3.10/site-packages (from httpx<1,>=0.23.0->openai) (1.0.7)\n",
      "Requirement already satisfied: h11<0.15,>=0.13 in /home/btheard/.local/lib/python3.10/site-packages (from httpcore==1.*->httpx<1,>=0.23.0->openai) (0.14.0)\n",
      "Requirement already satisfied: annotated-types>=0.6.0 in /home/btheard/.local/lib/python3.10/site-packages (from pydantic<3,>=1.9.0->openai) (0.7.0)\n",
      "Requirement already satisfied: typing-inspection>=0.4.0 in /home/btheard/.local/lib/python3.10/site-packages (from pydantic<3,>=1.9.0->openai) (0.4.0)\n",
      "Requirement already satisfied: pydantic-core==2.33.0 in /home/btheard/.local/lib/python3.10/site-packages (from pydantic<3,>=1.9.0->openai) (2.33.0)\n",
      "Note: you may need to restart the kernel to use updated packages.\n",
      "Defaulting to user installation because normal site-packages is not writeable\n",
      "Requirement already satisfied: python-dotenv in /home/btheard/.local/lib/python3.10/site-packages (1.1.0)\n",
      "Note: you may need to restart the kernel to use updated packages.\n"
     ]
    }
   ],
   "source": [
    "%pip install openai\n",
    "%pip install python-dotenv\n",
    "\n"
   ]
  },
  {
   "cell_type": "code",
   "execution_count": 5,
   "metadata": {},
   "outputs": [],
   "source": [
    "from openai import OpenAI\n",
    "import os\n",
    "from dotenv import load_dotenv\n",
    "\n",
    "load_dotenv()\n",
    "client = OpenAI(api_key=os.getenv(\"OPENAI_API_KEY\"))\n",
    "\n",
    "def explain_calendar_trade(trade: dict):\n",
    "    prompt = f\"\"\"\n",
    "You are an expert options strategist. Please explain the following calendar spread trade idea to a beginner:\n",
    "\n",
    "Ticker: {trade['ticker']}\n",
    "Strategy: {trade['strategy']}\n",
    "Strike Price: {trade['strike']}\n",
    "Short Expiration: {trade['short_exp']} @ {trade['short_price']}\n",
    "Long Expiration: {trade['long_exp']} @ {trade['long_price']}\n",
    "Net Debit: {trade['net_debit']}\n",
    "\n",
    "Explain the profit potential, risks, and market conditions this trade works best in.\n",
    "    \"\"\"\n",
    "\n",
    "    response = client.chat.completions.create(\n",
    "        model=\"gpt-3.5-turbo\",\n",
    "        messages=[\n",
    "            {\"role\": \"system\", \"content\": \"You are a trading mentor who explains complex ideas in simple terms.\"},\n",
    "            {\"role\": \"user\", \"content\": prompt}\n",
    "        ]\n",
    "    )\n",
    "\n",
    "    return response.choices[0].message.content.strip()\n",
    "\n",
    "\n"
   ]
  },
  {
   "cell_type": "code",
   "execution_count": 6,
   "metadata": {},
   "outputs": [
    {
     "name": "stdout",
     "output_type": "stream",
     "text": [
      "Alright, let's break this down in simple terms for you!\n",
      "\n",
      "In this calendar spread trade idea using options on SPY, here's what's going on:\n",
      "\n",
      "1. Ticker: SPY is an exchange-traded fund that tracks the S&P 500 index.\n",
      "2. Strategy: A calendar call spread involves buying a longer-term call option and simultaneously selling a shorter-term call option at the same strike price.\n",
      "3. Strike Price: Both the short and long calls have a strike price of 260.0, meaning you are betting on SPY to go above this price.\n",
      "4. Short Expiration: The short call option expires on April 17, 2025, with a strike price of 271.15.\n",
      "5. Long Expiration: The long call option expires a few days later on April 21, 2025, with a strike price of 272.22.\n",
      "6. Net Debit: You pay a net debit of 1.07 for entering this trade.\n",
      "\n",
      "Profit Potential:\n",
      "- If SPY stays around the 260.0 level leading up to the short expiration date, the short call will lose value faster than the long call due to time decay, potentially allowing you to profit from the spread narrowing.\n",
      "- If SPY rises above 272.22 by the long expiration date, the long call will increase in value, offering further profit potential.\n",
      "\n",
      "Risks:\n",
      "- If SPY doesn't move as expected or remains below the 260.0 strike price, you could lose the net debit paid to enter the trade.\n",
      "- If there is significant volatility or unexpected market moves, it could impact the profitability of the trade.\n",
      "\n",
      "Market Conditions:\n",
      "- This trade works best in a stable market environment where you expect SPY to trade in a relatively narrow range leading up to the short expiration date, followed by a potential move higher closer to the long expiration date.\n",
      "- Low to moderate volatility and a gradual upward bias in the underlying asset can be favorable for this trade.\n",
      "\n",
      "Remember, options trading involves risks, and it's essential to understand the dynamics of the trade and monitor it closely. Consider consulting a financial advisor or doing further research before executing any options trading strategy.\n"
     ]
    }
   ],
   "source": [
    "explanation = explain_calendar_trade(trades[0])\n",
    "print(explanation)\n",
    "\n"
   ]
  },
  {
   "cell_type": "code",
   "execution_count": 7,
   "metadata": {},
   "outputs": [
    {
     "name": "stdout",
     "output_type": "stream",
     "text": [
      "✅ Trade logged at 2025-04-16T18:07:00.381504\n"
     ]
    }
   ],
   "source": [
    "from src.logging.journal_logger import log_trade\n",
    "\n",
    "log_trade(trades[0], explanation)\n"
   ]
  },
  {
   "cell_type": "code",
   "execution_count": 8,
   "metadata": {},
   "outputs": [
    {
     "name": "stdout",
     "output_type": "stream",
     "text": [
      "✅ Trade logged at 2025-04-16T18:07:35.814660\n",
      "Reflections saved: {'mindset': 'calm', 'rules_followed': 'improvise', 'lesson': 'how to begin'}\n"
     ]
    }
   ],
   "source": [
    "from src.logging.journal_logger import log_trade\n",
    "\n",
    "# Ask Mark Douglas-style prompts\n",
    "mindset = input(\"🧠 What was your mindset entering this trade? \")\n",
    "rules_followed = input(\"📘 Did you follow your system or improvise? \")\n",
    "lesson = input(\"🔁 What will you learn from this trade? \")\n",
    "\n",
    "reflections = {\n",
    "    \"mindset\": mindset,\n",
    "    \"rules_followed\": rules_followed,\n",
    "    \"lesson\": lesson\n",
    "}\n",
    "\n",
    "# Log trade + reflection together\n",
    "log_trade(trades[0], explanation, reflections=reflections)\n",
    "\n",
    "\n",
    "print(\"Reflections saved:\", reflections)\n"
   ]
  },
  {
   "cell_type": "code",
   "execution_count": 9,
   "metadata": {},
   "outputs": [
    {
     "name": "stdout",
     "output_type": "stream",
     "text": [
      "✅ AAPL: 54 ideas found\n",
      "✅ TSLA: 113 ideas found\n",
      "✅ SPY: 106 ideas found\n",
      "✅ QQQ: 85 ideas found\n",
      "✅ MSFT: 61 ideas found\n",
      "\n",
      "📈 Total trade ideas: 419\n",
      "{'ticker': 'AAPL', 'strategy': 'calendar_call', 'strike': 100.0, 'short_exp': '2025-04-17', 'short_price': np.float64(105.7), 'long_exp': '2025-04-25', 'long_price': np.float64(97.3), 'net_debit': np.float64(-8.4)}\n",
      "{'ticker': 'AAPL', 'strategy': 'calendar_call', 'strike': 110.0, 'short_exp': '2025-04-17', 'short_price': np.float64(91.5), 'long_exp': '2025-04-25', 'long_price': np.float64(92.9), 'net_debit': np.float64(1.4)}\n",
      "{'ticker': 'AAPL', 'strategy': 'calendar_call', 'strike': 120.0, 'short_exp': '2025-04-17', 'short_price': np.float64(78.74), 'long_exp': '2025-04-25', 'long_price': np.float64(82.2), 'net_debit': np.float64(3.46)}\n",
      "{'ticker': 'AAPL', 'strategy': 'calendar_call', 'strike': 125.0, 'short_exp': '2025-04-17', 'short_price': np.float64(77.42), 'long_exp': '2025-04-25', 'long_price': np.float64(76.0), 'net_debit': np.float64(-1.42)}\n",
      "{'ticker': 'AAPL', 'strategy': 'calendar_call', 'strike': 130.0, 'short_exp': '2025-04-17', 'short_price': np.float64(73.95), 'long_exp': '2025-04-25', 'long_price': np.float64(63.15), 'net_debit': np.float64(-10.8)}\n"
     ]
    }
   ],
   "source": [
    "# Get trade ideas from the scanner controller\n",
    "from src.strategies.scanner_controller import get_trade_ideas\n",
    "\n",
    "tickers = [\"AAPL\", \"TSLA\", \"SPY\", \"QQQ\", \"MSFT\"]\n",
    "ideas = get_trade_ideas(tickers)\n",
    "\n",
    "for idea in ideas[:5]:\n",
    "    print(idea)\n",
    "\n"
   ]
  },
  {
   "cell_type": "code",
   "execution_count": 10,
   "metadata": {},
   "outputs": [
    {
     "name": "stdout",
     "output_type": "stream",
     "text": [
      "✅ SPY: 106 ideas found\n",
      "✅ QQQ: 85 ideas found\n",
      "✅ AAPL: 54 ideas found\n",
      "✅ TSLA: 113 ideas found\n",
      "✅ MSFT: 61 ideas found\n",
      "✅ NVDA: 91 ideas found\n",
      "✅ AMZN: 55 ideas found\n",
      "✅ GOOGL: 52 ideas found\n",
      "✅ META: 126 ideas found\n",
      "✅ AMD: 76 ideas found\n",
      "✅ NFLX: 110 ideas found\n",
      "✅ INTC: 38 ideas found\n",
      "✅ BA: 53 ideas found\n",
      "✅ BABA: 82 ideas found\n",
      "✅ SHOP: 53 ideas found\n",
      "✅ MU: 68 ideas found\n",
      "✅ TSM: 57 ideas found\n",
      "✅ UBER: 35 ideas found\n",
      "✅ SOFI: 32 ideas found\n",
      "✅ PYPL: 34 ideas found\n",
      "✅ COIN: 67 ideas found\n",
      "✅ JPM: 51 ideas found\n",
      "✅ XLF: 32 ideas found\n",
      "✅ XLE: 37 ideas found\n",
      "✅ XLY: 27 ideas found\n",
      "✅ XLP: 24 ideas found\n",
      "✅ XLI: 35 ideas found\n",
      "✅ XLV: 34 ideas found\n",
      "✅ XLC: 23 ideas found\n",
      "✅ XLU: 28 ideas found\n",
      "✅ ARKK: 47 ideas found\n",
      "✅ TLT: 42 ideas found\n",
      "✅ IWM: 50 ideas found\n",
      "✅ DIA: 102 ideas found\n",
      "✅ GLD: 64 ideas found\n",
      "✅ SLV: 18 ideas found\n",
      "✅ TQQQ: 80 ideas found\n",
      "✅ SQQQ: 57 ideas found\n",
      "✅ RIVN: 25 ideas found\n",
      "✅ DKNG: 34 ideas found\n",
      "✅ PLTR: 62 ideas found\n",
      "✅ PFE: 30 ideas found\n",
      "✅ DIS: 41 ideas found\n",
      "✅ CSCO: 22 ideas found\n",
      "✅ CRM: 42 ideas found\n",
      "✅ ABNB: 49 ideas found\n",
      "✅ BIDU: 54 ideas found\n",
      "✅ MRNA: 31 ideas found\n",
      "✅ WMT: 33 ideas found\n",
      "✅ NIO: 19 ideas found\n",
      "\n",
      "📈 Total trade ideas: 2641\n",
      "{'ticker': 'SPY', 'strategy': 'calendar_call', 'strike': 260.0, 'short_exp': '2025-04-17', 'short_price': np.float64(271.15), 'long_exp': '2025-04-21', 'long_price': np.float64(272.22), 'net_debit': np.float64(1.07)}\n",
      "{'ticker': 'SPY', 'strategy': 'calendar_call', 'strike': 341.0, 'short_exp': '2025-04-17', 'short_price': np.float64(191.5), 'long_exp': '2025-04-21', 'long_price': np.float64(193.15), 'net_debit': np.float64(1.65)}\n",
      "{'ticker': 'SPY', 'strategy': 'calendar_call', 'strike': 375.0, 'short_exp': '2025-04-17', 'short_price': np.float64(155.63), 'long_exp': '2025-04-21', 'long_price': np.float64(151.02), 'net_debit': np.float64(-4.61)}\n",
      "{'ticker': 'SPY', 'strategy': 'calendar_call', 'strike': 385.0, 'short_exp': '2025-04-17', 'short_price': np.float64(139.77), 'long_exp': '2025-04-21', 'long_price': np.float64(120.81), 'net_debit': np.float64(-18.96)}\n",
      "{'ticker': 'SPY', 'strategy': 'calendar_call', 'strike': 388.0, 'short_exp': '2025-04-17', 'short_price': np.float64(112.84), 'long_exp': '2025-04-21', 'long_price': np.float64(136.47), 'net_debit': np.float64(23.63)}\n"
     ]
    }
   ],
   "source": [
    "from src.strategies.scanner_controller import get_trade_ideas\n",
    "\n",
    "ideas = get_trade_ideas(\"auto\")\n",
    "\n",
    "# Preview top ideas\n",
    "for idea in ideas[:5]:\n",
    "    print(idea)\n"
   ]
  },
  {
   "cell_type": "code",
   "execution_count": 11,
   "metadata": {},
   "outputs": [
    {
     "name": "stdout",
     "output_type": "stream",
     "text": [
      "\n",
      "📊 Trade Explanation:\n",
      " Sure, let's break this down into simpler terms. \n",
      "\n",
      "A calendar spread, also known as a horizontal spread, is a strategy that involves buying and selling two options contracts on the same underlying asset (in this case, SPY), with the same strike price (260.0), but different expiration dates. The idea is to take advantage of the time decay of options to make a profit.\n",
      "\n",
      "In your specific trade, you are shorting (or selling) a call option that expires on April 17, 2025, and buying a long call option that expires on April 21, 2025. The prices of these options are $271.15 and $272.22 respectively, and the net debit (or cost) for the trade is $1.07, which is the difference between the two.\n",
      "\n",
      "Profit Potential: The maximum profit potential for a calendar spread is usually realized if the SPY price is very close to the strike price at the expiration of the short call option. Any significant move away from the strike price, either upwards or downwards, will generally decrease the profit. \n",
      "\n",
      "Risks: The maximum risk is the initial cost of the trade (the net debit), which in this case is $1.07. This would happen if at the expiration of the short call, the price of SPY is significantly above or below the strike price.\n",
      "\n",
      "Market Conditions: This type of trade works best in a neutral market where the price of the underlying asset is expected to stay stable or move very little. Also, a higher implied volatility in the long call relative to the short call can increase the profit potential.\n",
      "\n",
      "Remember, while options can offer impressive returns, they also come with substantial risks. Always understand the trade fully before making your decision.\n",
      "✅ Trade logged at 2025-04-16T18:08:59.867639\n",
      "✅ Trade and reflections saved.\n",
      "\n",
      "📊 Trade Explanation:\n",
      " Sure! A calendar spread, also known as a horizontal spread, involves buying and selling two options (in this case, call options) of the same type, with the same strike price, but with different expiration dates. You're \"short\" the option with the closer expiration date, meaning you've sold it, and \"long\" the option with the later expiration date, which you've bought. \n",
      "\n",
      "In this specific example, you're short a SPY call option with a strike price of 341 expiring on April 17, 2025, and you're long a SPY call option with the same strike price expiring on April 21, 2025. The prices of these options are $191.5 and $193.15 respectively, and the difference between these prices is your net debit of $1.65. This is the amount you pay to enter the trade.\n",
      "\n",
      "Now, let's discuss the profit potential, risks, and ideal market conditions for this trade:\n",
      "\n",
      "Profit potential: The maximum profit occurs if SPY is at the strike price (341.0) at the expiration of the near-term option (April 17). This is because the short option you sold would expire worthless, but the long option you bought would still have some time value. You would then sell this long option to realize your profit.\n",
      "\n",
      "Risks: The maximum risk is the initial net debit you paid to establish the spread, which is $1.65 in this case. This would happen if SPY is either significantly above or below the strike price at the expiration of the long-term option (April 21).\n",
      "\n",
      "Market conditions: This strategy works best in a market with low volatility, where the underlying stock (SPY in this case) is expected to remain close to the strike price until the expiration of the short option. Since the profit potential is based on the time decay of the options (the gradual reduction in the value of an option as it gets closer to its expiration date), a slow-moving market is ideal.\n",
      "\n",
      "In summary, a calendar spread can be a great strategy to make a profit in a low-volatile market with minimal risk if predicted correctly. But, like with all trading strategies, it's important to thoroughly understand the potential risks and rewards before proceeding.\n",
      "✅ Trade logged at 2025-04-16T18:09:36.316645\n",
      "✅ Trade and reflections saved.\n",
      "\n",
      "📊 Trade Explanation:\n",
      " Sure, I'd be happy to explain this trade to you!\n",
      "\n",
      "First, let's understand what a calendar spread is. A calendar spread (also known as a time spread) is an options strategy that involves buying and selling two options of the same type (in this case, calls), same strike price, but with different expiration dates.\n",
      "\n",
      "In this trade, you're selling a SPY call option with a strike price of $375 that expires on April 17, 2025, for $155.63. At the same time, you're buying a SPY call option with the same strike price that expires on April 21, 2025, for $151.02. The difference between the two, or the net debit, is -$4.61. This means you're actually receiving money to open this trade.\n",
      "\n",
      "Now, let's talk about profit potential and risks.\n",
      "\n",
      "Profit Potential: The maximum profit for a calendar spread is generally at the strike price of the options. In this case, that's $375. The profit increases as the price of SPY gets closer to the strike price and decreases as it moves away. Your profit is also influenced by the difference in time decay (or \"theta\") between the two options. The option you sold (short option) will decay faster than the option you bought (long option), which is beneficial for this strategy.\n",
      "\n",
      "Risks: The primary risk in a calendar spread is that the underlying asset's price will move significantly. If SPY's price moves too far from the strike price, especially if it moves quickly, it could result in a loss. This is because the short option could end up in the money, and you might have to pay a lot to buy it back.\n",
      "\n",
      "Market Conditions: This strategy works best when you expect the price of SPY to remain relatively stable and close to the strike price until the short option's expiration date. It also benefits from an increase in implied volatility, as this will increase the price of the long option more than the short option, potentially leading to a profit.\n",
      "\n",
      "I hope this helps! Let me know if you have any other questions.\n",
      "✅ Trade logged at 2025-04-16T18:10:15.979823\n",
      "✅ Trade and reflections saved.\n",
      "\n",
      "📊 Trade Explanation:\n",
      " Okay, let's break down this trade idea.\n",
      "\n",
      "Firstly, let's understand what a calendar call spread is. It's an options strategy that involves buying and selling two call options of the same underlying asset (in this case SPY), with the same strike price (385.0), but different expiration dates. \n",
      "\n",
      "In this case, you're selling a call option that expires on April 17, 2025, for a price of 139.77, and buying a longer-term call option that expires on April 21, 2025, for a price of 120.81. The difference between these two prices is the net debit, which in this case is -18.96. This means you're actually receiving money to put on this trade.\n",
      "\n",
      "Now, the profit potential: The maximum profit is achieved if SPY is at the strike price of 385.0 at the short call's expiration date. The profit comes from the premium decay of the short-term call option being faster than that of the long-term call option. If SPY is exactly at 385.0 at the short call's expiration, the short call would be worthless, but the long call would still have some value, which could be sold for a profit.\n",
      "\n",
      "As for risks, the maximum risk is the net debit paid for the spread (or net credit received, in this case). If SPY is significantly below or above the strike price at the short call's expiration, both options could end up worthless, resulting in a loss of the net debit.\n",
      "\n",
      "This strategy works best in a market that is expected to be relatively stable or slightly bullish. The trader is hoping that the SPY stays close to the strike price until the short call's expiration. After that, they would want the SPY to increase in price, increasing the value of the long call option.\n",
      "\n",
      "Remember, it's important to manage your risk and consider the potential reward before you enter any trade.\n",
      "✅ Trade logged at 2025-04-16T18:11:11.462534\n",
      "✅ Trade and reflections saved.\n",
      "\n",
      "📊 Trade Explanation:\n",
      " Sure, I'd be happy to simplify the concept of a calendar spread for you. \n",
      "\n",
      "A calendar spread, also known as a horizontal spread, is an options strategy that involves buying and selling two options of the same type (call or put), same strike price, but different expiration dates. In this case, you're looking at a calendar call spread on the SPY ticker. \n",
      "\n",
      "Here's the breakdown of the trade you're considering:\n",
      "\n",
      "1. You're selling (or \"writing\") a call option with a strike price of $388 that expires on April 17, 2025. You receive a premium of $112.84 for this.\n",
      "\n",
      "2. You're buying a call option with the same strike price, but this one expires on April 21, 2025. This costs you $136.47. \n",
      "\n",
      "The difference between the premium you receive for selling the short-term option and the cost of buying the long-term one is known as the net debit, which is $23.63 in this case. This is the total amount you're paying to enter the trade.\n",
      "\n",
      "Now, let's talk about profit potential, risks, and ideal market conditions.\n",
      "\n",
      "Profit Potential: Your maximum profit is achieved if the SPY is trading at exactly $388 at the short call's expiration. At this price, the short call you sold would expire worthless (leaving you with the full premium), and the long call you bought would still have value, which you could then sell.\n",
      "\n",
      "Risks: The risk in a calendar spread is limited to the net debit you paid to enter the trade. In this case, that's $23.63. You would lose this amount if SPY is significantly above or below $388 at the short option's expiration, as both options would either be in-the-money (above the strike price for a call option) or out-of-the-money (below the strike price for a call option).\n",
      "\n",
      "Market Conditions: Calendar spreads work best in markets with low volatility, as the strategy profits from the time decay of the short-term option. You want the price to stay relatively stable, close to your strike price of $388. Changes in implied volatility can also impact the trade; an increase in implied volatility could benefit the trade as it increases the value of the longer-dated option you own more than the short-dated option you sold.\n",
      "\n",
      "I hope this makes the concept of a calendar spread clearer for you!\n",
      "✅ Trade logged at 2025-04-16T18:11:51.762473\n",
      "✅ Trade and reflections saved.\n"
     ]
    }
   ],
   "source": [
    "## Step 3: Explain Top Trades & Journal\n",
    "from src.llm.explain_trade import explain_calendar_trade\n",
    "from src.logging.journal_logger import log_trade\n",
    "\n",
    "# Optional: limit how many trades to auto-explain + journal\n",
    "top_trades = ideas[:5]  # or whatever number you prefer\n",
    "\n",
    "for trade in top_trades:\n",
    "    # STEP 1: Generate explanation using GPT\n",
    "    explanation = explain_calendar_trade(trade)\n",
    "    print(\"\\n📊 Trade Explanation:\\n\", explanation)\n",
    "\n",
    "    # STEP 2: Prompt user for reflections\n",
    "    mindset = input(\"🧠 What was your mindset entering this trade? \")\n",
    "    rules_followed = input(\"🔷 Did you follow your system or improvise? \")\n",
    "    lesson = input(\"📘 What will you learn from this trade? \")\n",
    "\n",
    "    reflections = {\n",
    "        \"mindset\": mindset,\n",
    "        \"rules_followed\": rules_followed,\n",
    "        \"lesson\": lesson\n",
    "    }\n",
    "\n",
    "    # STEP 3: Log it all into the journal\n",
    "    log_trade(trade, explanation, reflections)\n",
    "\n",
    "    print(\"✅ Trade and reflections saved.\")\n"
   ]
  }
 ],
 "metadata": {
  "kernelspec": {
   "display_name": "Python 3",
   "language": "python",
   "name": "python3"
  },
  "language_info": {
   "codemirror_mode": {
    "name": "ipython",
    "version": 3
   },
   "file_extension": ".py",
   "mimetype": "text/x-python",
   "name": "python",
   "nbconvert_exporter": "python",
   "pygments_lexer": "ipython3",
   "version": "3.10.12"
  }
 },
 "nbformat": 4,
 "nbformat_minor": 2
}
