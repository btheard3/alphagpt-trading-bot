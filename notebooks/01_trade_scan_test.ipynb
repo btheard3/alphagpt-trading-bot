{
 "cells": [
  {
   "cell_type": "code",
   "execution_count": 1,
   "metadata": {},
   "outputs": [],
   "source": [
    "import sys\n",
    "sys.path.append(\"../\")  # Enables import from src/ # Adds your project root to the path"
   ]
  },
  {
   "cell_type": "code",
   "execution_count": 2,
   "metadata": {},
   "outputs": [
    {
     "name": "stdout",
     "output_type": "stream",
     "text": [
      "Defaulting to user installation because normal site-packages is not writeable\n",
      "Requirement already satisfied: yfinance in /home/btheard/.local/lib/python3.10/site-packages (0.2.55)\n",
      "Requirement already satisfied: requests>=2.31 in /home/btheard/.local/lib/python3.10/site-packages (from yfinance) (2.32.3)\n",
      "Requirement already satisfied: peewee>=3.16.2 in /home/btheard/.local/lib/python3.10/site-packages (from yfinance) (3.17.9)\n",
      "Requirement already satisfied: frozendict>=2.3.4 in /home/btheard/.local/lib/python3.10/site-packages (from yfinance) (2.4.6)\n",
      "Requirement already satisfied: platformdirs>=2.0.0 in /home/btheard/.local/lib/python3.10/site-packages (from yfinance) (4.3.7)\n",
      "Requirement already satisfied: pandas>=1.3.0 in /home/btheard/.local/lib/python3.10/site-packages (from yfinance) (2.2.3)\n",
      "Requirement already satisfied: numpy>=1.16.5 in /home/btheard/.local/lib/python3.10/site-packages (from yfinance) (2.2.4)\n",
      "Requirement already satisfied: pytz>=2022.5 in /home/btheard/.local/lib/python3.10/site-packages (from yfinance) (2025.2)\n",
      "Requirement already satisfied: beautifulsoup4>=4.11.1 in /home/btheard/.local/lib/python3.10/site-packages (from yfinance) (4.13.3)\n",
      "Requirement already satisfied: multitasking>=0.0.7 in /home/btheard/.local/lib/python3.10/site-packages (from yfinance) (0.0.11)\n",
      "Requirement already satisfied: typing-extensions>=4.0.0 in /home/btheard/.local/lib/python3.10/site-packages (from beautifulsoup4>=4.11.1->yfinance) (4.13.0)\n",
      "Requirement already satisfied: soupsieve>1.2 in /home/btheard/.local/lib/python3.10/site-packages (from beautifulsoup4>=4.11.1->yfinance) (2.6)\n",
      "Requirement already satisfied: python-dateutil>=2.8.2 in /home/btheard/.local/lib/python3.10/site-packages (from pandas>=1.3.0->yfinance) (2.9.0.post0)\n",
      "Requirement already satisfied: tzdata>=2022.7 in /home/btheard/.local/lib/python3.10/site-packages (from pandas>=1.3.0->yfinance) (2025.2)\n",
      "Requirement already satisfied: charset-normalizer<4,>=2 in /home/btheard/.local/lib/python3.10/site-packages (from requests>=2.31->yfinance) (3.4.1)\n",
      "Requirement already satisfied: idna<4,>=2.5 in /usr/lib/python3/dist-packages (from requests>=2.31->yfinance) (3.3)\n",
      "Requirement already satisfied: certifi>=2017.4.17 in /usr/lib/python3/dist-packages (from requests>=2.31->yfinance) (2020.6.20)\n",
      "Requirement already satisfied: urllib3<3,>=1.21.1 in /usr/lib/python3/dist-packages (from requests>=2.31->yfinance) (1.26.5)\n",
      "Requirement already satisfied: six>=1.5 in /usr/lib/python3/dist-packages (from python-dateutil>=2.8.2->pandas>=1.3.0->yfinance) (1.16.0)\n",
      "Note: you may need to restart the kernel to use updated packages.\n"
     ]
    }
   ],
   "source": [
    "# If using pip inside Jupyter:\n",
    "%pip install yfinance"
   ]
  },
  {
   "cell_type": "code",
   "execution_count": 3,
   "metadata": {},
   "outputs": [
    {
     "name": "stdout",
     "output_type": "stream",
     "text": [
      "{'ticker': 'SPY', 'strategy': 'calendar_call', 'strike': 250.0, 'short_exp': '2025-04-22', 'short_price': np.float64(274.37), 'long_exp': '2025-04-23', 'long_price': np.float64(274.41), 'net_debit': np.float64(0.04)}\n",
      "{'ticker': 'SPY', 'strategy': 'calendar_call', 'strike': 400.0, 'short_exp': '2025-04-22', 'short_price': np.float64(141.75), 'long_exp': '2025-04-23', 'long_price': np.float64(127.64), 'net_debit': np.float64(-14.11)}\n",
      "{'ticker': 'SPY', 'strategy': 'calendar_call', 'strike': 405.0, 'short_exp': '2025-04-22', 'short_price': np.float64(118.79), 'long_exp': '2025-04-23', 'long_price': np.float64(118.33), 'net_debit': np.float64(-0.46)}\n"
     ]
    }
   ],
   "source": [
    "from src.strategies.trade_scanner import scan_calendar_spreads\n",
    "\n",
    "trades = scan_calendar_spreads(\"SPY\")\n",
    "for trade in trades[:3]:\n",
    "    print(trade)\n"
   ]
  },
  {
   "cell_type": "code",
   "execution_count": 4,
   "metadata": {},
   "outputs": [
    {
     "name": "stdout",
     "output_type": "stream",
     "text": [
      "Defaulting to user installation because normal site-packages is not writeable\n",
      "Requirement already satisfied: openai in /home/btheard/.local/lib/python3.10/site-packages (1.69.0)\n",
      "Requirement already satisfied: httpx<1,>=0.23.0 in /home/btheard/.local/lib/python3.10/site-packages (from openai) (0.28.1)\n",
      "Requirement already satisfied: pydantic<3,>=1.9.0 in /home/btheard/.local/lib/python3.10/site-packages (from openai) (2.11.0)\n",
      "Requirement already satisfied: tqdm>4 in /home/btheard/.local/lib/python3.10/site-packages (from openai) (4.67.1)\n",
      "Requirement already satisfied: sniffio in /home/btheard/.local/lib/python3.10/site-packages (from openai) (1.3.1)\n",
      "Requirement already satisfied: typing-extensions<5,>=4.11 in /home/btheard/.local/lib/python3.10/site-packages (from openai) (4.13.0)\n",
      "Requirement already satisfied: jiter<1,>=0.4.0 in /home/btheard/.local/lib/python3.10/site-packages (from openai) (0.9.0)\n",
      "Requirement already satisfied: anyio<5,>=3.5.0 in /home/btheard/.local/lib/python3.10/site-packages (from openai) (4.9.0)\n",
      "Requirement already satisfied: distro<2,>=1.7.0 in /usr/lib/python3/dist-packages (from openai) (1.7.0)\n",
      "Requirement already satisfied: exceptiongroup>=1.0.2 in /home/btheard/.local/lib/python3.10/site-packages (from anyio<5,>=3.5.0->openai) (1.2.2)\n",
      "Requirement already satisfied: idna>=2.8 in /usr/lib/python3/dist-packages (from anyio<5,>=3.5.0->openai) (3.3)\n",
      "Requirement already satisfied: certifi in /usr/lib/python3/dist-packages (from httpx<1,>=0.23.0->openai) (2020.6.20)\n",
      "Requirement already satisfied: httpcore==1.* in /home/btheard/.local/lib/python3.10/site-packages (from httpx<1,>=0.23.0->openai) (1.0.7)\n",
      "Requirement already satisfied: h11<0.15,>=0.13 in /home/btheard/.local/lib/python3.10/site-packages (from httpcore==1.*->httpx<1,>=0.23.0->openai) (0.14.0)\n",
      "Requirement already satisfied: pydantic-core==2.33.0 in /home/btheard/.local/lib/python3.10/site-packages (from pydantic<3,>=1.9.0->openai) (2.33.0)\n",
      "Requirement already satisfied: typing-inspection>=0.4.0 in /home/btheard/.local/lib/python3.10/site-packages (from pydantic<3,>=1.9.0->openai) (0.4.0)\n",
      "Requirement already satisfied: annotated-types>=0.6.0 in /home/btheard/.local/lib/python3.10/site-packages (from pydantic<3,>=1.9.0->openai) (0.7.0)\n",
      "Note: you may need to restart the kernel to use updated packages.\n",
      "Defaulting to user installation because normal site-packages is not writeable\n",
      "Requirement already satisfied: python-dotenv in /home/btheard/.local/lib/python3.10/site-packages (1.1.0)\n",
      "Note: you may need to restart the kernel to use updated packages.\n"
     ]
    }
   ],
   "source": [
    "%pip install openai\n",
    "%pip install python-dotenv\n",
    "\n"
   ]
  },
  {
   "cell_type": "code",
   "execution_count": 5,
   "metadata": {},
   "outputs": [],
   "source": [
    "from openai import OpenAI\n",
    "import os\n",
    "from dotenv import load_dotenv\n",
    "\n",
    "load_dotenv()\n",
    "client = OpenAI(api_key=os.getenv(\"OPENAI_API_KEY\"))\n",
    "\n",
    "def explain_calendar_trade(trade: dict):\n",
    "    prompt = f\"\"\"\n",
    "You are an expert options strategist. Please explain the following calendar spread trade idea to a beginner:\n",
    "\n",
    "Ticker: {trade['ticker']}\n",
    "Strategy: {trade['strategy']}\n",
    "Strike Price: {trade['strike']}\n",
    "Short Expiration: {trade['short_exp']} @ {trade['short_price']}\n",
    "Long Expiration: {trade['long_exp']} @ {trade['long_price']}\n",
    "Net Debit: {trade['net_debit']}\n",
    "\n",
    "Explain the profit potential, risks, and market conditions this trade works best in.\n",
    "    \"\"\"\n",
    "\n",
    "    response = client.chat.completions.create(\n",
    "        model=\"gpt-3.5-turbo\",\n",
    "        messages=[\n",
    "            {\"role\": \"system\", \"content\": \"You are a trading mentor who explains complex ideas in simple terms.\"},\n",
    "            {\"role\": \"user\", \"content\": prompt}\n",
    "        ]\n",
    "    )\n",
    "\n",
    "    return response.choices[0].message.content.strip()\n",
    "\n",
    "\n"
   ]
  },
  {
   "cell_type": "code",
   "execution_count": 6,
   "metadata": {},
   "outputs": [
    {
     "name": "stdout",
     "output_type": "stream",
     "text": [
      "Alright, let's break it down in simple terms:\n",
      "\n",
      "1. **Calendar Spread Trade Idea (Ticker: SPY):**\n",
      "   - You are placing a calendar spread trade on SPY, which is an exchange-traded fund (ETF) that tracks the S&P 500 index.\n",
      "\n",
      "2. **What is a Calendar Spread (Strategy: calendar_call):**\n",
      "   - A calendar spread is a trading strategy where you simultaneously buy and sell options with the same strike price but different expiration dates.\n",
      "\n",
      "3. **Strike Price: 250.0:**\n",
      "   - This is the price at which the option can be exercised. In this case, the strike price is set at $250.0.\n",
      "\n",
      "4. **Short Expiration: 2025-04-22 @ 274.37:**\n",
      "   - You are selling a call option that expires on April 22, 2025, with a strike price of $274.37.\n",
      "\n",
      "5. **Long Expiration: 2025-04-23 @ 274.41:**\n",
      "   - You are buying a call option that expires on April 23, 2025, with the same strike price of $274.41.\n",
      "\n",
      "6. **Net Debit: 0.04:**\n",
      "   - The trade costs you a net debit of $0.04, which is the total amount you pay to enter this strategy.\n",
      "\n",
      "7. **Profit Potential:**\n",
      "   - This trade profits from the difference in time decay between the short and long options. If SPY remains near the strike price of $274.37, you can potentially profit if the value of the short option decays faster than the long option.\n",
      "\n",
      "8. **Risks:**\n",
      "   - The main risk is if SPY moves significantly away from the strike price, causing the options to lose value. Time decay can also work against you if the underlying asset doesn't move as expected.\n",
      "\n",
      "9. **Market Conditions for Success:**\n",
      "   - This trade works best in a stable market environment where the underlying asset (SPY) stays relatively stagnant near the strike price. It benefits from time decay and is most profitable if the price doesn't make drastic movements.\n",
      "\n",
      "In summary, this calendar spread trade offers a way to potentially profit from time decay in a neutral or stable market environment, but it comes with risks if the underlying asset makes sharp moves. It's essential to monitor the trade and understand how changes in market conditions can impact the outcome.\n"
     ]
    }
   ],
   "source": [
    "explanation = explain_calendar_trade(trades[0])\n",
    "print(explanation)\n",
    "\n"
   ]
  },
  {
   "cell_type": "code",
   "execution_count": 7,
   "metadata": {},
   "outputs": [
    {
     "name": "stdout",
     "output_type": "stream",
     "text": [
      "✅ Trade logged at 2025-04-22T03:50:04.371111\n"
     ]
    }
   ],
   "source": [
    "from src.logging.journal_logger import log_trade\n",
    "\n",
    "log_trade(trades[0], explanation)\n"
   ]
  },
  {
   "cell_type": "code",
   "execution_count": 8,
   "metadata": {},
   "outputs": [
    {
     "name": "stdout",
     "output_type": "stream",
     "text": [
      "✅ Trade logged at 2025-04-22T03:50:32.763423\n",
      "Reflections saved: {'mindset': 'learrning', 'rules_followed': 'improvise', 'lesson': 'learning to trade'}\n"
     ]
    }
   ],
   "source": [
    "from src.logging.journal_logger import log_trade\n",
    "\n",
    "# Ask Mark Douglas-style prompts\n",
    "mindset = input(\"🧠 What was your mindset entering this trade? \")\n",
    "rules_followed = input(\"📘 Did you follow your system or improvise? \")\n",
    "lesson = input(\"🔁 What will you learn from this trade? \")\n",
    "\n",
    "reflections = {\n",
    "    \"mindset\": mindset,\n",
    "    \"rules_followed\": rules_followed,\n",
    "    \"lesson\": lesson\n",
    "}\n",
    "\n",
    "# Log trade + reflection together\n",
    "log_trade(trades[0], explanation, reflections=reflections)\n",
    "\n",
    "\n",
    "print(\"Reflections saved:\", reflections)\n"
   ]
  },
  {
   "cell_type": "code",
   "execution_count": 9,
   "metadata": {},
   "outputs": [
    {
     "name": "stdout",
     "output_type": "stream",
     "text": [
      "✅ AAPL: 50 ideas found\n",
      "✅ TSLA: 78 ideas found\n",
      "✅ SPY: 115 ideas found\n",
      "✅ QQQ: 95 ideas found\n",
      "✅ MSFT: 55 ideas found\n",
      "\n",
      "📈 Total trade ideas: 393\n",
      "{'ticker': 'AAPL', 'strategy': 'calendar_call', 'strike': 110.0, 'short_exp': '2025-04-25', 'short_price': np.float64(81.42), 'long_exp': '2025-05-02', 'long_price': np.float64(92.1), 'net_debit': np.float64(10.68)}\n",
      "{'ticker': 'AAPL', 'strategy': 'calendar_call', 'strike': 120.0, 'short_exp': '2025-04-25', 'short_price': np.float64(71.45), 'long_exp': '2025-05-02', 'long_price': np.float64(77.17), 'net_debit': np.float64(5.72)}\n",
      "{'ticker': 'AAPL', 'strategy': 'calendar_call', 'strike': 125.0, 'short_exp': '2025-04-25', 'short_price': np.float64(73.45), 'long_exp': '2025-05-02', 'long_price': np.float64(72.2), 'net_debit': np.float64(-1.25)}\n",
      "{'ticker': 'AAPL', 'strategy': 'calendar_call', 'strike': 130.0, 'short_exp': '2025-04-25', 'short_price': np.float64(63.1), 'long_exp': '2025-05-02', 'long_price': np.float64(61.72), 'net_debit': np.float64(-1.38)}\n",
      "{'ticker': 'AAPL', 'strategy': 'calendar_call', 'strike': 135.0, 'short_exp': '2025-04-25', 'short_price': np.float64(58.84), 'long_exp': '2025-05-02', 'long_price': np.float64(56.83), 'net_debit': np.float64(-2.01)}\n"
     ]
    }
   ],
   "source": [
    "# Get trade ideas from the scanner controller\n",
    "from src.strategies.scanner_controller import get_trade_ideas\n",
    "\n",
    "tickers = [\"AAPL\", \"TSLA\", \"SPY\", \"QQQ\", \"MSFT\"]\n",
    "ideas = get_trade_ideas(tickers)\n",
    "\n",
    "for idea in ideas[:5]:\n",
    "    print(idea)\n",
    "\n"
   ]
  },
  {
   "cell_type": "code",
   "execution_count": 10,
   "metadata": {},
   "outputs": [
    {
     "name": "stdout",
     "output_type": "stream",
     "text": [
      "✅ SPY: 115 ideas found\n",
      "✅ QQQ: 95 ideas found\n",
      "✅ AAPL: 50 ideas found\n",
      "✅ TSLA: 78 ideas found\n",
      "✅ MSFT: 55 ideas found\n",
      "✅ NVDA: 83 ideas found\n",
      "✅ AMZN: 47 ideas found\n",
      "✅ GOOGL: 47 ideas found\n",
      "✅ META: 103 ideas found\n",
      "✅ AMD: 63 ideas found\n",
      "✅ NFLX: 108 ideas found\n",
      "✅ INTC: 39 ideas found\n",
      "✅ BA: 39 ideas found\n",
      "✅ BABA: 80 ideas found\n",
      "✅ SHOP: 54 ideas found\n",
      "✅ MU: 72 ideas found\n",
      "✅ TSM: 46 ideas found\n",
      "✅ UBER: 36 ideas found\n",
      "✅ SOFI: 29 ideas found\n",
      "✅ PYPL: 36 ideas found\n",
      "✅ COIN: 46 ideas found\n",
      "✅ JPM: 37 ideas found\n",
      "✅ XLF: 29 ideas found\n",
      "✅ XLE: 41 ideas found\n",
      "✅ XLY: 24 ideas found\n",
      "✅ XLP: 21 ideas found\n",
      "✅ XLI: 30 ideas found\n",
      "✅ XLV: 30 ideas found\n",
      "✅ XLC: 20 ideas found\n",
      "✅ XLU: 24 ideas found\n",
      "✅ ARKK: 40 ideas found\n",
      "✅ TLT: 38 ideas found\n",
      "✅ IWM: 42 ideas found\n",
      "✅ DIA: 86 ideas found\n",
      "✅ GLD: 73 ideas found\n",
      "✅ SLV: 24 ideas found\n",
      "✅ TQQQ: 72 ideas found\n",
      "✅ SQQQ: 55 ideas found\n",
      "✅ RIVN: 23 ideas found\n",
      "✅ DKNG: 27 ideas found\n",
      "✅ PLTR: 67 ideas found\n",
      "✅ PFE: 28 ideas found\n",
      "✅ DIS: 44 ideas found\n",
      "✅ CSCO: 19 ideas found\n",
      "✅ CRM: 33 ideas found\n",
      "✅ ABNB: 43 ideas found\n",
      "✅ BIDU: 53 ideas found\n",
      "✅ MRNA: 35 ideas found\n",
      "✅ WMT: 35 ideas found\n",
      "✅ NIO: 19 ideas found\n",
      "\n",
      "📈 Total trade ideas: 2433\n",
      "{'ticker': 'SPY', 'strategy': 'calendar_call', 'strike': 250.0, 'short_exp': '2025-04-22', 'short_price': np.float64(274.37), 'long_exp': '2025-04-23', 'long_price': np.float64(274.41), 'net_debit': np.float64(0.04)}\n",
      "{'ticker': 'SPY', 'strategy': 'calendar_call', 'strike': 400.0, 'short_exp': '2025-04-22', 'short_price': np.float64(141.75), 'long_exp': '2025-04-23', 'long_price': np.float64(127.64), 'net_debit': np.float64(-14.11)}\n",
      "{'ticker': 'SPY', 'strategy': 'calendar_call', 'strike': 405.0, 'short_exp': '2025-04-22', 'short_price': np.float64(118.79), 'long_exp': '2025-04-23', 'long_price': np.float64(118.33), 'net_debit': np.float64(-0.46)}\n",
      "{'ticker': 'SPY', 'strategy': 'calendar_call', 'strike': 415.0, 'short_exp': '2025-04-22', 'short_price': np.float64(111.49), 'long_exp': '2025-04-23', 'long_price': np.float64(113.66), 'net_debit': np.float64(2.17)}\n",
      "{'ticker': 'SPY', 'strategy': 'calendar_call', 'strike': 450.0, 'short_exp': '2025-04-22', 'short_price': np.float64(78.67), 'long_exp': '2025-04-23', 'long_price': np.float64(85.12), 'net_debit': np.float64(6.45)}\n"
     ]
    }
   ],
   "source": [
    "from src.strategies.scanner_controller import get_trade_ideas\n",
    "\n",
    "ideas = get_trade_ideas(\"auto\")\n",
    "\n",
    "# Preview top ideas\n",
    "for idea in ideas[:5]:\n",
    "    print(idea)\n"
   ]
  },
  {
   "cell_type": "code",
   "execution_count": 11,
   "metadata": {},
   "outputs": [
    {
     "name": "stdout",
     "output_type": "stream",
     "text": [
      "\n",
      "📊 Trade Explanation:\n",
      " Sure, I'll be happy to explain this to you in simple terms.\n",
      "\n",
      "Firstly, let's go over what a calendar spread is. It is a strategy that involves buying and selling two options of the same type (in this case, call options) on the same asset (SPY), but with different expiration dates. \n",
      "\n",
      "In this scenario, you're selling a call option with a strike price of $250 that expires on April 22, 2025, and buying a call option with the same strike price that expires a day later, on April 23, 2025. The prices at which these options were sold and bought are $274.37 and $274.41, respectively. The difference between these two amounts, $0.04, is the net debit. This is the cost of setting up the trade, and it is also the maximum potential loss.\n",
      "\n",
      "Now, let's talk about the profit potential. The profit potential for a calendar spread is generally highest if the price of the underlying asset (SPY) is near the strike price at the expiration of the short option (April 22, 2025). If SPY is exactly at $250 on that date, the sold call option will expire worthless, and you will still hold the long call option, which will have one day left until expiration and will therefore retain some time value. \n",
      "\n",
      "What are the risks? Well, the major risk with a calendar spread is that the price of the underlying asset will move significantly away from the strike price. If this happens, both options may end up being worthless, and you would lose the net debit paid to set up the trade. \n",
      "\n",
      "Lastly, in what market conditions does this trade work best? Calendar spreads work best in markets with low volatility, as big price swings can move the price of the underlying too far from the strike price. They also benefit from an increase in implied volatility, as this increases the price of the long option relative to the short option.\n",
      "\n",
      "I hope this helps! Let me know if you have any other questions.\n",
      "✅ Trade logged at 2025-04-22T03:51:42.803793\n",
      "✅ Trade and reflections saved.\n"
     ]
    }
   ],
   "source": [
    "## Step 3: Explain Top Trades & Journal\n",
    "from src.llm.explain_trade import explain_calendar_trade\n",
    "from src.logging.journal_logger import log_trade\n",
    "\n",
    "# Optional: limit how many trades to auto-explain + journal\n",
    "top_trades = ideas[:1]  # or whatever number you prefer\n",
    "\n",
    "for trade in top_trades:\n",
    "    # STEP 1: Generate explanation using GPT\n",
    "    explanation = explain_calendar_trade(trade)\n",
    "    print(\"\\n📊 Trade Explanation:\\n\", explanation)\n",
    "\n",
    "    # STEP 2: Prompt user for reflections\n",
    "    mindset = input(\"🧠 What was your mindset entering this trade? \")\n",
    "    rules_followed = input(\"🔷 Did you follow your system or improvise? \")\n",
    "    lesson = input(\"📘 What will you learn from this trade? \")\n",
    "\n",
    "    reflections = {\n",
    "        \"mindset\": mindset,\n",
    "        \"rules_followed\": rules_followed,\n",
    "        \"lesson\": lesson\n",
    "    }\n",
    "\n",
    "    # STEP 3: Log it all into the journal\n",
    "    log_trade(trade, explanation, reflections)\n",
    "\n",
    "    print(\"✅ Trade and reflections saved.\")\n"
   ]
  }
 ],
 "metadata": {
  "kernelspec": {
   "display_name": "Python 3",
   "language": "python",
   "name": "python3"
  },
  "language_info": {
   "codemirror_mode": {
    "name": "ipython",
    "version": 3
   },
   "file_extension": ".py",
   "mimetype": "text/x-python",
   "name": "python",
   "nbconvert_exporter": "python",
   "pygments_lexer": "ipython3",
   "version": "3.10.12"
  }
 },
 "nbformat": 4,
 "nbformat_minor": 2
}
