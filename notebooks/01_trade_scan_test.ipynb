{
 "cells": [
  {
   "cell_type": "code",
   "execution_count": 1,
   "metadata": {},
   "outputs": [],
   "source": [
    "import sys\n",
    "sys.path.append(\"../\")  # Enables import from src/ # Adds your project root to the path"
   ]
  },
  {
   "cell_type": "code",
   "execution_count": 2,
   "metadata": {},
   "outputs": [
    {
     "name": "stdout",
     "output_type": "stream",
     "text": [
      "Defaulting to user installation because normal site-packages is not writeable\n",
      "Requirement already satisfied: yfinance in /home/btheard/.local/lib/python3.10/site-packages (0.2.55)\n",
      "Requirement already satisfied: platformdirs>=2.0.0 in /home/btheard/.local/lib/python3.10/site-packages (from yfinance) (4.3.7)\n",
      "Requirement already satisfied: pandas>=1.3.0 in /home/btheard/.local/lib/python3.10/site-packages (from yfinance) (2.2.3)\n",
      "Requirement already satisfied: beautifulsoup4>=4.11.1 in /home/btheard/.local/lib/python3.10/site-packages (from yfinance) (4.13.3)\n",
      "Requirement already satisfied: pytz>=2022.5 in /home/btheard/.local/lib/python3.10/site-packages (from yfinance) (2025.2)\n",
      "Requirement already satisfied: peewee>=3.16.2 in /home/btheard/.local/lib/python3.10/site-packages (from yfinance) (3.17.9)\n",
      "Requirement already satisfied: frozendict>=2.3.4 in /home/btheard/.local/lib/python3.10/site-packages (from yfinance) (2.4.6)\n",
      "Requirement already satisfied: multitasking>=0.0.7 in /home/btheard/.local/lib/python3.10/site-packages (from yfinance) (0.0.11)\n",
      "Requirement already satisfied: numpy>=1.16.5 in /home/btheard/.local/lib/python3.10/site-packages (from yfinance) (2.2.4)\n",
      "Requirement already satisfied: requests>=2.31 in /home/btheard/.local/lib/python3.10/site-packages (from yfinance) (2.32.3)\n",
      "Requirement already satisfied: typing-extensions>=4.0.0 in /home/btheard/.local/lib/python3.10/site-packages (from beautifulsoup4>=4.11.1->yfinance) (4.13.0)\n",
      "Requirement already satisfied: soupsieve>1.2 in /home/btheard/.local/lib/python3.10/site-packages (from beautifulsoup4>=4.11.1->yfinance) (2.6)\n",
      "Requirement already satisfied: python-dateutil>=2.8.2 in /home/btheard/.local/lib/python3.10/site-packages (from pandas>=1.3.0->yfinance) (2.9.0.post0)\n",
      "Requirement already satisfied: tzdata>=2022.7 in /home/btheard/.local/lib/python3.10/site-packages (from pandas>=1.3.0->yfinance) (2025.2)\n",
      "Requirement already satisfied: urllib3<3,>=1.21.1 in /usr/lib/python3/dist-packages (from requests>=2.31->yfinance) (1.26.5)\n",
      "Requirement already satisfied: certifi>=2017.4.17 in /usr/lib/python3/dist-packages (from requests>=2.31->yfinance) (2020.6.20)\n",
      "Requirement already satisfied: charset-normalizer<4,>=2 in /home/btheard/.local/lib/python3.10/site-packages (from requests>=2.31->yfinance) (3.4.1)\n",
      "Requirement already satisfied: idna<4,>=2.5 in /usr/lib/python3/dist-packages (from requests>=2.31->yfinance) (3.3)\n",
      "Requirement already satisfied: six>=1.5 in /usr/lib/python3/dist-packages (from python-dateutil>=2.8.2->pandas>=1.3.0->yfinance) (1.16.0)\n",
      "Note: you may need to restart the kernel to use updated packages.\n"
     ]
    }
   ],
   "source": [
    "# If using pip inside Jupyter:\n",
    "%pip install yfinance"
   ]
  },
  {
   "cell_type": "code",
   "execution_count": 3,
   "metadata": {},
   "outputs": [
    {
     "name": "stdout",
     "output_type": "stream",
     "text": [
      "{'ticker': 'SPY', 'strategy': 'calendar_call', 'strike': 430.0, 'short_exp': '2025-04-10', 'short_price': np.float64(75.2), 'long_exp': '2025-04-11', 'long_price': np.float64(94.13), 'net_debit': np.float64(18.93)}\n",
      "{'ticker': 'SPY', 'strategy': 'calendar_call', 'strike': 480.0, 'short_exp': '2025-04-10', 'short_price': np.float64(23.81), 'long_exp': '2025-04-11', 'long_price': np.float64(25.84), 'net_debit': np.float64(2.03)}\n",
      "{'ticker': 'SPY', 'strategy': 'calendar_call', 'strike': 485.0, 'short_exp': '2025-04-10', 'short_price': np.float64(16.9), 'long_exp': '2025-04-11', 'long_price': np.float64(21.02), 'net_debit': np.float64(4.12)}\n"
     ]
    }
   ],
   "source": [
    "from src.strategies.trade_scanner import scan_calendar_spreads\n",
    "\n",
    "trades = scan_calendar_spreads(\"SPY\")\n",
    "for trade in trades[:3]:\n",
    "    print(trade)\n"
   ]
  },
  {
   "cell_type": "code",
   "execution_count": 4,
   "metadata": {},
   "outputs": [
    {
     "name": "stdout",
     "output_type": "stream",
     "text": [
      "Defaulting to user installation because normal site-packages is not writeable\n",
      "Requirement already satisfied: openai in /home/btheard/.local/lib/python3.10/site-packages (1.69.0)\n",
      "Requirement already satisfied: httpx<1,>=0.23.0 in /home/btheard/.local/lib/python3.10/site-packages (from openai) (0.28.1)\n",
      "Requirement already satisfied: sniffio in /home/btheard/.local/lib/python3.10/site-packages (from openai) (1.3.1)\n",
      "Requirement already satisfied: typing-extensions<5,>=4.11 in /home/btheard/.local/lib/python3.10/site-packages (from openai) (4.13.0)\n",
      "Requirement already satisfied: pydantic<3,>=1.9.0 in /home/btheard/.local/lib/python3.10/site-packages (from openai) (2.11.0)\n",
      "Requirement already satisfied: jiter<1,>=0.4.0 in /home/btheard/.local/lib/python3.10/site-packages (from openai) (0.9.0)\n",
      "Requirement already satisfied: distro<2,>=1.7.0 in /usr/lib/python3/dist-packages (from openai) (1.7.0)\n",
      "Requirement already satisfied: anyio<5,>=3.5.0 in /home/btheard/.local/lib/python3.10/site-packages (from openai) (4.9.0)\n",
      "Requirement already satisfied: tqdm>4 in /home/btheard/.local/lib/python3.10/site-packages (from openai) (4.67.1)\n",
      "Requirement already satisfied: idna>=2.8 in /usr/lib/python3/dist-packages (from anyio<5,>=3.5.0->openai) (3.3)\n",
      "Requirement already satisfied: exceptiongroup>=1.0.2 in /home/btheard/.local/lib/python3.10/site-packages (from anyio<5,>=3.5.0->openai) (1.2.2)\n",
      "Requirement already satisfied: certifi in /usr/lib/python3/dist-packages (from httpx<1,>=0.23.0->openai) (2020.6.20)\n",
      "Requirement already satisfied: httpcore==1.* in /home/btheard/.local/lib/python3.10/site-packages (from httpx<1,>=0.23.0->openai) (1.0.7)\n",
      "Requirement already satisfied: h11<0.15,>=0.13 in /home/btheard/.local/lib/python3.10/site-packages (from httpcore==1.*->httpx<1,>=0.23.0->openai) (0.14.0)\n",
      "Requirement already satisfied: typing-inspection>=0.4.0 in /home/btheard/.local/lib/python3.10/site-packages (from pydantic<3,>=1.9.0->openai) (0.4.0)\n",
      "Requirement already satisfied: annotated-types>=0.6.0 in /home/btheard/.local/lib/python3.10/site-packages (from pydantic<3,>=1.9.0->openai) (0.7.0)\n",
      "Requirement already satisfied: pydantic-core==2.33.0 in /home/btheard/.local/lib/python3.10/site-packages (from pydantic<3,>=1.9.0->openai) (2.33.0)\n",
      "Note: you may need to restart the kernel to use updated packages.\n",
      "Defaulting to user installation because normal site-packages is not writeable\n",
      "Requirement already satisfied: python-dotenv in /home/btheard/.local/lib/python3.10/site-packages (1.1.0)\n",
      "Note: you may need to restart the kernel to use updated packages.\n"
     ]
    }
   ],
   "source": [
    "%pip install openai\n",
    "%pip install python-dotenv\n",
    "\n"
   ]
  },
  {
   "cell_type": "code",
   "execution_count": 5,
   "metadata": {},
   "outputs": [],
   "source": [
    "from openai import OpenAI\n",
    "import os\n",
    "from dotenv import load_dotenv\n",
    "\n",
    "load_dotenv()\n",
    "client = OpenAI(api_key=os.getenv(\"OPENAI_API_KEY\"))\n",
    "\n",
    "def explain_calendar_trade(trade: dict):\n",
    "    prompt = f\"\"\"\n",
    "You are an expert options strategist. Please explain the following calendar spread trade idea to a beginner:\n",
    "\n",
    "Ticker: {trade['ticker']}\n",
    "Strategy: {trade['strategy']}\n",
    "Strike Price: {trade['strike']}\n",
    "Short Expiration: {trade['short_exp']} @ {trade['short_price']}\n",
    "Long Expiration: {trade['long_exp']} @ {trade['long_price']}\n",
    "Net Debit: {trade['net_debit']}\n",
    "\n",
    "Explain the profit potential, risks, and market conditions this trade works best in.\n",
    "    \"\"\"\n",
    "\n",
    "    response = client.chat.completions.create(\n",
    "        model=\"gpt-3.5-turbo\",\n",
    "        messages=[\n",
    "            {\"role\": \"system\", \"content\": \"You are a trading mentor who explains complex ideas in simple terms.\"},\n",
    "            {\"role\": \"user\", \"content\": prompt}\n",
    "        ]\n",
    "    )\n",
    "\n",
    "    return response.choices[0].message.content.strip()\n",
    "\n",
    "\n"
   ]
  },
  {
   "cell_type": "code",
   "execution_count": 6,
   "metadata": {},
   "outputs": [
    {
     "name": "stdout",
     "output_type": "stream",
     "text": [
      "Sure, let's break this down into simpler terms:\n",
      "\n",
      "1. **Calendar Spread (also known as Time Spread):** This strategy involves buying and selling options on the same underlying asset (in this case, SPY) with the same strike price but different expiration dates.\n",
      "\n",
      "2. **Ticker - SPY:** This is the symbol for the exchange-traded fund (ETF) that tracks the S&P 500 index.\n",
      "\n",
      "3. **Strike Price - 430.0:** This is the price at which the option holder can buy (call option) the underlying asset (SPY) if they choose to exercise the option.\n",
      "\n",
      "4. **Short Expiration - 2025-04-10 @ 75.2:** You are selling a call option that expires on April 10, 2025, and priced at $75.20 per contract.\n",
      "\n",
      "5. **Long Expiration - 2025-04-11 @ 94.13:** You are buying a call option that expires on April 11, 2025, and priced at $94.13 per contract.\n",
      "\n",
      "6. **Net Debit - $18.93:** This is the total cost of entering this trade, which is the difference in premiums between the short and long options.\n",
      "\n",
      "**Profit Potential:** \n",
      "- The goal of a calendar call spread is to profit from the difference in the rate of decay of the short and long options. \n",
      "- If the price of SPY remains relatively stable or increases moderately, the value of the longer-dated call option may increase more due to a lower rate of time decay compared to the shorter-dated option you sold.\n",
      "- If the stock price at expiration is near the strike price of 430, you could potentially profit from the difference in the increase in the value of the long call and the decrease in the value of the short call.\n",
      "\n",
      "**Risks:**\n",
      "- The main risk with this strategy is if the price of SPY makes a significant move in either direction. A sharp move up or down can result in losses on one or both legs of the trade.\n",
      "- If the stock price moves significantly beyond the strike price of 430, it may result in losses as the short call option is exposed to unlimited risk.\n",
      "\n",
      "**Market Conditions:**\n",
      "- This strategy works best in a neutral or slightly bullish market environment where you expect the stock price to remain relatively stable or increase slightly over time.\n",
      "- Low to moderate volatility levels are generally preferable for this strategy as high volatility can increase the risk of substantial price swings.\n",
      "\n",
      "Remember, options trading can be complex and involves risks. It's essential to understand the strategy thoroughly and consider seeking guidance from a financial professional before executing any trades.\n"
     ]
    }
   ],
   "source": [
    "explanation = explain_calendar_trade(trades[0])\n",
    "print(explanation)\n",
    "\n"
   ]
  },
  {
   "cell_type": "code",
   "execution_count": 7,
   "metadata": {},
   "outputs": [
    {
     "name": "stdout",
     "output_type": "stream",
     "text": [
      "✅ Trade logged at 2025-04-09T08:21:15.900179\n"
     ]
    }
   ],
   "source": [
    "from src.logging.journal_logger import log_trade\n",
    "\n",
    "log_trade(trades[0], explanation)\n"
   ]
  },
  {
   "cell_type": "code",
   "execution_count": 8,
   "metadata": {},
   "outputs": [
    {
     "name": "stdout",
     "output_type": "stream",
     "text": [
      "✅ Trade logged at 2025-04-09T08:22:06.561941\n",
      "Reflections saved: {'mindset': 'learning', 'rules_followed': 'improvise', 'lesson': 'how to begin'}\n"
     ]
    }
   ],
   "source": [
    "from src.logging.journal_logger import log_trade\n",
    "\n",
    "# Ask Mark Douglas-style prompts\n",
    "mindset = input(\"🧠 What was your mindset entering this trade? \")\n",
    "rules_followed = input(\"📘 Did you follow your system or improvise? \")\n",
    "lesson = input(\"🔁 What will you learn from this trade? \")\n",
    "\n",
    "reflections = {\n",
    "    \"mindset\": mindset,\n",
    "    \"rules_followed\": rules_followed,\n",
    "    \"lesson\": lesson\n",
    "}\n",
    "\n",
    "# Log trade + reflection together\n",
    "log_trade(trades[0], explanation, reflections=reflections)\n",
    "\n",
    "\n",
    "print(\"Reflections saved:\", reflections)\n"
   ]
  },
  {
   "cell_type": "code",
   "execution_count": 9,
   "metadata": {},
   "outputs": [
    {
     "name": "stdout",
     "output_type": "stream",
     "text": [
      "✅ AAPL: 50 ideas found\n",
      "✅ TSLA: 134 ideas found\n",
      "✅ SPY: 124 ideas found\n",
      "✅ QQQ: 108 ideas found\n",
      "✅ MSFT: 65 ideas found\n",
      "\n",
      "📈 Total trade ideas: 481\n",
      "{'ticker': 'AAPL', 'strategy': 'calendar_call', 'strike': 110.0, 'short_exp': '2025-04-11', 'short_price': np.float64(65.75), 'long_exp': '2025-04-17', 'long_price': np.float64(61.34), 'net_debit': np.float64(-4.41)}\n",
      "{'ticker': 'AAPL', 'strategy': 'calendar_call', 'strike': 120.0, 'short_exp': '2025-04-11', 'short_price': np.float64(56.9), 'long_exp': '2025-04-17', 'long_price': np.float64(64.6), 'net_debit': np.float64(7.7)}\n",
      "{'ticker': 'AAPL', 'strategy': 'calendar_call', 'strike': 130.0, 'short_exp': '2025-04-11', 'short_price': np.float64(41.9), 'long_exp': '2025-04-17', 'long_price': np.float64(46.9), 'net_debit': np.float64(5.0)}\n",
      "{'ticker': 'AAPL', 'strategy': 'calendar_call', 'strike': 140.0, 'short_exp': '2025-04-11', 'short_price': np.float64(32.9), 'long_exp': '2025-04-17', 'long_price': np.float64(34.5), 'net_debit': np.float64(1.6)}\n",
      "{'ticker': 'AAPL', 'strategy': 'calendar_call', 'strike': 145.0, 'short_exp': '2025-04-11', 'short_price': np.float64(28.4), 'long_exp': '2025-04-17', 'long_price': np.float64(33.6), 'net_debit': np.float64(5.2)}\n"
     ]
    }
   ],
   "source": [
    "# Get trade ideas from the scanner controller\n",
    "from src.strategies.scanner_controller import get_trade_ideas\n",
    "\n",
    "tickers = [\"AAPL\", \"TSLA\", \"SPY\", \"QQQ\", \"MSFT\"]\n",
    "ideas = get_trade_ideas(tickers)\n",
    "\n",
    "for idea in ideas[:5]:\n",
    "    print(idea)\n",
    "\n"
   ]
  },
  {
   "cell_type": "code",
   "execution_count": 11,
   "metadata": {},
   "outputs": [
    {
     "name": "stdout",
     "output_type": "stream",
     "text": [
      "✅ SPY: 124 ideas found\n",
      "✅ QQQ: 108 ideas found\n",
      "✅ AAPL: 50 ideas found\n",
      "✅ TSLA: 134 ideas found\n",
      "✅ MSFT: 65 ideas found\n",
      "✅ NVDA: 56 ideas found\n",
      "✅ AMZN: 51 ideas found\n",
      "✅ GOOGL: 39 ideas found\n",
      "✅ META: 120 ideas found\n",
      "✅ AMD: 51 ideas found\n",
      "✅ NFLX: 107 ideas found\n",
      "✅ INTC: 34 ideas found\n",
      "✅ BA: 41 ideas found\n",
      "✅ BABA: 64 ideas found\n",
      "✅ SHOP: 39 ideas found\n",
      "✅ MU: 42 ideas found\n",
      "✅ TSM: 37 ideas found\n",
      "✅ UBER: 32 ideas found\n",
      "✅ SOFI: 31 ideas found\n",
      "✅ PYPL: 28 ideas found\n",
      "✅ COIN: 64 ideas found\n",
      "✅ JPM: 40 ideas found\n",
      "✅ XLF: 28 ideas found\n",
      "✅ XLE: 38 ideas found\n",
      "✅ XLY: 23 ideas found\n",
      "✅ XLP: 23 ideas found\n",
      "✅ XLI: 28 ideas found\n",
      "✅ XLV: 30 ideas found\n",
      "✅ XLC: 22 ideas found\n",
      "✅ XLU: 27 ideas found\n",
      "✅ ARKK: 40 ideas found\n",
      "✅ TLT: 30 ideas found\n",
      "✅ IWM: 51 ideas found\n",
      "✅ DIA: 72 ideas found\n",
      "✅ GLD: 43 ideas found\n",
      "✅ SLV: 19 ideas found\n",
      "✅ TQQQ: 73 ideas found\n",
      "✅ SQQQ: 53 ideas found\n",
      "✅ RIVN: 26 ideas found\n",
      "✅ DKNG: 37 ideas found\n",
      "✅ PLTR: 50 ideas found\n",
      "✅ PFE: 28 ideas found\n",
      "✅ DIS: 34 ideas found\n",
      "✅ CSCO: 19 ideas found\n",
      "✅ CRM: 40 ideas found\n",
      "✅ ABNB: 37 ideas found\n",
      "✅ BIDU: 48 ideas found\n",
      "✅ MRNA: 40 ideas found\n",
      "✅ WMT: 33 ideas found\n",
      "✅ NIO: 19 ideas found\n",
      "\n",
      "📈 Total trade ideas: 2368\n",
      "{'ticker': 'SPY', 'strategy': 'calendar_call', 'strike': 430.0, 'short_exp': '2025-04-10', 'short_price': np.float64(75.2), 'long_exp': '2025-04-11', 'long_price': np.float64(94.13), 'net_debit': np.float64(18.93)}\n",
      "{'ticker': 'SPY', 'strategy': 'calendar_call', 'strike': 480.0, 'short_exp': '2025-04-10', 'short_price': np.float64(23.81), 'long_exp': '2025-04-11', 'long_price': np.float64(25.84), 'net_debit': np.float64(2.03)}\n",
      "{'ticker': 'SPY', 'strategy': 'calendar_call', 'strike': 485.0, 'short_exp': '2025-04-10', 'short_price': np.float64(16.9), 'long_exp': '2025-04-11', 'long_price': np.float64(21.02), 'net_debit': np.float64(4.12)}\n",
      "{'ticker': 'SPY', 'strategy': 'calendar_call', 'strike': 487.0, 'short_exp': '2025-04-10', 'short_price': np.float64(18.0), 'long_exp': '2025-04-11', 'long_price': np.float64(18.69), 'net_debit': np.float64(0.69)}\n",
      "{'ticker': 'SPY', 'strategy': 'calendar_call', 'strike': 488.0, 'short_exp': '2025-04-10', 'short_price': np.float64(15.02), 'long_exp': '2025-04-11', 'long_price': np.float64(19.59), 'net_debit': np.float64(4.57)}\n"
     ]
    }
   ],
   "source": [
    "from src.strategies.scanner_controller import get_trade_ideas\n",
    "\n",
    "ideas = get_trade_ideas(\"auto\")\n",
    "\n",
    "# Preview top ideas\n",
    "for idea in ideas[:5]:\n",
    "    print(idea)\n"
   ]
  }
 ],
 "metadata": {
  "kernelspec": {
   "display_name": "Python 3",
   "language": "python",
   "name": "python3"
  },
  "language_info": {
   "codemirror_mode": {
    "name": "ipython",
    "version": 3
   },
   "file_extension": ".py",
   "mimetype": "text/x-python",
   "name": "python",
   "nbconvert_exporter": "python",
   "pygments_lexer": "ipython3",
   "version": "3.10.12"
  }
 },
 "nbformat": 4,
 "nbformat_minor": 2
}
