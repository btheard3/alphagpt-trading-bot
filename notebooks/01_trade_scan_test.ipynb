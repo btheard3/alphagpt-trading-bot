{
 "cells": [
  {
   "cell_type": "code",
   "execution_count": 1,
   "metadata": {},
   "outputs": [],
   "source": [
    "import sys\n",
    "sys.path.append(\"../\")  # Enables import from src/ # Adds your project root to the path"
   ]
  },
  {
   "cell_type": "code",
   "execution_count": 2,
   "metadata": {},
   "outputs": [
    {
     "name": "stdout",
     "output_type": "stream",
     "text": [
      "Defaulting to user installation because normal site-packages is not writeable\n",
      "Requirement already satisfied: yfinance in /home/btheard/.local/lib/python3.10/site-packages (0.2.55)\n",
      "Requirement already satisfied: pytz>=2022.5 in /home/btheard/.local/lib/python3.10/site-packages (from yfinance) (2025.2)\n",
      "Requirement already satisfied: pandas>=1.3.0 in /home/btheard/.local/lib/python3.10/site-packages (from yfinance) (2.2.3)\n",
      "Requirement already satisfied: peewee>=3.16.2 in /home/btheard/.local/lib/python3.10/site-packages (from yfinance) (3.17.9)\n",
      "Requirement already satisfied: numpy>=1.16.5 in /home/btheard/.local/lib/python3.10/site-packages (from yfinance) (2.2.4)\n",
      "Requirement already satisfied: platformdirs>=2.0.0 in /home/btheard/.local/lib/python3.10/site-packages (from yfinance) (4.3.7)\n",
      "Requirement already satisfied: multitasking>=0.0.7 in /home/btheard/.local/lib/python3.10/site-packages (from yfinance) (0.0.11)\n",
      "Requirement already satisfied: requests>=2.31 in /home/btheard/.local/lib/python3.10/site-packages (from yfinance) (2.32.3)\n",
      "Requirement already satisfied: frozendict>=2.3.4 in /home/btheard/.local/lib/python3.10/site-packages (from yfinance) (2.4.6)\n",
      "Requirement already satisfied: beautifulsoup4>=4.11.1 in /home/btheard/.local/lib/python3.10/site-packages (from yfinance) (4.13.3)\n",
      "Requirement already satisfied: soupsieve>1.2 in /home/btheard/.local/lib/python3.10/site-packages (from beautifulsoup4>=4.11.1->yfinance) (2.6)\n",
      "Requirement already satisfied: typing-extensions>=4.0.0 in /home/btheard/.local/lib/python3.10/site-packages (from beautifulsoup4>=4.11.1->yfinance) (4.13.0)\n",
      "Requirement already satisfied: python-dateutil>=2.8.2 in /home/btheard/.local/lib/python3.10/site-packages (from pandas>=1.3.0->yfinance) (2.9.0.post0)\n",
      "Requirement already satisfied: tzdata>=2022.7 in /home/btheard/.local/lib/python3.10/site-packages (from pandas>=1.3.0->yfinance) (2025.2)\n",
      "Requirement already satisfied: certifi>=2017.4.17 in /usr/lib/python3/dist-packages (from requests>=2.31->yfinance) (2020.6.20)\n",
      "Requirement already satisfied: idna<4,>=2.5 in /usr/lib/python3/dist-packages (from requests>=2.31->yfinance) (3.3)\n",
      "Requirement already satisfied: urllib3<3,>=1.21.1 in /usr/lib/python3/dist-packages (from requests>=2.31->yfinance) (1.26.5)\n",
      "Requirement already satisfied: charset-normalizer<4,>=2 in /home/btheard/.local/lib/python3.10/site-packages (from requests>=2.31->yfinance) (3.4.1)\n",
      "Requirement already satisfied: six>=1.5 in /usr/lib/python3/dist-packages (from python-dateutil>=2.8.2->pandas>=1.3.0->yfinance) (1.16.0)\n",
      "Note: you may need to restart the kernel to use updated packages.\n"
     ]
    }
   ],
   "source": [
    "# If using pip inside Jupyter:\n",
    "%pip install yfinance"
   ]
  },
  {
   "cell_type": "code",
   "execution_count": 3,
   "metadata": {},
   "outputs": [
    {
     "name": "stdout",
     "output_type": "stream",
     "text": [
      "{'ticker': 'SPY', 'strategy': 'calendar_call', 'strike': 385.0, 'short_exp': '2025-04-21', 'short_price': np.float64(120.81), 'long_exp': '2025-04-22', 'long_price': np.float64(139.23), 'net_debit': np.float64(18.42)}\n",
      "{'ticker': 'SPY', 'strategy': 'calendar_call', 'strike': 400.0, 'short_exp': '2025-04-21', 'short_price': np.float64(125.59), 'long_exp': '2025-04-22', 'long_price': np.float64(141.75), 'net_debit': np.float64(16.16)}\n",
      "{'ticker': 'SPY', 'strategy': 'calendar_call', 'strike': 405.0, 'short_exp': '2025-04-21', 'short_price': np.float64(121.21), 'long_exp': '2025-04-22', 'long_price': np.float64(118.79), 'net_debit': np.float64(-2.42)}\n"
     ]
    }
   ],
   "source": [
    "from src.strategies.trade_scanner import scan_calendar_spreads\n",
    "\n",
    "trades = scan_calendar_spreads(\"SPY\")\n",
    "for trade in trades[:3]:\n",
    "    print(trade)\n"
   ]
  },
  {
   "cell_type": "code",
   "execution_count": 4,
   "metadata": {},
   "outputs": [
    {
     "name": "stdout",
     "output_type": "stream",
     "text": [
      "Defaulting to user installation because normal site-packages is not writeable\n",
      "Requirement already satisfied: openai in /home/btheard/.local/lib/python3.10/site-packages (1.69.0)\n",
      "Requirement already satisfied: anyio<5,>=3.5.0 in /home/btheard/.local/lib/python3.10/site-packages (from openai) (4.9.0)\n",
      "Requirement already satisfied: sniffio in /home/btheard/.local/lib/python3.10/site-packages (from openai) (1.3.1)\n",
      "Requirement already satisfied: tqdm>4 in /home/btheard/.local/lib/python3.10/site-packages (from openai) (4.67.1)\n",
      "Requirement already satisfied: distro<2,>=1.7.0 in /usr/lib/python3/dist-packages (from openai) (1.7.0)\n",
      "Requirement already satisfied: pydantic<3,>=1.9.0 in /home/btheard/.local/lib/python3.10/site-packages (from openai) (2.11.0)\n",
      "Requirement already satisfied: jiter<1,>=0.4.0 in /home/btheard/.local/lib/python3.10/site-packages (from openai) (0.9.0)\n",
      "Requirement already satisfied: typing-extensions<5,>=4.11 in /home/btheard/.local/lib/python3.10/site-packages (from openai) (4.13.0)\n",
      "Requirement already satisfied: httpx<1,>=0.23.0 in /home/btheard/.local/lib/python3.10/site-packages (from openai) (0.28.1)\n",
      "Requirement already satisfied: idna>=2.8 in /usr/lib/python3/dist-packages (from anyio<5,>=3.5.0->openai) (3.3)\n",
      "Requirement already satisfied: exceptiongroup>=1.0.2 in /home/btheard/.local/lib/python3.10/site-packages (from anyio<5,>=3.5.0->openai) (1.2.2)\n",
      "Requirement already satisfied: certifi in /usr/lib/python3/dist-packages (from httpx<1,>=0.23.0->openai) (2020.6.20)\n",
      "Requirement already satisfied: httpcore==1.* in /home/btheard/.local/lib/python3.10/site-packages (from httpx<1,>=0.23.0->openai) (1.0.7)\n",
      "Requirement already satisfied: h11<0.15,>=0.13 in /home/btheard/.local/lib/python3.10/site-packages (from httpcore==1.*->httpx<1,>=0.23.0->openai) (0.14.0)\n",
      "Requirement already satisfied: annotated-types>=0.6.0 in /home/btheard/.local/lib/python3.10/site-packages (from pydantic<3,>=1.9.0->openai) (0.7.0)\n",
      "Requirement already satisfied: pydantic-core==2.33.0 in /home/btheard/.local/lib/python3.10/site-packages (from pydantic<3,>=1.9.0->openai) (2.33.0)\n",
      "Requirement already satisfied: typing-inspection>=0.4.0 in /home/btheard/.local/lib/python3.10/site-packages (from pydantic<3,>=1.9.0->openai) (0.4.0)\n",
      "Note: you may need to restart the kernel to use updated packages.\n",
      "Defaulting to user installation because normal site-packages is not writeable\n",
      "Requirement already satisfied: python-dotenv in /home/btheard/.local/lib/python3.10/site-packages (1.1.0)\n",
      "Note: you may need to restart the kernel to use updated packages.\n"
     ]
    }
   ],
   "source": [
    "%pip install openai\n",
    "%pip install python-dotenv\n",
    "\n"
   ]
  },
  {
   "cell_type": "code",
   "execution_count": 5,
   "metadata": {},
   "outputs": [],
   "source": [
    "from openai import OpenAI\n",
    "import os\n",
    "from dotenv import load_dotenv\n",
    "\n",
    "load_dotenv()\n",
    "client = OpenAI(api_key=os.getenv(\"OPENAI_API_KEY\"))\n",
    "\n",
    "def explain_calendar_trade(trade: dict):\n",
    "    prompt = f\"\"\"\n",
    "You are an expert options strategist. Please explain the following calendar spread trade idea to a beginner:\n",
    "\n",
    "Ticker: {trade['ticker']}\n",
    "Strategy: {trade['strategy']}\n",
    "Strike Price: {trade['strike']}\n",
    "Short Expiration: {trade['short_exp']} @ {trade['short_price']}\n",
    "Long Expiration: {trade['long_exp']} @ {trade['long_price']}\n",
    "Net Debit: {trade['net_debit']}\n",
    "\n",
    "Explain the profit potential, risks, and market conditions this trade works best in.\n",
    "    \"\"\"\n",
    "\n",
    "    response = client.chat.completions.create(\n",
    "        model=\"gpt-3.5-turbo\",\n",
    "        messages=[\n",
    "            {\"role\": \"system\", \"content\": \"You are a trading mentor who explains complex ideas in simple terms.\"},\n",
    "            {\"role\": \"user\", \"content\": prompt}\n",
    "        ]\n",
    "    )\n",
    "\n",
    "    return response.choices[0].message.content.strip()\n",
    "\n",
    "\n"
   ]
  },
  {
   "cell_type": "code",
   "execution_count": 6,
   "metadata": {},
   "outputs": [
    {
     "name": "stdout",
     "output_type": "stream",
     "text": [
      "Alright, let's break down the calendar call spread in simple terms!\n",
      "\n",
      "1. **What is a Calendar Call Spread?**\n",
      "A calendar call spread is a strategy where you buy and sell call options on the same underlying asset (in this case, SPY) but with different expiration dates. You want the price of the underlying asset to remain relatively stable.\n",
      "\n",
      "2. **The Trade Details:**\n",
      "- You are buying a call option on SPY with a strike price of 385 expiring on April 22, 2025 (long position).\n",
      "- You are selling a call option on SPY with the same strike price of 385 expiring on April 21, 2025 (short position).\n",
      "- The net cost of this trade is $18.42, which is your maximum loss potential.\n",
      "\n",
      "3. **Profit Potential:**\n",
      "- If SPY remains around the $385 level, the long option with the later expiration date could increase in value as time passes, while the short option could decrease. This could lead to a profit if managed correctly.\n",
      "\n",
      "4. **Risks:**\n",
      "- The main risk with this strategy is if SPY makes a significant move in either direction. If SPY moves too far away from $385, one of your options may lose value quickly, resulting in a potential loss.\n",
      "\n",
      "5. **Market Conditions:**\n",
      "- This strategy works best in a stable or range-bound market where you expect the underlying asset (SPY) to stay around the strike price of $385 until the short expiration date.\n",
      "\n",
      "In summary, a calendar call spread can be a lower-risk strategy compared to just buying a single call option, but it requires careful management and an understanding of how time decay and price movements can affect your positions. It's essential to monitor the trade and be prepared to adjust if the market conditions change.\n"
     ]
    }
   ],
   "source": [
    "explanation = explain_calendar_trade(trades[0])\n",
    "print(explanation)\n",
    "\n"
   ]
  },
  {
   "cell_type": "code",
   "execution_count": 7,
   "metadata": {},
   "outputs": [
    {
     "name": "stdout",
     "output_type": "stream",
     "text": [
      "✅ Trade logged at 2025-04-17T16:53:07.678455\n"
     ]
    }
   ],
   "source": [
    "from src.logging.journal_logger import log_trade\n",
    "\n",
    "log_trade(trades[0], explanation)\n"
   ]
  },
  {
   "cell_type": "code",
   "execution_count": 8,
   "metadata": {},
   "outputs": [
    {
     "name": "stdout",
     "output_type": "stream",
     "text": [
      "✅ Trade logged at 2025-04-17T16:53:29.597004\n",
      "Reflections saved: {'mindset': 'calm', 'rules_followed': 'improvise', 'lesson': 'how to begin'}\n"
     ]
    }
   ],
   "source": [
    "from src.logging.journal_logger import log_trade\n",
    "\n",
    "# Ask Mark Douglas-style prompts\n",
    "mindset = input(\"🧠 What was your mindset entering this trade? \")\n",
    "rules_followed = input(\"📘 Did you follow your system or improvise? \")\n",
    "lesson = input(\"🔁 What will you learn from this trade? \")\n",
    "\n",
    "reflections = {\n",
    "    \"mindset\": mindset,\n",
    "    \"rules_followed\": rules_followed,\n",
    "    \"lesson\": lesson\n",
    "}\n",
    "\n",
    "# Log trade + reflection together\n",
    "log_trade(trades[0], explanation, reflections=reflections)\n",
    "\n",
    "\n",
    "print(\"Reflections saved:\", reflections)\n"
   ]
  },
  {
   "cell_type": "code",
   "execution_count": 9,
   "metadata": {},
   "outputs": [
    {
     "name": "stdout",
     "output_type": "stream",
     "text": [
      "✅ AAPL: 50 ideas found\n",
      "✅ TSLA: 69 ideas found\n",
      "✅ SPY: 132 ideas found\n",
      "✅ QQQ: 98 ideas found\n",
      "✅ MSFT: 54 ideas found\n",
      "\n",
      "📈 Total trade ideas: 403\n",
      "{'ticker': 'AAPL', 'strategy': 'calendar_call', 'strike': 110.0, 'short_exp': '2025-04-25', 'short_price': np.float64(83.66), 'long_exp': '2025-05-02', 'long_price': np.float64(92.1), 'net_debit': np.float64(8.44)}\n",
      "{'ticker': 'AAPL', 'strategy': 'calendar_call', 'strike': 120.0, 'short_exp': '2025-04-25', 'short_price': np.float64(82.2), 'long_exp': '2025-05-02', 'long_price': np.float64(77.17), 'net_debit': np.float64(-5.03)}\n",
      "{'ticker': 'AAPL', 'strategy': 'calendar_call', 'strike': 125.0, 'short_exp': '2025-04-25', 'short_price': np.float64(76.0), 'long_exp': '2025-05-02', 'long_price': np.float64(72.2), 'net_debit': np.float64(-3.8)}\n",
      "{'ticker': 'AAPL', 'strategy': 'calendar_call', 'strike': 130.0, 'short_exp': '2025-04-25', 'short_price': np.float64(66.8), 'long_exp': '2025-05-02', 'long_price': np.float64(67.3), 'net_debit': np.float64(0.5)}\n",
      "{'ticker': 'AAPL', 'strategy': 'calendar_call', 'strike': 135.0, 'short_exp': '2025-04-25', 'short_price': np.float64(59.96), 'long_exp': '2025-05-02', 'long_price': np.float64(62.35), 'net_debit': np.float64(2.39)}\n"
     ]
    }
   ],
   "source": [
    "# Get trade ideas from the scanner controller\n",
    "from src.strategies.scanner_controller import get_trade_ideas\n",
    "\n",
    "tickers = [\"AAPL\", \"TSLA\", \"SPY\", \"QQQ\", \"MSFT\"]\n",
    "ideas = get_trade_ideas(tickers)\n",
    "\n",
    "for idea in ideas[:5]:\n",
    "    print(idea)\n",
    "\n"
   ]
  },
  {
   "cell_type": "code",
   "execution_count": 10,
   "metadata": {},
   "outputs": [
    {
     "name": "stdout",
     "output_type": "stream",
     "text": [
      "✅ SPY: 132 ideas found\n",
      "✅ QQQ: 98 ideas found\n",
      "✅ AAPL: 50 ideas found\n",
      "✅ TSLA: 69 ideas found\n",
      "✅ MSFT: 54 ideas found\n",
      "✅ NVDA: 80 ideas found\n",
      "✅ AMZN: 46 ideas found\n",
      "✅ GOOGL: 43 ideas found\n",
      "✅ META: 102 ideas found\n",
      "✅ AMD: 62 ideas found\n",
      "✅ NFLX: 103 ideas found\n",
      "✅ INTC: 39 ideas found\n",
      "✅ BA: 37 ideas found\n",
      "✅ BABA: 80 ideas found\n",
      "✅ SHOP: 53 ideas found\n",
      "✅ MU: 71 ideas found\n",
      "✅ TSM: 46 ideas found\n",
      "✅ UBER: 34 ideas found\n",
      "✅ SOFI: 28 ideas found\n",
      "✅ PYPL: 36 ideas found\n",
      "✅ COIN: 45 ideas found\n",
      "✅ JPM: 33 ideas found\n",
      "✅ XLF: 28 ideas found\n",
      "✅ XLE: 41 ideas found\n",
      "✅ XLY: 22 ideas found\n",
      "✅ XLP: 21 ideas found\n",
      "✅ XLI: 30 ideas found\n",
      "✅ XLV: 30 ideas found\n",
      "✅ XLC: 19 ideas found\n",
      "✅ XLU: 24 ideas found\n",
      "✅ ARKK: 40 ideas found\n",
      "✅ TLT: 43 ideas found\n",
      "✅ IWM: 38 ideas found\n",
      "✅ DIA: 82 ideas found\n",
      "✅ GLD: 68 ideas found\n",
      "✅ SLV: 19 ideas found\n",
      "✅ TQQQ: 71 ideas found\n",
      "✅ SQQQ: 53 ideas found\n",
      "✅ RIVN: 22 ideas found\n",
      "✅ DKNG: 27 ideas found\n",
      "✅ PLTR: 65 ideas found\n",
      "✅ PFE: 28 ideas found\n",
      "✅ DIS: 43 ideas found\n",
      "✅ CSCO: 19 ideas found\n",
      "✅ CRM: 31 ideas found\n",
      "✅ ABNB: 41 ideas found\n",
      "✅ BIDU: 52 ideas found\n",
      "✅ MRNA: 33 ideas found\n",
      "✅ WMT: 34 ideas found\n",
      "✅ NIO: 19 ideas found\n",
      "\n",
      "📈 Total trade ideas: 2384\n",
      "{'ticker': 'SPY', 'strategy': 'calendar_call', 'strike': 385.0, 'short_exp': '2025-04-21', 'short_price': np.float64(120.81), 'long_exp': '2025-04-22', 'long_price': np.float64(139.23), 'net_debit': np.float64(18.42)}\n",
      "{'ticker': 'SPY', 'strategy': 'calendar_call', 'strike': 400.0, 'short_exp': '2025-04-21', 'short_price': np.float64(125.59), 'long_exp': '2025-04-22', 'long_price': np.float64(141.75), 'net_debit': np.float64(16.16)}\n",
      "{'ticker': 'SPY', 'strategy': 'calendar_call', 'strike': 405.0, 'short_exp': '2025-04-21', 'short_price': np.float64(121.21), 'long_exp': '2025-04-22', 'long_price': np.float64(118.79), 'net_debit': np.float64(-2.42)}\n",
      "{'ticker': 'SPY', 'strategy': 'calendar_call', 'strike': 420.0, 'short_exp': '2025-04-21', 'short_price': np.float64(108.74), 'long_exp': '2025-04-22', 'long_price': np.float64(112.96), 'net_debit': np.float64(4.22)}\n",
      "{'ticker': 'SPY', 'strategy': 'calendar_call', 'strike': 430.0, 'short_exp': '2025-04-21', 'short_price': np.float64(99.5), 'long_exp': '2025-04-22', 'long_price': np.float64(111.34), 'net_debit': np.float64(11.84)}\n"
     ]
    }
   ],
   "source": [
    "from src.strategies.scanner_controller import get_trade_ideas\n",
    "\n",
    "ideas = get_trade_ideas(\"auto\")\n",
    "\n",
    "# Preview top ideas\n",
    "for idea in ideas[:5]:\n",
    "    print(idea)\n"
   ]
  },
  {
   "cell_type": "code",
   "execution_count": 11,
   "metadata": {},
   "outputs": [
    {
     "name": "stdout",
     "output_type": "stream",
     "text": [
      "\n",
      "📊 Trade Explanation:\n",
      " Sure, I'd be happy to explain this trade concept to you in a beginner-friendly format. The strategy you're asking about is called a \"calendar call spread,\" also known as a \"horizontal call spread.\" \n",
      "\n",
      "First, let's break down what happens in a calendar call spread:\n",
      "\n",
      "1. You're selling (or 'writing') a call option with a certain strike price and expiration date. In this case, the SPY call option you're selling has a strike price of 385.0 and expires on April 21, 2025. The premium you receive for selling this option is $120.81.\n",
      "\n",
      "2. Simultaneously, you're buying a call option with the same strike price but a later expiration date. For this example, the call option you're buying expires the next day, on April 22, 2025, and costs you $139.23.\n",
      "\n",
      "3. The cost of this trade setup (the 'net debit') is the difference between the premium you pay to buy the long call and the premium you receive from selling the short call. In this case, the net debit is $18.42.\n",
      "\n",
      "Now let's discuss the profit potential, risks, and ideal market conditions for this trade:\n",
      "\n",
      "Profit Potential: The maximum profit is achieved if SPY is at the strike price of the options at the expiration of the short call. Any increase in volatility of the SPY would also increase the price of the long call, potentially leading to a profit. \n",
      "\n",
      "Risks: The risk is limited to the net debit paid to initiate the trade. If SPY is significantly above or below the strike price at the expiration of the short call, both options may end up worthless, and you'd lose the net debit of $18.42.\n",
      "\n",
      "Market Conditions: This strategy works best in a market that is moving sideways and has low volatility. It benefits from a rise in implied volatility and time decay effect on the short-term option.\n",
      "\n",
      "Remember, like any trading strategy, calendar spreads require careful planning and risk management. Always make sure you understand the potential risks and rewards before entering a trade.\n",
      "✅ Trade logged at 2025-04-17T16:54:29.654896\n",
      "✅ Trade and reflections saved.\n",
      "\n",
      "📊 Trade Explanation:\n",
      " Okay, let's break this down:\n",
      "\n",
      "1. **The Trade:** A calendar call spread involves buying and selling two options of the same type (call options in this case) that have the same strike price, but different expiration dates. In this case, you're selling a call option on the SPY with a strike price of $400 that expires on April 21, 2025, and buying another call option on the SPY with the same strike price that expires a day later, on April 22, 2025. The prices for these options are $125.59 and $141.75 respectively, making your net cost to enter this trade -- also known as the net debit -- $16.16 per share.\n",
      "\n",
      "2. **Profit Potential:** The maximum profit potential for a calendar call spread is realized if the underlying security (SPY in this case) is at the strike price at the expiration of the short call (April 21, 2025). If SPY is at exactly $400 on this date, the short call you sold will expire worthless, while the long call you bought will have one day of remaining life, and therefore some value. The profit would be the value of the long call minus the net debit paid to initiate the trade.\n",
      "\n",
      "3. **Risks:** The risk in this trade is limited to the initial net debit paid. If SPY is significantly above or below the strike price at the expiration of the short call, both options may end up worthless, resulting in a total loss of the $16.16 you paid to enter the trade. \n",
      "\n",
      "4. **Market Conditions:** This trade works best in a market with low volatility, where the price of SPY is expected to remain near the strike price until the expiration of the short call. A sudden large move in either direction could make both options end up worthless, resulting in a loss. Additionally, because the profit potential relies heavily on the time decay of the options (also known as theta), this strategy is more effective when there is more time until the options expire.\n",
      "\n",
      "Remember, the purpose of this strategy is to take advantage of the faster time decay rate of near-term options relative to options that expire later. The goal is for the near-term option to lose its value faster than the long-term option, allowing you to sell the position for a profit.\n",
      "✅ Trade logged at 2025-04-17T16:55:21.540753\n",
      "✅ Trade and reflections saved.\n",
      "\n",
      "📊 Trade Explanation:\n",
      " Sure, I'd be happy to explain the calendar spread trade idea to you.\n",
      "\n",
      "Firstly, let's clarify what a calendar spread is. It's an options trading strategy where an individual simultaneously enters a long and short position in two options of the same type (same underlying asset) but with different expiration dates. In this case, we're dealing with a call calendar spread on SPY, which is the ticker symbol for the S&P 500 ETF.\n",
      "\n",
      "Here are the key details of your trade:\n",
      "- You're selling a SPY call option with a strike price of 405.0 that expires on April 21, 2025. You're receiving a premium of 121.21 for this.\n",
      "- You're buying a SPY call option with the same strike price of 405.0 that expires a day later, on April 22, 2025. This is costing you a premium of 118.79.\n",
      "- The net debit (or cost) of this trade for you is -2.42. This means you actually receive a credit of 2.42 for this trade (since a negative debit is a credit).\n",
      "\n",
      "Now, let's break down the profit potential, risks, and ideal market conditions for this trade.\n",
      "\n",
      "Profit Potential:\n",
      "The maximum profit from this trade is the net credit received when entering the trade, which is 2.42 in this case. This happens if SPY is at the strike price of the options at the expiration of the short call. However, any profit depends on the price of SPY at the expiration dates and the price of the long option when the short option expires.\n",
      "\n",
      "Risks:\n",
      "The risk in a calendar spread comes if the underlying asset price moves significantly. If SPY moves significantly above or below the strike price, the trade could end up in a loss. The maximum risk is the amount paid for the spread (or the net debit) plus any commission fees. In this case, since you received a net credit, your risk would be if you had to pay to close the positions.\n",
      "\n",
      "Ideal Market Conditions:\n",
      "Calendar spreads work best in a market where the price of the underlying asset (SPY, in this case) is expected to remain steady or move very slightly. This strategy also benefits from an increase in implied volatility because the longer-dated option that you own will increase in value more than the shorter-dated option you sold.\n",
      "\n",
      "It's important to note that options trading involves significant risk and isn't suitable for every investor. It's crucial to thoroughly understand any options strategy before you implement it.\n",
      "✅ Trade logged at 2025-04-17T16:55:57.504396\n",
      "✅ Trade and reflections saved.\n",
      "\n",
      "📊 Trade Explanation:\n",
      " Sure, let's break this down.\n",
      "\n",
      "In a Calendar Call Spread, you're dealing with two options for the same asset (in this case, SPY) and the same strike price (420.0), but with different expiration dates. \n",
      "\n",
      "Here's how the trade you're looking at is set up:\n",
      "- You're selling (short) an SPY call option that expires on April 21, 2025, and you receive a premium of $108.74.\n",
      "- You're buying (long) an SPY call option that expires on April 22, 2025, and it costs you $112.96.\n",
      "\n",
      "The difference between the cost of the long call and the premium received from the short call is your Net Debit, which is $4.22. This is your maximum risk or the most you could lose if the trade doesn't go in your favor.\n",
      "\n",
      "Now, let's talk about profit potential and risk:\n",
      "\n",
      "1. Profit Potential: This strategy profits from a moderate rise in the price of the underlying asset, in this case, SPY. The maximum profit is somewhat limited; it will occur if SPY is near the strike price at the expiration of the short call. The exact amount of the maximum profit can be hard to calculate because it depends on the difference in price decay (theta) between the two options.\n",
      "\n",
      "2. Risks: Your maximum risk is the net debit you paid to set up the trade ($4.22). This would happen if SPY drops significantly, and both options expire worthless, or if SPY rises too much, and both options are deep in-the-money at expiration. \n",
      "\n",
      "3. Market Conditions: This strategy does best in a moderately bullish market — where the price of SPY is expected to rise, but not drastically. It also benefits from an increase in implied volatility because the long option tends to gain more than the short option due to the longer time to expiration.\n",
      "\n",
      "Remember, options trading can be complex and involves a high level of risk. Make sure you understand the complete risk profile of a trade before entering it.\n",
      "✅ Trade logged at 2025-04-17T16:56:28.219004\n",
      "✅ Trade and reflections saved.\n",
      "\n",
      "📊 Trade Explanation:\n",
      " Sure, I'd be happy to explain this to you. \n",
      "\n",
      "First, let's break down what a calendar call spread is. It's an options strategy that involves buying and selling two call options of the same strike price but different expiration dates. The goal of this strategy is to take advantage of time decay, which is the idea that options lose their value over time.\n",
      "\n",
      "In this trade, you're selling a call option on SPY with a strike price of $430 that expires on April 21, 2025, and you're buying a call option with the same strike price that expires a day later, on April 22, 2025. This trade is being entered for a net debit of $11.84. Net debit means that this is the amount you're paying to enter the trade.\n",
      "\n",
      "Now, let's talk about potential profit. The maximum profit potential of a calendar spread is realized if SPY is at the strike price of $430 at the expiration of the short call. In this case, the short call would expire worthless, and the long call would still have value. Essentially, the profit comes from the short call losing value faster than the long call due to time decay.\n",
      "\n",
      "As for risks, the maximum risk is the initial net debit you paid to enter the trade, which in this case is $11.84. You would lose this amount if SPY is significantly above or below the strike price at the expiration of the short call.\n",
      "\n",
      "Furthermore, this trade works best in a neutral market condition where the underlying security (SPY) is expected to have little to no movement. The reason being, large price swings can cause both options to become in-the-money or out-of-the-money, which is not ideal for a calendar spread.\n",
      "\n",
      "Finally, it's important to consider volatility. If volatility increases, it can inflate the price of the long call relative to the short call, which could be beneficial. However, if volatility decreases, it could have the opposite effect.\n",
      "\n",
      "Remember, options trading involves significant risk and isn't suitable for every investor. Make sure you understand these risks and have a risk management strategy in place before you start trading options.\n",
      "✅ Trade logged at 2025-04-17T16:57:01.550689\n",
      "✅ Trade and reflections saved.\n"
     ]
    }
   ],
   "source": [
    "## Step 3: Explain Top Trades & Journal\n",
    "from src.llm.explain_trade import explain_calendar_trade\n",
    "from src.logging.journal_logger import log_trade\n",
    "\n",
    "# Optional: limit how many trades to auto-explain + journal\n",
    "top_trades = ideas[:5]  # or whatever number you prefer\n",
    "\n",
    "for trade in top_trades:\n",
    "    # STEP 1: Generate explanation using GPT\n",
    "    explanation = explain_calendar_trade(trade)\n",
    "    print(\"\\n📊 Trade Explanation:\\n\", explanation)\n",
    "\n",
    "    # STEP 2: Prompt user for reflections\n",
    "    mindset = input(\"🧠 What was your mindset entering this trade? \")\n",
    "    rules_followed = input(\"🔷 Did you follow your system or improvise? \")\n",
    "    lesson = input(\"📘 What will you learn from this trade? \")\n",
    "\n",
    "    reflections = {\n",
    "        \"mindset\": mindset,\n",
    "        \"rules_followed\": rules_followed,\n",
    "        \"lesson\": lesson\n",
    "    }\n",
    "\n",
    "    # STEP 3: Log it all into the journal\n",
    "    log_trade(trade, explanation, reflections)\n",
    "\n",
    "    print(\"✅ Trade and reflections saved.\")\n"
   ]
  }
 ],
 "metadata": {
  "kernelspec": {
   "display_name": "Python 3",
   "language": "python",
   "name": "python3"
  },
  "language_info": {
   "codemirror_mode": {
    "name": "ipython",
    "version": 3
   },
   "file_extension": ".py",
   "mimetype": "text/x-python",
   "name": "python",
   "nbconvert_exporter": "python",
   "pygments_lexer": "ipython3",
   "version": "3.10.12"
  }
 },
 "nbformat": 4,
 "nbformat_minor": 2
}
