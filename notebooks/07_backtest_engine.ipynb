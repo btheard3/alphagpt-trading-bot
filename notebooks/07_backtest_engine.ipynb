{
 "cells": [
  {
   "cell_type": "code",
   "execution_count": 1,
   "id": "97e20cef",
   "metadata": {},
   "outputs": [],
   "source": [
    "# 📦 Import required packages\n",
    "import yfinance as yf\n",
    "import pandas as pd\n",
    "import json \n",
    "from datetime import datetime\n",
    "\n",
    "\n"
   ]
  },
  {
   "cell_type": "code",
   "execution_count": 2,
   "id": "4be14898",
   "metadata": {},
   "outputs": [
    {
     "name": "stdout",
     "output_type": "stream",
     "text": [
      "Loaded strategy: Long Straddle\n"
     ]
    }
   ],
   "source": [
    "# 📋 Load the most recent strategy from trade_log.json\n",
    "with open(\"data/trade_log.json\", \"r\") as f:\n",
    "    trade_log = json.load(f)\n",
    "    strategy = trade_log[-1]  # Get the last logged trade\n",
    "    print(\"Loaded strategy:\", strategy[\"strategy_name\"])\n",
    "\n"
   ]
  },
  {
   "cell_type": "code",
   "execution_count": 3,
   "id": "e565f641",
   "metadata": {},
   "outputs": [
    {
     "name": "stdout",
     "output_type": "stream",
     "text": [
      "YF.download() has changed argument auto_adjust default to True\n"
     ]
    },
    {
     "name": "stderr",
     "output_type": "stream",
     "text": [
      "[*********************100%***********************]  1 of 1 completed\n"
     ]
    }
   ],
   "source": [
    "# 📥 Download historical data using yfinance\n",
    "ticker = strategy[\"ticker\"]\n",
    "entry_date = pd.to_datetime(strategy[\"timestamp\"]).normalize()\n",
    "\n",
    "# Download 30 days of history before and after the trade timestamp\n",
    "start_date = (entry_date - pd.Timedelta(days=30)).strftime('%Y-%m-%d')\n",
    "end_date = (entry_date + pd.Timedelta(days=30)).strftime('%Y-%m-%d')\n",
    "\n",
    "df = yf.download(ticker, start=start_date, end=end_date)\n",
    "df.reset_index(inplace=True)\n",
    "df[\"date\"] = pd.to_datetime(df[\"Date\"]).dt.date\n",
    "\n"
   ]
  },
  {
   "cell_type": "code",
   "execution_count": 4,
   "id": "fbd9df2f",
   "metadata": {},
   "outputs": [],
   "source": [
    "# 🔁 Backtest the strategy against historical highs/lows\n",
    "def backtest_strategy(df, strategy):\n",
    "    entry_price = strategy[\"entry_price\"]\n",
    "    target_price = entry_price * (1 + strategy[\"target_pct\"])\n",
    "    stop_price = entry_price * (1 - strategy[\"stop_pct\"])\n",
    "\n",
    "    for row in df.itertuples():\n",
    "        high = getattr(row, \"high\", None)\n",
    "        low = getattr(row, \"low\", None)\n",
    "        date = getattr(row, \"date\", None)\n",
    "\n",
    "        if high is None or low is None or date is None:\n",
    "            continue  # Skip rows with missing values\n",
    "\n",
    "        if high >= target_price:\n",
    "            return {\n",
    "                \"outcome\": \"Target Hit\",\n",
    "                \"exit_price\": target_price,\n",
    "                \"exit_date\": date.strftime(\"%Y-%m-%d\")\n",
    "            }\n",
    "        elif low <= stop_price:\n",
    "            return {\n",
    "                \"outcome\": \"Stop Hit\",\n",
    "                \"exit_price\": stop_price,\n",
    "                \"exit_date\": date.strftime(\"%Y-%m-%d\")\n",
    "            }\n",
    "\n",
    "    return {\n",
    "        \"outcome\": \"Open\",\n",
    "        \"exit_price\": entry_price,\n",
    "        \"exit_date\": None\n",
    "    }\n",
    "\n",
    "\n"
   ]
  },
  {
   "cell_type": "code",
   "execution_count": 5,
   "id": "6e0b4a01",
   "metadata": {},
   "outputs": [
    {
     "name": "stdout",
     "output_type": "stream",
     "text": [
      "📊 Backtest Result: {'outcome': 'Open', 'exit_price': 3.25, 'exit_date': None}\n"
     ]
    }
   ],
   "source": [
    "# 🧪 Run backtest and attach result to strategy\n",
    "result = backtest_strategy(df, strategy)\n",
    "strategy[\"backtest_result\"] = result\n",
    "\n",
    "print(\"📊 Backtest Result:\", result)\n",
    "\n"
   ]
  }
 ],
 "metadata": {
  "kernelspec": {
   "display_name": "Python 3",
   "language": "python",
   "name": "python3"
  },
  "language_info": {
   "codemirror_mode": {
    "name": "ipython",
    "version": 3
   },
   "file_extension": ".py",
   "mimetype": "text/x-python",
   "name": "python",
   "nbconvert_exporter": "python",
   "pygments_lexer": "ipython3",
   "version": "3.10.12"
  }
 },
 "nbformat": 4,
 "nbformat_minor": 5
}
