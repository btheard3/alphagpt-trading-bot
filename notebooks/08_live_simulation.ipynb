{
 "cells": [
  {
   "cell_type": "code",
   "execution_count": 1,
   "id": "5a58fe2a",
   "metadata": {},
   "outputs": [
    {
     "name": "stdout",
     "output_type": "stream",
     "text": [
      "🧾 Last Trade:\n",
      " {'timestamp': '2025-04-21T22:59:16.189413', 'ticker': 'SPY', 'strategy_name': 'Covered Call', 'description': \"The Covered Call strategy ranks first due to its ability to generate income and limit downside risk, which aligns with the trader's strengths. It also adapts well to a neutral or slightly bullish market, providing flexibility in various market conditions.\", 'entry_price': 3.25, 'dte': 14, 'target_pct': 0.25, 'stop_pct': 0.15, 'status': 'OPEN'}\n"
     ]
    }
   ],
   "source": [
    "# 📦 Imports and setup\n",
    "import json\n",
    "import yfinance as yf\n",
    "from datetime import datetime, timedelta\n",
    "from pathlib import Path\n",
    "\n",
    "# Load last logged trade\n",
    "log_path = Path(\"data/trade_log.json\")\n",
    "with open(log_path, \"r\") as f:\n",
    "    trades = json.load(f)\n",
    "\n",
    "last_trade = trades[-1]\n",
    "print(\"🧾 Last Trade:\\n\", last_trade)\n"
   ]
  },
  {
   "cell_type": "code",
   "execution_count": 2,
   "id": "59ef33e7",
   "metadata": {},
   "outputs": [
    {
     "name": "stdout",
     "output_type": "stream",
     "text": [
      "YF.download() has changed argument auto_adjust default to True\n"
     ]
    },
    {
     "name": "stderr",
     "output_type": "stream",
     "text": [
      "[*********************100%***********************]  1 of 1 completed"
     ]
    },
    {
     "name": "stdout",
     "output_type": "stream",
     "text": [
      "📈 Simulated Price Feed:\n",
      "\n"
     ]
    },
    {
     "name": "stderr",
     "output_type": "stream",
     "text": [
      "\n"
     ]
    },
    {
     "data": {
      "application/vnd.microsoft.datawrangler.viewer.v0+json": {
       "columns": [
        {
         "name": "index",
         "rawType": "int64",
         "type": "integer"
        },
        {
         "name": "('Date', '')",
         "rawType": "datetime64[ns]",
         "type": "datetime"
        },
        {
         "name": "('High', 'SPY')",
         "rawType": "float64",
         "type": "float"
        },
        {
         "name": "('Low', 'SPY')",
         "rawType": "float64",
         "type": "float"
        },
        {
         "name": "('Close', 'SPY')",
         "rawType": "float64",
         "type": "float"
        }
       ],
       "conversionMethod": "pd.DataFrame",
       "ref": "6385ca90-3515-4a2a-b53d-308084d641c0",
       "rows": [
        [
         "0",
         "2025-04-02 00:00:00",
         "567.4199829101562",
         "554.8099975585938",
         "564.52001953125"
        ],
        [
         "1",
         "2025-04-03 00:00:00",
         "547.969970703125",
         "536.7000122070312",
         "536.7000122070312"
        ],
        [
         "2",
         "2025-04-04 00:00:00",
         "525.8699951171875",
         "505.05999755859375",
         "505.2799987792969"
        ],
        [
         "3",
         "2025-04-07 00:00:00",
         "523.1699829101562",
         "481.79998779296875",
         "504.3800048828125"
        ],
        [
         "4",
         "2025-04-08 00:00:00",
         "524.97998046875",
         "489.1600036621094",
         "496.4800109863281"
        ]
       ],
       "shape": {
        "columns": 4,
        "rows": 5
       }
      },
      "text/html": [
       "<div>\n",
       "<style scoped>\n",
       "    .dataframe tbody tr th:only-of-type {\n",
       "        vertical-align: middle;\n",
       "    }\n",
       "\n",
       "    .dataframe tbody tr th {\n",
       "        vertical-align: top;\n",
       "    }\n",
       "\n",
       "    .dataframe thead tr th {\n",
       "        text-align: left;\n",
       "    }\n",
       "</style>\n",
       "<table border=\"1\" class=\"dataframe\">\n",
       "  <thead>\n",
       "    <tr>\n",
       "      <th>Price</th>\n",
       "      <th>Date</th>\n",
       "      <th>High</th>\n",
       "      <th>Low</th>\n",
       "      <th>Close</th>\n",
       "    </tr>\n",
       "    <tr>\n",
       "      <th>Ticker</th>\n",
       "      <th></th>\n",
       "      <th>SPY</th>\n",
       "      <th>SPY</th>\n",
       "      <th>SPY</th>\n",
       "    </tr>\n",
       "  </thead>\n",
       "  <tbody>\n",
       "    <tr>\n",
       "      <th>0</th>\n",
       "      <td>2025-04-02</td>\n",
       "      <td>567.419983</td>\n",
       "      <td>554.809998</td>\n",
       "      <td>564.520020</td>\n",
       "    </tr>\n",
       "    <tr>\n",
       "      <th>1</th>\n",
       "      <td>2025-04-03</td>\n",
       "      <td>547.969971</td>\n",
       "      <td>536.700012</td>\n",
       "      <td>536.700012</td>\n",
       "    </tr>\n",
       "    <tr>\n",
       "      <th>2</th>\n",
       "      <td>2025-04-04</td>\n",
       "      <td>525.869995</td>\n",
       "      <td>505.059998</td>\n",
       "      <td>505.279999</td>\n",
       "    </tr>\n",
       "    <tr>\n",
       "      <th>3</th>\n",
       "      <td>2025-04-07</td>\n",
       "      <td>523.169983</td>\n",
       "      <td>481.799988</td>\n",
       "      <td>504.380005</td>\n",
       "    </tr>\n",
       "    <tr>\n",
       "      <th>4</th>\n",
       "      <td>2025-04-08</td>\n",
       "      <td>524.979980</td>\n",
       "      <td>489.160004</td>\n",
       "      <td>496.480011</td>\n",
       "    </tr>\n",
       "  </tbody>\n",
       "</table>\n",
       "</div>"
      ],
      "text/plain": [
       "Price        Date        High         Low       Close\n",
       "Ticker                    SPY         SPY         SPY\n",
       "0      2025-04-02  567.419983  554.809998  564.520020\n",
       "1      2025-04-03  547.969971  536.700012  536.700012\n",
       "2      2025-04-04  525.869995  505.059998  505.279999\n",
       "3      2025-04-07  523.169983  481.799988  504.380005\n",
       "4      2025-04-08  524.979980  489.160004  496.480011"
      ]
     },
     "metadata": {},
     "output_type": "display_data"
    }
   ],
   "source": [
    "# 📊 Pull recent price data\n",
    "ticker = last_trade[\"ticker\"]\n",
    "entry_price = last_trade[\"entry_price\"]\n",
    "dte = last_trade[\"dte\"]\n",
    "target_pct = last_trade[\"target_pct\"]\n",
    "stop_pct = last_trade[\"stop_pct\"]\n",
    "\n",
    "target_price = entry_price * (1 + target_pct)\n",
    "stop_price = entry_price * (1 - stop_pct)\n",
    "\n",
    "# 🗓️ Pull recent daily candles from yfinance (14 days)\n",
    "ohlc = yf.download(ticker, period=\"14d\", interval=\"1d\")\n",
    "ohlc = ohlc.reset_index()\n",
    "\n",
    "print(\"📈 Simulated Price Feed:\\n\")\n",
    "display(ohlc[[\"Date\", \"High\", \"Low\", \"Close\"]].head())\n"
   ]
  },
  {
   "cell_type": "code",
   "execution_count": 3,
   "id": "8f954b52",
   "metadata": {},
   "outputs": [
    {
     "name": "stdout",
     "output_type": "stream",
     "text": [
      "📆 Trade Completed: Target Hit on 2025-04-02 at $4.06\n"
     ]
    }
   ],
   "source": [
    "# 🔁 Simulate trade outcome over daily candles\n",
    "outcome = \"Open\"\n",
    "exit_price = None\n",
    "exit_date = None\n",
    "\n",
    "for i, row in ohlc.iterrows():\n",
    "    high = row[(\"High\", ticker)]\n",
    "    low = row[(\"Low\", ticker)]\n",
    "    date = row[(\"Date\", \"\")]\n",
    "\n",
    "    if high >= target_price:\n",
    "        outcome = \"Target Hit\"\n",
    "        exit_price = target_price\n",
    "        exit_date = date.strftime(\"%Y-%m-%d\")\n",
    "        break\n",
    "    elif low <= stop_price:\n",
    "        outcome = \"Stop Hit\"\n",
    "        exit_price = stop_price\n",
    "        exit_date = date.strftime(\"%Y-%m-%d\")\n",
    "        break\n",
    "    else:\n",
    "        dte -= 1\n",
    "        if dte <= 0:\n",
    "            outcome = \"Expired\"\n",
    "            exit_price = row[(\"Close\", ticker)]\n",
    "            exit_date = date.strftime(\"%Y-%m-%d\")\n",
    "            break\n",
    "\n",
    "# 📦 Attach result to trade\n",
    "last_trade[\"status\"] = outcome\n",
    "last_trade[\"exit_price\"] = exit_price\n",
    "last_trade[\"exit_date\"] = exit_date\n",
    "last_trade[\"dte\"] = dte\n",
    "\n",
    "print(f\"📆 Trade Completed: {outcome} on {exit_date or 'N/A'} at ${exit_price:.2f}\")\n"
   ]
  },
  {
   "cell_type": "code",
   "execution_count": 4,
   "id": "aee53db3",
   "metadata": {},
   "outputs": [
    {
     "name": "stdout",
     "output_type": "stream",
     "text": [
      "💾 Trade log updated.\n"
     ]
    }
   ],
   "source": [
    "# 💾 Save updated trade log\n",
    "log_path = Path(\"data/trade_log.json\")\n",
    "\n",
    "# Load existing log\n",
    "with open(log_path, \"r\") as f:\n",
    "    trades = json.load(f)\n",
    "\n",
    "# Replace last trade with updated one\n",
    "trades[-1] = last_trade\n",
    "\n",
    "# Save it back\n",
    "with open(log_path, \"w\") as f:\n",
    "    json.dump(trades, f, indent=2)\n",
    "\n",
    "print(f\"💾 Trade log updated.\")\n"
   ]
  }
 ],
 "metadata": {
  "kernelspec": {
   "display_name": "Python 3",
   "language": "python",
   "name": "python3"
  },
  "language_info": {
   "codemirror_mode": {
    "name": "ipython",
    "version": 3
   },
   "file_extension": ".py",
   "mimetype": "text/x-python",
   "name": "python",
   "nbconvert_exporter": "python",
   "pygments_lexer": "ipython3",
   "version": "3.10.12"
  }
 },
 "nbformat": 4,
 "nbformat_minor": 5
}
