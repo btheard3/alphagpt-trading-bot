{
 "cells": [
  {
   "cell_type": "code",
   "execution_count": 1,
   "id": "10c91cce",
   "metadata": {},
   "outputs": [
    {
     "name": "stdout",
     "output_type": "stream",
     "text": [
      "✅ Loaded 14 journal entries.\n"
     ]
    }
   ],
   "source": [
    "# 📊 STEP 1: Load trade journal\n",
    "import sys\n",
    "sys.path.append(\"../\") \n",
    "\n",
    "import json\n",
    "from pathlib import Path\n",
    "\n",
    "journal_path = Path(\"data/journal.json\")\n",
    "\n",
    "if journal_path.exists():\n",
    "    with open(journal_path, \"r\") as f:\n",
    "        journal = json.load(f)\n",
    "    print(f\"✅ Loaded {len(journal)} journal entries.\")\n",
    "else:\n",
    "    print(\"❌ No journal found. Run previous steps to generate trade logs.\")\n",
    "    journal = []\n"
   ]
  },
  {
   "cell_type": "code",
   "execution_count": 3,
   "id": "26847c27",
   "metadata": {},
   "outputs": [
    {
     "name": "stdout",
     "output_type": "stream",
     "text": [
      "📖 Preview GPT Input (trades + mindset):\n",
      "\n",
      "Sure, let's break down the calendar call spread strategy in simple terms:\n",
      "\n",
      "**What is a Calendar Call Spread?**\n",
      "A calendar call spread involves buying and selling call options with the same strike price but different expiration dates.\n",
      "\n",
      "**Trade Details:**\n",
      "- Ticker: SPY is the ETF representing the S&P 500 index.\n",
      "- Strategy: Calendar call spread means buying a longer-term call option and selling a shorter-term call option.\n",
      "- Strike Price: Both the short and long call options have a strike price of 520.0.\n",
      "- Expiration Dates: The short call expires on April 7, 2025, and the long call expires on April 8, 2025.\n",
      "- Net Debit: The trade costs 1.62 per share to enter.\n",
      "\n",
      "**Profit Potential:**\n",
      "- The goal of a calendar call spread is to profit from the difference in time decay between the short and long options.\n",
      "- If the stock price stays near the strike price (520.0) until the short option expires, the trade can potentially benefit from the accelerated time decay in the short option while holding the\n"
     ]
    }
   ],
   "source": [
    "# 📘 STEP 2: Prepare trade history for GPT (with safeguards)\n",
    "explanations = [entry[\"explanation\"] for entry in journal if \"explanation\" in entry]\n",
    "reflections = [\n",
    "    entry[\"reflections\"]\n",
    "    for entry in journal\n",
    "    if \"reflections\" in entry\n",
    "    and isinstance(entry[\"reflections\"], dict)\n",
    "    and all(k in entry[\"reflections\"] for k in (\"mindset\", \"rules_followed\", \"lesson\"))\n",
    "]\n",
    "\n",
    "trade_history_summary = \"\\n\\n\".join(explanations[:10])\n",
    "mindset_summary = \"\\n\".join([\n",
    "    f\"- 🧠 {r['mindset']}, 📏 Rules: {r['rules_followed']}, 📚 Lesson: {r['lesson']}\"\n",
    "    for r in reflections\n",
    "])\n",
    "\n",
    "print(\"📖 Preview GPT Input (trades + mindset):\\n\")\n",
    "print(trade_history_summary[:1000])  # preview\n",
    "\n"
   ]
  },
  {
   "cell_type": "code",
   "execution_count": 5,
   "id": "a61a4478",
   "metadata": {},
   "outputs": [],
   "source": [
    "# 🤖 STEP 3: Build a strategy using GPT\n",
    "from openai import OpenAI\n",
    "from dotenv import load_dotenv\n",
    "import os\n",
    "\n",
    "load_dotenv()\n",
    "openai.api_key = os.getenv(\"OPENAI_API_KEY\")\n",
    "\n",
    "prompt = f\"\"\"\n",
    "You are an elite options strategist and performance coach.\n",
    "\n",
    "Analyze the following trading history and mindset reflections to identify patterns of success.\n",
    "Then, suggest **3 new option strategies** that align with the trader’s strengths.\n",
    "\n",
    "--- TRADE EXPLANATIONS ---\n",
    "{trade_history_summary}\n",
    "\n",
    "--- MINDSET REFLECTIONS ---\n",
    "{mindset_summary}\n",
    "\n",
    "Return your response in this format:\n",
    "\n",
    "1. 📈 Strategy Name:\n",
    "   - Description:\n",
    "   - Why this fits the trader:\n",
    "   - Best conditions for this strategy:\n",
    "\"\"\"\n",
    "\n",
    "client = OpenAI(api_key=os.getenv(\"OPENAI_API_KEY\"))\n",
    "\n",
    "response = client.chat.completions.create(\n",
    "    model=\"gpt-4\",\n",
    "    messages=[\n",
    "        {\"role\": \"system\", \"content\": \"You're a trading mentor and strategy optimizer.\"},\n",
    "        {\"role\": \"user\", \"content\": prompt}\n",
    "    ],\n",
    "    temperature=0.7\n",
    ")\n",
    "\n",
    "strategy_output = response.choices[0].message.content.strip()\n"
   ]
  },
  {
   "cell_type": "code",
   "execution_count": 6,
   "id": "c2841931",
   "metadata": {},
   "outputs": [
    {
     "name": "stdout",
     "output_type": "stream",
     "text": [
      "📌 GPT Strategy Recommendations:\n",
      "\n",
      "**Pattern of Success**\n",
      "\n",
      "The trader's historical performance and mindset reflections show a consistent use of the calendar call spread strategy, which indicates a preference for strategies that profit from time decay and stable market conditions. The repeated use of improvisation as a rule indicates an adaptive mindset, and the consistent learning mindset shows a willingness to continually improve and adjust their strategy. This suggests the trader might do well with strategies that allow for adjustments and can benefit from changing market conditions.\n",
      "\n",
      "Based on this, here are three new option strategies that align with the trader’s strengths:\n",
      "\n",
      "1. 📈 Strategy Name: Iron Condor\n",
      "   - Description: An Iron Condor involves selling a call spread and a put spread on the same underlying asset with the same expiration date. The goal is to profit from a lack of movement in the underlying asset.\n",
      "   - Why this fits the trader: Similar to a calendar spread, an Iron Condor profits from a lack of movement in the underlying asset. However, it also allows for adjustments if the asset's price starts to move towards either the call or put spread.\n",
      "   - Best conditions for this strategy: This strategy works best in a stable market with low volatility, similar to the market conditions favored by the trader's current strategy.\n",
      "\n",
      "2. 📈 Strategy Name: Butterfly Spread\n",
      "   - Description: A Butterfly Spread involves buying a call at a lower strike price, selling two calls at a middle strike price, and buying another call at a higher strike price. All calls have the same expiration date. This strategy profits if the underlying asset's price is close to the middle strike price at expiration.\n",
      "   - Why this fits the trader: Like a calendar spread, a Butterfly Spread profits from a lack of movement in the underlying asset. However, it also allows for adjustments and can tolerate a slight movement in either direction.\n",
      "   - Best conditions for this strategy: This strategy works best in a market that the trader expects to be relatively stable or only move slightly.\n",
      "\n",
      "3. 📈 Strategy Name: Double Diagonal Spread\n",
      "   - Description: A Double Diagonal Spread involves selling a near-term call and put at different strike prices, and then buying a longer-term call and put at different strike prices. The goal is to profit from time decay and changes in implied volatility.\n",
      "   - Why this fits the trader: A Double Diagonal Spread allows for adjustments and can benefit from changes in implied volatility, making it suitable for a trader who is willing to improvise and continually learn.\n",
      "   - Best conditions for this strategy: This strategy works best in a market with changing volatility and a price that is expected to stay within a certain range.\n",
      "\n",
      "✅ Strategies saved to data/strategies_generated.json\n"
     ]
    }
   ],
   "source": [
    "# 💾 STEP 4: Output the GPT-generated strategies\n",
    "print(\"📌 GPT Strategy Recommendations:\\n\")\n",
    "print(strategy_output)\n",
    "\n",
    "# Optional: Save it\n",
    "output_path = Path(\"data/strategies_generated.json\")\n",
    "output_path.parent.mkdir(parents=True, exist_ok=True)\n",
    "\n",
    "with open(output_path, \"w\") as f:\n",
    "    json.dump({\"strategies\": strategy_output}, f, indent=2)\n",
    "\n",
    "print(f\"\\n✅ Strategies saved to {output_path}\")\n"
   ]
  }
 ],
 "metadata": {
  "kernelspec": {
   "display_name": "Python 3",
   "language": "python",
   "name": "python3"
  },
  "language_info": {
   "codemirror_mode": {
    "name": "ipython",
    "version": 3
   },
   "file_extension": ".py",
   "mimetype": "text/x-python",
   "name": "python",
   "nbconvert_exporter": "python",
   "pygments_lexer": "ipython3",
   "version": "3.10.12"
  }
 },
 "nbformat": 4,
 "nbformat_minor": 5
}
