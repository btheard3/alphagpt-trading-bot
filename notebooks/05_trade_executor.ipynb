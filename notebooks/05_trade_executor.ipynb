{
 "cells": [
  {
   "cell_type": "code",
   "execution_count": 1,
   "id": "2d4f7f58",
   "metadata": {},
   "outputs": [],
   "source": [
    "import sys\n",
    "sys.path.append(\"../\") \n",
    "import json\n",
    "from pathlib import Path\n",
    "from pprint import pprint\n",
    "from datetime import datetime\n",
    "from src.execution.trade_executor import simulate_trade\n"
   ]
  },
  {
   "cell_type": "code",
   "execution_count": 2,
   "id": "2ff5abec",
   "metadata": {},
   "outputs": [
    {
     "name": "stdout",
     "output_type": "stream",
     "text": [
      "✅ Loaded 3 strategies\n",
      "0: Long Straddle\n",
      "1: Iron Condor\n",
      "2: Butterfly Spread\n"
     ]
    }
   ],
   "source": [
    "# Load ranked strategies from JSON\n",
    "ranked_path = Path(\"data/ranked_strategies.json\")\n",
    "\n",
    "if ranked_path.exists():\n",
    "    with open(ranked_path, \"r\") as f:\n",
    "        data = json.load(f)\n",
    "        if isinstance(data, dict) and \"strategies\" in data:\n",
    "            ranked_strategies = data[\"strategies\"]\n",
    "        else:\n",
    "            print(\"⚠️ Unrecognized format in ranked_strategies.json\")\n",
    "            ranked_strategies = []\n",
    "else:\n",
    "    print(\"❌ ranked_strategies.json not found.\")\n",
    "    ranked_strategies = []\n",
    "\n",
    "# Show all loaded strategy names\n",
    "print(f\"✅ Loaded {len(ranked_strategies)} strategies\")\n",
    "for i, s in enumerate(ranked_strategies):\n",
    "    print(f\"{i}: {s.get('strategy_name', 'Unnamed')}\")\n",
    "\n",
    "\n",
    "\n",
    "\n",
    "\n"
   ]
  },
  {
   "cell_type": "code",
   "execution_count": 3,
   "id": "d0e4ce9b",
   "metadata": {},
   "outputs": [],
   "source": [
    "# Select strategy index and parameters\n",
    "strategy_index = 0  # Change manually as needed\n",
    "\n",
    "if len(ranked_strategies) == 0:\n",
    "    raise ValueError(\"🚫 No strategies available to select.\")\n",
    "\n",
    "selected_strategy = ranked_strategies[strategy_index]\n",
    "ticker = \"SPY\"\n",
    "entry_price = 3.25\n",
    "dte = 14\n",
    "target_pct = 0.25\n",
    "stop_pct = 0.15\n",
    "\n",
    "\n",
    "\n"
   ]
  },
  {
   "cell_type": "code",
   "execution_count": 4,
   "id": "164fb664",
   "metadata": {},
   "outputs": [
    {
     "name": "stdout",
     "output_type": "stream",
     "text": [
      "📥 Trade logged!\n",
      "✅ Trade simulation complete and logged.\n"
     ]
    }
   ],
   "source": [
    "# Run trade simulation and log the result\n",
    "trade = simulate_trade(\n",
    "    strategy=selected_strategy,\n",
    "    ticker=ticker,\n",
    "    entry_price=entry_price,\n",
    "    dte=dte,\n",
    "    target_pct=target_pct,\n",
    "    stop_pct=stop_pct\n",
    ")\n",
    "\n",
    "print(\"✅ Trade simulation complete and logged.\")\n",
    "\n",
    "\n"
   ]
  },
  {
   "cell_type": "code",
   "execution_count": 5,
   "id": "a9f5b9a4",
   "metadata": {},
   "outputs": [
    {
     "name": "stdout",
     "output_type": "stream",
     "text": [
      "🧾 Last Trade:\n",
      "{'description': 'The Long Straddle strategy ranks first due to its high profit '\n",
      "                'potential in volatile markets and its alignment with the '\n",
      "                \"trader's adaptability. This strategy allows the trader to \"\n",
      "                'profit from significant price movements in either direction, '\n",
      "                'offering flexibility in various market conditions.',\n",
      " 'dte': 14,\n",
      " 'entry_price': 3.25,\n",
      " 'status': 'OPEN',\n",
      " 'stop_pct': 0.15,\n",
      " 'strategy_name': 'Long Straddle',\n",
      " 'target_pct': 0.25,\n",
      " 'ticker': 'SPY',\n",
      " 'timestamp': '2025-04-23T16:43:11.166499'}\n"
     ]
    }
   ],
   "source": [
    "# Preview last logged trade safely\n",
    "log_path = Path(\"data/trade_log.json\")\n",
    "\n",
    "try:\n",
    "    with open(log_path, \"r\") as f:\n",
    "        log = json.load(f)\n",
    "        if isinstance(log, list) and log:\n",
    "            print(\"🧾 Last Trade:\")\n",
    "            pprint(log[-1])\n",
    "        else:\n",
    "            print(\"📭 Trade log is empty.\")\n",
    "except FileNotFoundError:\n",
    "    print(\"❌ trade_log.json not found.\")\n",
    "except json.JSONDecodeError:\n",
    "    print(\"❌ Invalid JSON format in trade_log.json.\")"
   ]
  }
 ],
 "metadata": {
  "kernelspec": {
   "display_name": "Python 3",
   "language": "python",
   "name": "python3"
  },
  "language_info": {
   "codemirror_mode": {
    "name": "ipython",
    "version": 3
   },
   "file_extension": ".py",
   "mimetype": "text/x-python",
   "name": "python",
   "nbconvert_exporter": "python",
   "pygments_lexer": "ipython3",
   "version": "3.10.12"
  }
 },
 "nbformat": 4,
 "nbformat_minor": 5
}
