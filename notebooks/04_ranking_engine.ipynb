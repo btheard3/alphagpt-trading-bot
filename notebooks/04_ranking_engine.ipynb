{
 "cells": [
  {
   "cell_type": "code",
   "execution_count": 1,
   "id": "221a30ad",
   "metadata": {},
   "outputs": [],
   "source": [
    "import sys\n",
    "sys.path.append(\"../\")\n",
    "from openai import OpenAI\n",
    "from dotenv import load_dotenv\n",
    "from pathlib import Path\n",
    "import json\n",
    "import os\n",
    "\n",
    "\n",
    "\n",
    "\n",
    "\n",
    "\n"
   ]
  },
  {
   "cell_type": "code",
   "execution_count": 2,
   "id": "07c454e2",
   "metadata": {},
   "outputs": [],
   "source": [
    "load_dotenv()\n",
    "api_key = os.getenv(\"OPENAI_API_KEY\")\n",
    "client = OpenAI(api_key=api_key)\n",
    "\n",
    "\n",
    "\n",
    "\n",
    "\n",
    "\n",
    "\n"
   ]
  },
  {
   "cell_type": "code",
   "execution_count": 3,
   "id": "a76c0a0d",
   "metadata": {},
   "outputs": [
    {
     "name": "stdout",
     "output_type": "stream",
     "text": [
      "✅ Loaded 3 strategies to rank.\n"
     ]
    }
   ],
   "source": [
    "input_path = Path(\"data/strategies_generated.json\")\n",
    "\n",
    "if input_path.exists():\n",
    "    with open(input_path, \"r\") as f:\n",
    "        raw_data = json.load(f)\n",
    "        strategies = raw_data.get(\"strategies\", [])\n",
    "    print(f\"✅ Loaded {len(strategies)} strategies to rank.\")\n",
    "else:\n",
    "    print(\"❌ strategies_generated.json not found.\")\n",
    "    strategies = []\n",
    "\n",
    "\n",
    "\n",
    "\n",
    "\n",
    "\n",
    "\n"
   ]
  },
  {
   "cell_type": "code",
   "execution_count": 4,
   "id": "da97e3ac",
   "metadata": {},
   "outputs": [],
   "source": [
    "strategy_block = \"\\n\\n\".join(\n",
    "    [f\"{i+1}. {s['strategy_name']}\\n- Description: {s['description']}\\n- Why it fits: {s['why_it_fits']}\\n- Best conditions: {s['best_conditions']}\" for i, s in enumerate(strategies)]\n",
    ")\n",
    "\n",
    "prompt = f\"\"\"\n",
    "You are an options strategy analyst. Rank the following strategies from most to least promising based on profit potential, trader alignment, and market adaptability.\n",
    "\n",
    "Return JSON in this format:\n",
    "{{\n",
    "  \"strategies\": [\n",
    "    {{\n",
    "      \"strategy_name\": \"...\",\n",
    "      \"rank\": 1,\n",
    "      \"reason\": \"...\"\n",
    "    }},\n",
    "    ...\n",
    "  ]\n",
    "}}\n",
    "\n",
    "Here are the strategies:\n",
    "{strategy_block}\n",
    "\"\"\"\n",
    "\n",
    "\n",
    "\n",
    "\n",
    "\n",
    "\n",
    "\n"
   ]
  },
  {
   "cell_type": "code",
   "execution_count": 5,
   "id": "4a23193b",
   "metadata": {},
   "outputs": [
    {
     "name": "stdout",
     "output_type": "stream",
     "text": [
      "📊 GPT Ranking Response Preview:\n",
      "\n",
      "{\n",
      "  \"strategies\": [\n",
      "    {\n",
      "      \"strategy_name\": \"Covered Call\",\n",
      "      \"rank\": 1,\n",
      "      \"reason\": \"The Covered Call strategy ranks first due to its ability to generate income and limit downside risk, which aligns with the trader's strengths. It also adapts well to a neutral or slightly bullish market, providing flexibility in various market conditions.\"\n",
      "    },\n",
      "    {\n",
      "      \"strategy_name\": \"Butterfly Spread\",\n",
      "      \"rank\": 2,\n",
      "      \"reason\": \"The Butterfly Spread is ranked second due to its defined risk-reward set-up and its ability to profit from time decay and limited price movement. However, it requires the market to be stable or slightly bullish, which may limit its adaptability in more volatile markets.\"\n",
      "    },\n",
      "    {\n",
      "      \"strategy_name\": \"Iron Condor\",\n",
      "      \"rank\": 3,\n",
      "      \"reason\": \"The Iron Condor strategy is ranked third as it requires the underlying asset to trade within a defined range until the options expire. While it aligns with the trader's preference for strategies th\n"
     ]
    }
   ],
   "source": [
    "response = client.chat.completions.create(\n",
    "    model=\"gpt-4\",\n",
    "    messages=[\n",
    "        {\"role\": \"system\", \"content\": \"You are an expert trading coach.\"},\n",
    "        {\"role\": \"user\", \"content\": prompt}\n",
    "    ],\n",
    "    temperature=0.5\n",
    ")\n",
    "\n",
    "ranking_output = response.choices[0].message.content.strip()\n",
    "print(\"📊 GPT Ranking Response Preview:\\n\")\n",
    "print(ranking_output[:1000])  # Preview only\n",
    "\n",
    "\n",
    "\n",
    "\n"
   ]
  },
  {
   "cell_type": "code",
   "execution_count": 6,
   "id": "cd03c3b8",
   "metadata": {},
   "outputs": [
    {
     "name": "stdout",
     "output_type": "stream",
     "text": [
      "\n",
      "✅ Saved 3 ranked strategies to data/ranked_strategies.json\n"
     ]
    }
   ],
   "source": [
    "try:\n",
    "    parsed = json.loads(ranking_output)\n",
    "    ranked = parsed.get(\"strategies\", [])\n",
    "except json.JSONDecodeError:\n",
    "    print(\"❌ Error decoding GPT output. Check formatting.\")\n",
    "    ranked = []\n",
    "\n",
    "output_path = Path(\"data/ranked_strategies.json\")\n",
    "with open(output_path, \"w\") as f:\n",
    "    json.dump({\"strategies\": ranked}, f, indent=2)\n",
    "\n",
    "print(f\"\\n✅ Saved {len(ranked)} ranked strategies to {output_path}\")\n"
   ]
  }
 ],
 "metadata": {
  "kernelspec": {
   "display_name": "Python 3",
   "language": "python",
   "name": "python3"
  },
  "language_info": {
   "codemirror_mode": {
    "name": "ipython",
    "version": 3
   },
   "file_extension": ".py",
   "mimetype": "text/x-python",
   "name": "python",
   "nbconvert_exporter": "python",
   "pygments_lexer": "ipython3",
   "version": "3.10.12"
  }
 },
 "nbformat": 4,
 "nbformat_minor": 5
}
