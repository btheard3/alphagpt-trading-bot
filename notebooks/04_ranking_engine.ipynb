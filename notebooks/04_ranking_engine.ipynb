{
 "cells": [
  {
   "cell_type": "code",
   "execution_count": 1,
   "id": "221a30ad",
   "metadata": {},
   "outputs": [],
   "source": [
    "import sys\n",
    "sys.path.append(\"../\")  # make sure it finds src\n",
    "import json\n",
    "from pathlib import Path\n",
    "from src.llm.rank_trades import rank_trades_with_gpt\n",
    "\n",
    "# Load strategies\n",
    "with open(\"data/strategies_generated.json\", \"r\") as f:\n",
    "    data = json.load(f)\n",
    "\n",
    "# Extract the list\n",
    "strategies = data[\"strategies\"]\n",
    "\n",
    "\n",
    "\n",
    "\n",
    "\n",
    "\n"
   ]
  },
  {
   "cell_type": "code",
   "execution_count": 2,
   "id": "07c454e2",
   "metadata": {},
   "outputs": [],
   "source": [
    "# Convert to string for GPT\n",
    "strategy_text = \"\\n\\n\".join([\n",
    "    f\"{i+1}. 📊 {s['strategy_name']}\\n\"\n",
    "    f\"- Description: {s['description']}\\n\"\n",
    "    f\"- Why this fits the trader: {s['why_it_fits']}\\n\"\n",
    "    f\"- Best conditions: {s['best_conditions']}\"\n",
    "    for i, s in enumerate(strategies)\n",
    "])\n"
   ]
  },
  {
   "cell_type": "code",
   "execution_count": 3,
   "id": "a76c0a0d",
   "metadata": {},
   "outputs": [
    {
     "name": "stdout",
     "output_type": "stream",
     "text": [
      "📈 GPT-Enhanced Ranking:\n",
      "\n",
      "Based on the criteria given, here is my ranking:\n",
      "\n",
      "1. **Covered Call Writing**\n",
      "   - Profit Potential: Moderate. The profit is limited to the premium received from selling the call options, but it is a safe and steady source of income.\n",
      "   - Fit for Calendar Spread Trader: Moderate. While not exactly a calendar spread, the concept of time decay and premium collection is similar.\n",
      "   - Risk Management Flexibility: High. The risk is limited to the potential decrease in the underlying asset's price, and the premium received provides some downside protection.\n",
      "\n",
      "2. **Iron Condor**\n",
      "   - Profit Potential: High. The Iron Condor strategy allows the trader to collect premium from both a call spread and a put spread, increasing the potential profit.\n",
      "   - Fit for Calendar Spread Trader: High. This strategy uses time decay to its advantage, much like a calendar spread. \n",
      "   - Risk Management Flexibility: Moderate. While the risk is limited to the difference between the strike prices minus the net premium received, it requires careful management to avoid losses if the underlying asset's price moves significantly.\n",
      "\n",
      "3. **Long Straddle**\n",
      "   - Profit Potential: High. This strategy has unlimited profit potential if the underlying asset's price moves significantly.\n",
      "   - Fit for Calendar Spread Trader: Low. This strategy is more about volatility than time decay and might be a bit of a stretch for a calendar spread trader.\n",
      "   - Risk Management Flexibility: Low. The risk is limited to the premium paid fo\n"
     ]
    }
   ],
   "source": [
    "# Run GPT-enhanced ranking\n",
    "ranking_output = rank_trades_with_gpt(strategy_text)\n",
    "\n",
    "# Save to file\n",
    "with open(\"data/ranked_strategies.txt\", \"w\") as f:\n",
    "    f.write(ranking_output)\n",
    "\n",
    "# Print preview\n",
    "print(\"📈 GPT-Enhanced Ranking:\\n\")\n",
    "print(ranking_output[:1500])\n"
   ]
  },
  {
   "cell_type": "code",
   "execution_count": 5,
   "id": "da97e3ac",
   "metadata": {},
   "outputs": [
    {
     "name": "stdout",
     "output_type": "stream",
     "text": [
      "\n",
      "✅ Structured ranking saved to data/ranked_strategies.json\n"
     ]
    }
   ],
   "source": [
    "# STEP 5: Save GPT Ranking Structurally\n",
    "from pathlib import Path\n",
    "import json\n",
    "import re\n",
    "\n",
    "# ✂️ Helper to extract structured entries from GPT text\n",
    "def parse_ranked_strategies(text):\n",
    "    strategies = []\n",
    "    pattern = r\"\\d+\\.\\s+\\*\\*(.*?)\\*\\*\\s*[\\r\\n-]+\\s*Profit potential:\\s*(.*?)\\.\\s*[\\r\\n-]+\\s*Fit for a trader.*?:\\s*(.*?)\\.\\s*[\\r\\n-]+\\s*Risk management flexibility:\\s*(.*?)\\.\"\n",
    "\n",
    "    matches = re.findall(pattern, text, re.DOTALL)\n",
    "\n",
    "    for idx, match in enumerate(matches, start=1):\n",
    "        strategies.append({\n",
    "            \"rank\": idx,\n",
    "            \"strategy_name\": match[0].strip(),\n",
    "            \"profit_potential\": match[1].strip(),\n",
    "            \"fit_for_trader\": match[2].strip(),\n",
    "            \"risk_flexibility\": match[3].strip()\n",
    "        })\n",
    "\n",
    "    return strategies\n",
    "\n",
    "# 🧠 Parse the ranking_output string\n",
    "structured_ranking = parse_ranked_strategies(ranking_output)\n",
    "\n",
    "# 💾 Save to file\n",
    "output_path = Path(\"data/ranked_strategies.json\")\n",
    "output_path.parent.mkdir(parents=True, exist_ok=True)\n",
    "\n",
    "with open(output_path, \"w\") as f:\n",
    "    json.dump(structured_ranking, f, indent=2)\n",
    "\n",
    "print(f\"\\n✅ Structured ranking saved to {output_path}\")\n",
    "\n",
    "\n"
   ]
  }
 ],
 "metadata": {
  "kernelspec": {
   "display_name": "Python 3",
   "language": "python",
   "name": "python3"
  },
  "language_info": {
   "codemirror_mode": {
    "name": "ipython",
    "version": 3
   },
   "file_extension": ".py",
   "mimetype": "text/x-python",
   "name": "python",
   "nbconvert_exporter": "python",
   "pygments_lexer": "ipython3",
   "version": "3.10.12"
  }
 },
 "nbformat": 4,
 "nbformat_minor": 5
}
