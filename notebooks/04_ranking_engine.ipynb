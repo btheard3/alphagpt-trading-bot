{
 "cells": [
  {
   "cell_type": "code",
   "execution_count": 1,
   "id": "221a30ad",
   "metadata": {},
   "outputs": [
    {
     "name": "stdout",
     "output_type": "stream",
     "text": [
      "✅ Loaded 3 strategies.\n"
     ]
    }
   ],
   "source": [
    "import sys\n",
    "sys.path.append(\"../\")\n",
    "\n",
    "# 📥 STEP 1: Load GPT-Generated Strategies\n",
    "import json\n",
    "from pathlib import Path\n",
    "\n",
    "strategies_path = Path(\"data/strategies_generated.json\")\n",
    "\n",
    "if strategies_path.exists():\n",
    "    with open(strategies_path, \"r\") as f:\n",
    "        strategies = json.load(f).get(\"strategies\", [])\n",
    "    print(f\"✅ Loaded {len(strategies)} strategies.\")\n",
    "else:\n",
    "    print(\"❌ strategies_generated.json not found.\")\n",
    "    strategies = []\n",
    "\n",
    "\n",
    "\n",
    "\n",
    "\n",
    "\n",
    "\n",
    "\n",
    "\n",
    "\n"
   ]
  },
  {
   "cell_type": "code",
   "execution_count": 2,
   "id": "07c454e2",
   "metadata": {},
   "outputs": [
    {
     "name": "stdout",
     "output_type": "stream",
     "text": [
      "📦 Preview of formatted strategies:\n",
      "1. 📊 **Iron Condor**\n",
      "- Description: An iron condor involves selling a call spread and a put spread on the same underlying asset with the same expiration date. This creates a range where the trade can profit.\n",
      "- Why this fits the trader: This strategy suits traders who have a knack for managing multiple positions, can stay calm under pressure and are comfortable with limited price movements – all characteristics shown by the trader.\n",
      "- Best conditions for this strategy: Ideal for a market that's expected to move sideways or within a relatively tight range.\n",
      "\n",
      "2. 📊 **Diagonal Call Spread**\n",
      "- Description: A diagonal call spread involves buying a longer-term call option and selling a shorter-term call option with a higher strike price. This strategy profits from both time decay and a moderate upward move in the underlying asset.\n",
      "- Why this fits the trader: The trader has shown success with calendar spreads, which are similar in structure but benefit from different price movements. This could p\n"
     ]
    }
   ],
   "source": [
    "# 🧠 STEP 2: Format strategies for GPT ranking\n",
    "formatted_strategies = \"\\n\\n\".join([\n",
    "    f\"{i+1}. 📊 **{s['strategy_name']}**\\n\"\n",
    "    f\"- Description: {s['description']}\\n\"\n",
    "    f\"- Why this fits the trader: {s['why_it_fits']}\\n\"\n",
    "    f\"- Best conditions for this strategy: {s['best_conditions']}\"\n",
    "    for i, s in enumerate(strategies)\n",
    "])\n",
    "\n",
    "print(\"📦 Preview of formatted strategies:\")\n",
    "print(formatted_strategies[:1000])\n",
    "\n",
    "\n",
    "\n",
    "\n",
    "\n",
    "\n"
   ]
  },
  {
   "cell_type": "code",
   "execution_count": 3,
   "id": "a76c0a0d",
   "metadata": {},
   "outputs": [
    {
     "name": "stdout",
     "output_type": "stream",
     "text": [
      "📄 GPT-Enhanced Ranking Preview:\n",
      "\n",
      "1. 📊 **Diagonal Call Spread**\n",
      "   - Ranking Reason: This strategy has the most potential for profit as it benefits from both time decay and upward movement in the underlying asset's price. The trader's past performance with calendar spreads suggests they have the necessary skills to effectively manage this strategy. The risk can be managed by adjusting the strike prices and expiration dates of the options.\n",
      "\n",
      "2. 📊 **Iron Condor**\n",
      "   - Ranking Reason: Iron Condor comes second as it offers moderate profit potential within a defined range. It fits well with the trader's ability to manage multiple positions and handle pressure. The risk management flexibility is relatively high because the trader can adjust the strike prices and widths of the spreads to control the level of risk.\n",
      "\n",
      "3. 📊 **Butterfly Spread**\n",
      "   - Ranking Reason: This strategy has the least profit potential as it only profits if the underlying asset's price stays close to the middle strike price. While the trader's willingness to learn and improvise is beneficial, the strategy is more complex and requires precise market predictions. Risk management flexibility is somewhat limited as the profit zone is narrowly defined by the middle strike price.\n"
     ]
    }
   ],
   "source": [
    "# 🤖 STEP 3: Compose prompt and call GPT\n",
    "from openai import OpenAI\n",
    "from dotenv import load_dotenv\n",
    "import os\n",
    "\n",
    "load_dotenv()\n",
    "api_key = os.getenv(\"OPENAI_API_KEY\")\n",
    "client = OpenAI(api_key=api_key)\n",
    "\n",
    "ranking_prompt = f\"\"\"\n",
    "You are a senior options strategist.\n",
    "\n",
    "Rank the following option strategies from best to worst based on:\n",
    "1. Profit Potential\n",
    "2. Fit for the trader based on their past performance\n",
    "3. Risk Management Flexibility\n",
    "\n",
    "Return only your ranked list and a short reason per strategy.\n",
    "\n",
    "{formatted_strategies}\n",
    "\"\"\"\n",
    "\n",
    "response = client.chat.completions.create(\n",
    "    model=\"gpt-4\",\n",
    "    messages=[\n",
    "        {\"role\": \"system\", \"content\": \"You are a trading strategist ranking expert.\"},\n",
    "        {\"role\": \"user\", \"content\": ranking_prompt}\n",
    "    ],\n",
    "    temperature=0.5\n",
    ")\n",
    "\n",
    "ranking_output = response.choices[0].message.content.strip()\n",
    "print(\"📄 GPT-Enhanced Ranking Preview:\\n\")\n",
    "print(ranking_output)\n",
    "\n",
    "\n",
    "\n",
    "\n",
    "\n",
    "\n"
   ]
  },
  {
   "cell_type": "code",
   "execution_count": 4,
   "id": "da97e3ac",
   "metadata": {},
   "outputs": [
    {
     "name": "stdout",
     "output_type": "stream",
     "text": [
      "🧪 Parsed 3 ranked strategies\n",
      "[{'strategy_name': '📊 **Diagonal Call Spread', 'rank': 1, 'reason': \"- Ranking Reason: This strategy has the most potential for profit as it benefits from both time decay and upward movement in the underlying asset's price. The trader's past performance with calendar spreads suggests they have the necessary skills to effectively manage this strategy. The risk can be managed by adjusting the strike prices and expiration dates of the options.\"}, {'strategy_name': '📊 **Iron Condor', 'rank': 2, 'reason': \"- Ranking Reason: Iron Condor comes second as it offers moderate profit potential within a defined range. It fits well with the trader's ability to manage multiple positions and handle pressure. The risk management flexibility is relatively high because the trader can adjust the strike prices and widths of the spreads to control the level of risk.\"}]\n"
     ]
    }
   ],
   "source": [
    "# 🧩 STEP 4: Parse the ranked output to structured format\n",
    "\n",
    "def parse_ranked_strategies(raw_text):\n",
    "    import re\n",
    "\n",
    "    blocks = re.split(r\"\\n\\d+\\.\\s\", \"\\n\" + raw_text.strip())\n",
    "    parsed = []\n",
    "\n",
    "    for block in blocks[1:]:\n",
    "        lines = block.strip().split(\"\\n\")\n",
    "        name_line = lines[0]\n",
    "        strategy_name = name_line.strip(\"** \").strip()\n",
    "        rationale = \" \".join(lines[1:]).strip()\n",
    "\n",
    "        parsed.append({\n",
    "            \"strategy_name\": strategy_name,\n",
    "            \"rank\": len(parsed) + 1,\n",
    "            \"reason\": rationale\n",
    "        })\n",
    "    \n",
    "    return parsed\n",
    "\n",
    "structured_ranking = parse_ranked_strategies(ranking_output)\n",
    "print(f\"🧪 Parsed {len(structured_ranking)} ranked strategies\")\n",
    "print(structured_ranking[:2])\n",
    "\n",
    "\n",
    "\n",
    "\n",
    "\n",
    "\n"
   ]
  },
  {
   "cell_type": "code",
   "execution_count": 5,
   "id": "4a23193b",
   "metadata": {},
   "outputs": [
    {
     "name": "stdout",
     "output_type": "stream",
     "text": [
      "✅ Saved ranked strategies to data/ranked_strategies.json\n"
     ]
    }
   ],
   "source": [
    "# 💾 STEP 5: Save to ranked_strategies.json\n",
    "output_path = Path(\"data/ranked_strategies.json\")\n",
    "output_path.parent.mkdir(parents=True, exist_ok=True)\n",
    "\n",
    "with open(output_path, \"w\") as f:\n",
    "    json.dump({\"ranked_strategies\": structured_ranking}, f, indent=2)\n",
    "\n",
    "print(f\"✅ Saved ranked strategies to {output_path}\")\n",
    "\n",
    "\n",
    "\n"
   ]
  }
 ],
 "metadata": {
  "kernelspec": {
   "display_name": "Python 3",
   "language": "python",
   "name": "python3"
  },
  "language_info": {
   "codemirror_mode": {
    "name": "ipython",
    "version": 3
   },
   "file_extension": ".py",
   "mimetype": "text/x-python",
   "name": "python",
   "nbconvert_exporter": "python",
   "pygments_lexer": "ipython3",
   "version": "3.10.12"
  }
 },
 "nbformat": 4,
 "nbformat_minor": 5
}
